{
  "nbformat": 4,
  "nbformat_minor": 0,
  "metadata": {
    "colab": {
      "provenance": [],
      "collapsed_sections": []
    },
    "kernelspec": {
      "name": "python3",
      "display_name": "Python 3"
    },
    "language_info": {
      "name": "python"
    }
  },
  "cells": [
    {
      "cell_type": "code",
      "execution_count": 2,
      "metadata": {
        "id": "ThEo57V1tBvp"
      },
      "outputs": [],
      "source": [
        "import numpy as np\n",
        "import pandas as pd\n",
        "pd.set_option('display.max_columns',100)\n",
        "import matplotlib.pyplot as plt\n",
        "import matplotlib as mat\n",
        "%matplotlib inline\n",
        "import seaborn as sns"
      ]
    },
    {
      "cell_type": "code",
      "source": [
        "cmap = sns.cubehelix_palette(light=1, as_cmap=True)"
      ],
      "metadata": {
        "id": "CYd4JBZItGlm"
      },
      "execution_count": 3,
      "outputs": []
    },
    {
      "cell_type": "code",
      "source": [
        "from google.colab import files\n",
        "uploaded = files.upload()"
      ],
      "metadata": {
        "colab": {
          "base_uri": "https://localhost:8080/",
          "height": 74
        },
        "id": "SXtVAQoRtIuS",
        "outputId": "1a311bd6-5534-41b8-9dfd-7c5d779e23e8"
      },
      "execution_count": 4,
      "outputs": [
        {
          "output_type": "display_data",
          "data": {
            "text/plain": [
              "<IPython.core.display.HTML object>"
            ],
            "text/html": [
              "\n",
              "     <input type=\"file\" id=\"files-d20120bd-01ef-45d0-97ab-a4ab80a21f63\" name=\"files[]\" multiple disabled\n",
              "        style=\"border:none\" />\n",
              "     <output id=\"result-d20120bd-01ef-45d0-97ab-a4ab80a21f63\">\n",
              "      Upload widget is only available when the cell has been executed in the\n",
              "      current browser session. Please rerun this cell to enable.\n",
              "      </output>\n",
              "      <script>// Copyright 2017 Google LLC\n",
              "//\n",
              "// Licensed under the Apache License, Version 2.0 (the \"License\");\n",
              "// you may not use this file except in compliance with the License.\n",
              "// You may obtain a copy of the License at\n",
              "//\n",
              "//      http://www.apache.org/licenses/LICENSE-2.0\n",
              "//\n",
              "// Unless required by applicable law or agreed to in writing, software\n",
              "// distributed under the License is distributed on an \"AS IS\" BASIS,\n",
              "// WITHOUT WARRANTIES OR CONDITIONS OF ANY KIND, either express or implied.\n",
              "// See the License for the specific language governing permissions and\n",
              "// limitations under the License.\n",
              "\n",
              "/**\n",
              " * @fileoverview Helpers for google.colab Python module.\n",
              " */\n",
              "(function(scope) {\n",
              "function span(text, styleAttributes = {}) {\n",
              "  const element = document.createElement('span');\n",
              "  element.textContent = text;\n",
              "  for (const key of Object.keys(styleAttributes)) {\n",
              "    element.style[key] = styleAttributes[key];\n",
              "  }\n",
              "  return element;\n",
              "}\n",
              "\n",
              "// Max number of bytes which will be uploaded at a time.\n",
              "const MAX_PAYLOAD_SIZE = 100 * 1024;\n",
              "\n",
              "function _uploadFiles(inputId, outputId) {\n",
              "  const steps = uploadFilesStep(inputId, outputId);\n",
              "  const outputElement = document.getElementById(outputId);\n",
              "  // Cache steps on the outputElement to make it available for the next call\n",
              "  // to uploadFilesContinue from Python.\n",
              "  outputElement.steps = steps;\n",
              "\n",
              "  return _uploadFilesContinue(outputId);\n",
              "}\n",
              "\n",
              "// This is roughly an async generator (not supported in the browser yet),\n",
              "// where there are multiple asynchronous steps and the Python side is going\n",
              "// to poll for completion of each step.\n",
              "// This uses a Promise to block the python side on completion of each step,\n",
              "// then passes the result of the previous step as the input to the next step.\n",
              "function _uploadFilesContinue(outputId) {\n",
              "  const outputElement = document.getElementById(outputId);\n",
              "  const steps = outputElement.steps;\n",
              "\n",
              "  const next = steps.next(outputElement.lastPromiseValue);\n",
              "  return Promise.resolve(next.value.promise).then((value) => {\n",
              "    // Cache the last promise value to make it available to the next\n",
              "    // step of the generator.\n",
              "    outputElement.lastPromiseValue = value;\n",
              "    return next.value.response;\n",
              "  });\n",
              "}\n",
              "\n",
              "/**\n",
              " * Generator function which is called between each async step of the upload\n",
              " * process.\n",
              " * @param {string} inputId Element ID of the input file picker element.\n",
              " * @param {string} outputId Element ID of the output display.\n",
              " * @return {!Iterable<!Object>} Iterable of next steps.\n",
              " */\n",
              "function* uploadFilesStep(inputId, outputId) {\n",
              "  const inputElement = document.getElementById(inputId);\n",
              "  inputElement.disabled = false;\n",
              "\n",
              "  const outputElement = document.getElementById(outputId);\n",
              "  outputElement.innerHTML = '';\n",
              "\n",
              "  const pickedPromise = new Promise((resolve) => {\n",
              "    inputElement.addEventListener('change', (e) => {\n",
              "      resolve(e.target.files);\n",
              "    });\n",
              "  });\n",
              "\n",
              "  const cancel = document.createElement('button');\n",
              "  inputElement.parentElement.appendChild(cancel);\n",
              "  cancel.textContent = 'Cancel upload';\n",
              "  const cancelPromise = new Promise((resolve) => {\n",
              "    cancel.onclick = () => {\n",
              "      resolve(null);\n",
              "    };\n",
              "  });\n",
              "\n",
              "  // Wait for the user to pick the files.\n",
              "  const files = yield {\n",
              "    promise: Promise.race([pickedPromise, cancelPromise]),\n",
              "    response: {\n",
              "      action: 'starting',\n",
              "    }\n",
              "  };\n",
              "\n",
              "  cancel.remove();\n",
              "\n",
              "  // Disable the input element since further picks are not allowed.\n",
              "  inputElement.disabled = true;\n",
              "\n",
              "  if (!files) {\n",
              "    return {\n",
              "      response: {\n",
              "        action: 'complete',\n",
              "      }\n",
              "    };\n",
              "  }\n",
              "\n",
              "  for (const file of files) {\n",
              "    const li = document.createElement('li');\n",
              "    li.append(span(file.name, {fontWeight: 'bold'}));\n",
              "    li.append(span(\n",
              "        `(${file.type || 'n/a'}) - ${file.size} bytes, ` +\n",
              "        `last modified: ${\n",
              "            file.lastModifiedDate ? file.lastModifiedDate.toLocaleDateString() :\n",
              "                                    'n/a'} - `));\n",
              "    const percent = span('0% done');\n",
              "    li.appendChild(percent);\n",
              "\n",
              "    outputElement.appendChild(li);\n",
              "\n",
              "    const fileDataPromise = new Promise((resolve) => {\n",
              "      const reader = new FileReader();\n",
              "      reader.onload = (e) => {\n",
              "        resolve(e.target.result);\n",
              "      };\n",
              "      reader.readAsArrayBuffer(file);\n",
              "    });\n",
              "    // Wait for the data to be ready.\n",
              "    let fileData = yield {\n",
              "      promise: fileDataPromise,\n",
              "      response: {\n",
              "        action: 'continue',\n",
              "      }\n",
              "    };\n",
              "\n",
              "    // Use a chunked sending to avoid message size limits. See b/62115660.\n",
              "    let position = 0;\n",
              "    do {\n",
              "      const length = Math.min(fileData.byteLength - position, MAX_PAYLOAD_SIZE);\n",
              "      const chunk = new Uint8Array(fileData, position, length);\n",
              "      position += length;\n",
              "\n",
              "      const base64 = btoa(String.fromCharCode.apply(null, chunk));\n",
              "      yield {\n",
              "        response: {\n",
              "          action: 'append',\n",
              "          file: file.name,\n",
              "          data: base64,\n",
              "        },\n",
              "      };\n",
              "\n",
              "      let percentDone = fileData.byteLength === 0 ?\n",
              "          100 :\n",
              "          Math.round((position / fileData.byteLength) * 100);\n",
              "      percent.textContent = `${percentDone}% done`;\n",
              "\n",
              "    } while (position < fileData.byteLength);\n",
              "  }\n",
              "\n",
              "  // All done.\n",
              "  yield {\n",
              "    response: {\n",
              "      action: 'complete',\n",
              "    }\n",
              "  };\n",
              "}\n",
              "\n",
              "scope.google = scope.google || {};\n",
              "scope.google.colab = scope.google.colab || {};\n",
              "scope.google.colab._files = {\n",
              "  _uploadFiles,\n",
              "  _uploadFilesContinue,\n",
              "};\n",
              "})(self);\n",
              "</script> "
            ]
          },
          "metadata": {}
        },
        {
          "output_type": "stream",
          "name": "stdout",
          "text": [
            "Saving ITSalariesClean.csv to ITSalariesClean.csv\n"
          ]
        }
      ]
    },
    {
      "cell_type": "code",
      "source": [
        "df = pd.read_csv('ITSalariesClean.csv')\n",
        "df.head()"
      ],
      "metadata": {
        "colab": {
          "base_uri": "https://localhost:8080/",
          "height": 409
        },
        "id": "lrRDYFXwuLZo",
        "outputId": "2cf2fb96-7363-4c69-cc01-d0d8f853d099"
      },
      "execution_count": 5,
      "outputs": [
        {
          "output_type": "execute_result",
          "data": {
            "text/plain": [
              "   Unnamed: 0   Age Gender            Position  TotalYearsExperience  \\\n",
              "0           0  26.0   Male   Software Engineer                   5.0   \n",
              "1           1  26.0   Male   Backend Developer                   7.0   \n",
              "2           2  28.0   Male  Frontend Developer                   4.0   \n",
              "3           3  37.0   Male   Backend Developer                  17.0   \n",
              "4           4  32.0   Male              DevOps                   5.0   \n",
              "\n",
              "   YearsExperienceGermany Seniority             MainSkill  \\\n",
              "0                     3.0    Senior            TypeScript   \n",
              "1                     4.0    Senior                  Ruby   \n",
              "2                     1.0    Junior            Javascript   \n",
              "3                     6.0    Senior               C# .NET   \n",
              "4                     1.0    Senior  AWS, GCP, Python,K8s   \n",
              "\n",
              "                                 SecondarySkills  BrutSalary  \\\n",
              "0                Kotlin, Javascript / Typescript     80000.0   \n",
              "1                                            NaN     80000.0   \n",
              "2                                            NaN     54000.0   \n",
              "3                         .NET, SQL, AWS, Docker     62000.0   \n",
              "4  Python, AWS, Google Cloud, Kubernetes, Docker     76000.0   \n",
              "\n",
              "   BrutSalaryAndStocks  AnnualBrutLastYear  AnnualBrutAndStocksLastYear  \\\n",
              "0               5000.0             75000.0                      10000.0   \n",
              "1               5000.0             82000.0                       5000.0   \n",
              "2               5000.0             65000.0                       5000.0   \n",
              "3               5000.0             62000.0                       5000.0   \n",
              "4               5000.0             76000.0                       5000.0   \n",
              "\n",
              "  VacationDays          Employment    ContractDuration CompanySize  \\\n",
              "0           30  Full-time employee  Unlimited contract      51-100   \n",
              "1           28  Full-time employee  Unlimited contract    101-1000   \n",
              "2           24  Full-time employee  Unlimited contract      51-100   \n",
              "3           29  Full-time employee  Unlimited contract    101-1000   \n",
              "4           30  Full-time employee  Unlimited contract       11-50   \n",
              "\n",
              "  CompanyType LossOfJobCorona  HoursIfShorterWeek  AdditionalMonetarySupport  \n",
              "0     Product              No           13.566568                      250.0  \n",
              "1     Product              No           13.566568                      250.0  \n",
              "2     Startup              No           13.566568                      250.0  \n",
              "3     Product              No           13.566568                      250.0  \n",
              "4     Startup              No           13.566568                      250.0  "
            ],
            "text/html": [
              "\n",
              "  <div id=\"df-c8c8d1da-282f-4030-89f5-f6a81aae4696\">\n",
              "    <div class=\"colab-df-container\">\n",
              "      <div>\n",
              "<style scoped>\n",
              "    .dataframe tbody tr th:only-of-type {\n",
              "        vertical-align: middle;\n",
              "    }\n",
              "\n",
              "    .dataframe tbody tr th {\n",
              "        vertical-align: top;\n",
              "    }\n",
              "\n",
              "    .dataframe thead th {\n",
              "        text-align: right;\n",
              "    }\n",
              "</style>\n",
              "<table border=\"1\" class=\"dataframe\">\n",
              "  <thead>\n",
              "    <tr style=\"text-align: right;\">\n",
              "      <th></th>\n",
              "      <th>Unnamed: 0</th>\n",
              "      <th>Age</th>\n",
              "      <th>Gender</th>\n",
              "      <th>Position</th>\n",
              "      <th>TotalYearsExperience</th>\n",
              "      <th>YearsExperienceGermany</th>\n",
              "      <th>Seniority</th>\n",
              "      <th>MainSkill</th>\n",
              "      <th>SecondarySkills</th>\n",
              "      <th>BrutSalary</th>\n",
              "      <th>BrutSalaryAndStocks</th>\n",
              "      <th>AnnualBrutLastYear</th>\n",
              "      <th>AnnualBrutAndStocksLastYear</th>\n",
              "      <th>VacationDays</th>\n",
              "      <th>Employment</th>\n",
              "      <th>ContractDuration</th>\n",
              "      <th>CompanySize</th>\n",
              "      <th>CompanyType</th>\n",
              "      <th>LossOfJobCorona</th>\n",
              "      <th>HoursIfShorterWeek</th>\n",
              "      <th>AdditionalMonetarySupport</th>\n",
              "    </tr>\n",
              "  </thead>\n",
              "  <tbody>\n",
              "    <tr>\n",
              "      <th>0</th>\n",
              "      <td>0</td>\n",
              "      <td>26.0</td>\n",
              "      <td>Male</td>\n",
              "      <td>Software Engineer</td>\n",
              "      <td>5.0</td>\n",
              "      <td>3.0</td>\n",
              "      <td>Senior</td>\n",
              "      <td>TypeScript</td>\n",
              "      <td>Kotlin, Javascript / Typescript</td>\n",
              "      <td>80000.0</td>\n",
              "      <td>5000.0</td>\n",
              "      <td>75000.0</td>\n",
              "      <td>10000.0</td>\n",
              "      <td>30</td>\n",
              "      <td>Full-time employee</td>\n",
              "      <td>Unlimited contract</td>\n",
              "      <td>51-100</td>\n",
              "      <td>Product</td>\n",
              "      <td>No</td>\n",
              "      <td>13.566568</td>\n",
              "      <td>250.0</td>\n",
              "    </tr>\n",
              "    <tr>\n",
              "      <th>1</th>\n",
              "      <td>1</td>\n",
              "      <td>26.0</td>\n",
              "      <td>Male</td>\n",
              "      <td>Backend Developer</td>\n",
              "      <td>7.0</td>\n",
              "      <td>4.0</td>\n",
              "      <td>Senior</td>\n",
              "      <td>Ruby</td>\n",
              "      <td>NaN</td>\n",
              "      <td>80000.0</td>\n",
              "      <td>5000.0</td>\n",
              "      <td>82000.0</td>\n",
              "      <td>5000.0</td>\n",
              "      <td>28</td>\n",
              "      <td>Full-time employee</td>\n",
              "      <td>Unlimited contract</td>\n",
              "      <td>101-1000</td>\n",
              "      <td>Product</td>\n",
              "      <td>No</td>\n",
              "      <td>13.566568</td>\n",
              "      <td>250.0</td>\n",
              "    </tr>\n",
              "    <tr>\n",
              "      <th>2</th>\n",
              "      <td>2</td>\n",
              "      <td>28.0</td>\n",
              "      <td>Male</td>\n",
              "      <td>Frontend Developer</td>\n",
              "      <td>4.0</td>\n",
              "      <td>1.0</td>\n",
              "      <td>Junior</td>\n",
              "      <td>Javascript</td>\n",
              "      <td>NaN</td>\n",
              "      <td>54000.0</td>\n",
              "      <td>5000.0</td>\n",
              "      <td>65000.0</td>\n",
              "      <td>5000.0</td>\n",
              "      <td>24</td>\n",
              "      <td>Full-time employee</td>\n",
              "      <td>Unlimited contract</td>\n",
              "      <td>51-100</td>\n",
              "      <td>Startup</td>\n",
              "      <td>No</td>\n",
              "      <td>13.566568</td>\n",
              "      <td>250.0</td>\n",
              "    </tr>\n",
              "    <tr>\n",
              "      <th>3</th>\n",
              "      <td>3</td>\n",
              "      <td>37.0</td>\n",
              "      <td>Male</td>\n",
              "      <td>Backend Developer</td>\n",
              "      <td>17.0</td>\n",
              "      <td>6.0</td>\n",
              "      <td>Senior</td>\n",
              "      <td>C# .NET</td>\n",
              "      <td>.NET, SQL, AWS, Docker</td>\n",
              "      <td>62000.0</td>\n",
              "      <td>5000.0</td>\n",
              "      <td>62000.0</td>\n",
              "      <td>5000.0</td>\n",
              "      <td>29</td>\n",
              "      <td>Full-time employee</td>\n",
              "      <td>Unlimited contract</td>\n",
              "      <td>101-1000</td>\n",
              "      <td>Product</td>\n",
              "      <td>No</td>\n",
              "      <td>13.566568</td>\n",
              "      <td>250.0</td>\n",
              "    </tr>\n",
              "    <tr>\n",
              "      <th>4</th>\n",
              "      <td>4</td>\n",
              "      <td>32.0</td>\n",
              "      <td>Male</td>\n",
              "      <td>DevOps</td>\n",
              "      <td>5.0</td>\n",
              "      <td>1.0</td>\n",
              "      <td>Senior</td>\n",
              "      <td>AWS, GCP, Python,K8s</td>\n",
              "      <td>Python, AWS, Google Cloud, Kubernetes, Docker</td>\n",
              "      <td>76000.0</td>\n",
              "      <td>5000.0</td>\n",
              "      <td>76000.0</td>\n",
              "      <td>5000.0</td>\n",
              "      <td>30</td>\n",
              "      <td>Full-time employee</td>\n",
              "      <td>Unlimited contract</td>\n",
              "      <td>11-50</td>\n",
              "      <td>Startup</td>\n",
              "      <td>No</td>\n",
              "      <td>13.566568</td>\n",
              "      <td>250.0</td>\n",
              "    </tr>\n",
              "  </tbody>\n",
              "</table>\n",
              "</div>\n",
              "      <button class=\"colab-df-convert\" onclick=\"convertToInteractive('df-c8c8d1da-282f-4030-89f5-f6a81aae4696')\"\n",
              "              title=\"Convert this dataframe to an interactive table.\"\n",
              "              style=\"display:none;\">\n",
              "        \n",
              "  <svg xmlns=\"http://www.w3.org/2000/svg\" height=\"24px\"viewBox=\"0 0 24 24\"\n",
              "       width=\"24px\">\n",
              "    <path d=\"M0 0h24v24H0V0z\" fill=\"none\"/>\n",
              "    <path d=\"M18.56 5.44l.94 2.06.94-2.06 2.06-.94-2.06-.94-.94-2.06-.94 2.06-2.06.94zm-11 1L8.5 8.5l.94-2.06 2.06-.94-2.06-.94L8.5 2.5l-.94 2.06-2.06.94zm10 10l.94 2.06.94-2.06 2.06-.94-2.06-.94-.94-2.06-.94 2.06-2.06.94z\"/><path d=\"M17.41 7.96l-1.37-1.37c-.4-.4-.92-.59-1.43-.59-.52 0-1.04.2-1.43.59L10.3 9.45l-7.72 7.72c-.78.78-.78 2.05 0 2.83L4 21.41c.39.39.9.59 1.41.59.51 0 1.02-.2 1.41-.59l7.78-7.78 2.81-2.81c.8-.78.8-2.07 0-2.86zM5.41 20L4 18.59l7.72-7.72 1.47 1.35L5.41 20z\"/>\n",
              "  </svg>\n",
              "      </button>\n",
              "      \n",
              "  <style>\n",
              "    .colab-df-container {\n",
              "      display:flex;\n",
              "      flex-wrap:wrap;\n",
              "      gap: 12px;\n",
              "    }\n",
              "\n",
              "    .colab-df-convert {\n",
              "      background-color: #E8F0FE;\n",
              "      border: none;\n",
              "      border-radius: 50%;\n",
              "      cursor: pointer;\n",
              "      display: none;\n",
              "      fill: #1967D2;\n",
              "      height: 32px;\n",
              "      padding: 0 0 0 0;\n",
              "      width: 32px;\n",
              "    }\n",
              "\n",
              "    .colab-df-convert:hover {\n",
              "      background-color: #E2EBFA;\n",
              "      box-shadow: 0px 1px 2px rgba(60, 64, 67, 0.3), 0px 1px 3px 1px rgba(60, 64, 67, 0.15);\n",
              "      fill: #174EA6;\n",
              "    }\n",
              "\n",
              "    [theme=dark] .colab-df-convert {\n",
              "      background-color: #3B4455;\n",
              "      fill: #D2E3FC;\n",
              "    }\n",
              "\n",
              "    [theme=dark] .colab-df-convert:hover {\n",
              "      background-color: #434B5C;\n",
              "      box-shadow: 0px 1px 3px 1px rgba(0, 0, 0, 0.15);\n",
              "      filter: drop-shadow(0px 1px 2px rgba(0, 0, 0, 0.3));\n",
              "      fill: #FFFFFF;\n",
              "    }\n",
              "  </style>\n",
              "\n",
              "      <script>\n",
              "        const buttonEl =\n",
              "          document.querySelector('#df-c8c8d1da-282f-4030-89f5-f6a81aae4696 button.colab-df-convert');\n",
              "        buttonEl.style.display =\n",
              "          google.colab.kernel.accessAllowed ? 'block' : 'none';\n",
              "\n",
              "        async function convertToInteractive(key) {\n",
              "          const element = document.querySelector('#df-c8c8d1da-282f-4030-89f5-f6a81aae4696');\n",
              "          const dataTable =\n",
              "            await google.colab.kernel.invokeFunction('convertToInteractive',\n",
              "                                                     [key], {});\n",
              "          if (!dataTable) return;\n",
              "\n",
              "          const docLinkHtml = 'Like what you see? Visit the ' +\n",
              "            '<a target=\"_blank\" href=https://colab.research.google.com/notebooks/data_table.ipynb>data table notebook</a>'\n",
              "            + ' to learn more about interactive tables.';\n",
              "          element.innerHTML = '';\n",
              "          dataTable['output_type'] = 'display_data';\n",
              "          await google.colab.output.renderOutput(dataTable, element);\n",
              "          const docLink = document.createElement('div');\n",
              "          docLink.innerHTML = docLinkHtml;\n",
              "          element.appendChild(docLink);\n",
              "        }\n",
              "      </script>\n",
              "    </div>\n",
              "  </div>\n",
              "  "
            ]
          },
          "metadata": {},
          "execution_count": 5
        }
      ]
    },
    {
      "cell_type": "code",
      "source": [
        "# Seems like the index got messed up when we exported our dataframe\n",
        "df = df.reset_index(drop=True)\n",
        "df = df.iloc[: , 1:]"
      ],
      "metadata": {
        "id": "wniF1gGMuWYu"
      },
      "execution_count": 6,
      "outputs": []
    },
    {
      "cell_type": "code",
      "source": [
        "df.head(1)"
      ],
      "metadata": {
        "colab": {
          "base_uri": "https://localhost:8080/",
          "height": 162
        },
        "id": "rD0xGircxfqg",
        "outputId": "905bf85d-6dbb-4dc9-9ed3-faffa548756a"
      },
      "execution_count": 7,
      "outputs": [
        {
          "output_type": "execute_result",
          "data": {
            "text/plain": [
              "    Age Gender           Position  TotalYearsExperience  \\\n",
              "0  26.0   Male  Software Engineer                   5.0   \n",
              "\n",
              "   YearsExperienceGermany Seniority   MainSkill  \\\n",
              "0                     3.0    Senior  TypeScript   \n",
              "\n",
              "                   SecondarySkills  BrutSalary  BrutSalaryAndStocks  \\\n",
              "0  Kotlin, Javascript / Typescript     80000.0               5000.0   \n",
              "\n",
              "   AnnualBrutLastYear  AnnualBrutAndStocksLastYear VacationDays  \\\n",
              "0             75000.0                      10000.0           30   \n",
              "\n",
              "           Employment    ContractDuration CompanySize CompanyType  \\\n",
              "0  Full-time employee  Unlimited contract      51-100     Product   \n",
              "\n",
              "  LossOfJobCorona  HoursIfShorterWeek  AdditionalMonetarySupport  \n",
              "0              No           13.566568                      250.0  "
            ],
            "text/html": [
              "\n",
              "  <div id=\"df-9ebbcad9-8fd2-4833-9c64-ca8c1c829a00\">\n",
              "    <div class=\"colab-df-container\">\n",
              "      <div>\n",
              "<style scoped>\n",
              "    .dataframe tbody tr th:only-of-type {\n",
              "        vertical-align: middle;\n",
              "    }\n",
              "\n",
              "    .dataframe tbody tr th {\n",
              "        vertical-align: top;\n",
              "    }\n",
              "\n",
              "    .dataframe thead th {\n",
              "        text-align: right;\n",
              "    }\n",
              "</style>\n",
              "<table border=\"1\" class=\"dataframe\">\n",
              "  <thead>\n",
              "    <tr style=\"text-align: right;\">\n",
              "      <th></th>\n",
              "      <th>Age</th>\n",
              "      <th>Gender</th>\n",
              "      <th>Position</th>\n",
              "      <th>TotalYearsExperience</th>\n",
              "      <th>YearsExperienceGermany</th>\n",
              "      <th>Seniority</th>\n",
              "      <th>MainSkill</th>\n",
              "      <th>SecondarySkills</th>\n",
              "      <th>BrutSalary</th>\n",
              "      <th>BrutSalaryAndStocks</th>\n",
              "      <th>AnnualBrutLastYear</th>\n",
              "      <th>AnnualBrutAndStocksLastYear</th>\n",
              "      <th>VacationDays</th>\n",
              "      <th>Employment</th>\n",
              "      <th>ContractDuration</th>\n",
              "      <th>CompanySize</th>\n",
              "      <th>CompanyType</th>\n",
              "      <th>LossOfJobCorona</th>\n",
              "      <th>HoursIfShorterWeek</th>\n",
              "      <th>AdditionalMonetarySupport</th>\n",
              "    </tr>\n",
              "  </thead>\n",
              "  <tbody>\n",
              "    <tr>\n",
              "      <th>0</th>\n",
              "      <td>26.0</td>\n",
              "      <td>Male</td>\n",
              "      <td>Software Engineer</td>\n",
              "      <td>5.0</td>\n",
              "      <td>3.0</td>\n",
              "      <td>Senior</td>\n",
              "      <td>TypeScript</td>\n",
              "      <td>Kotlin, Javascript / Typescript</td>\n",
              "      <td>80000.0</td>\n",
              "      <td>5000.0</td>\n",
              "      <td>75000.0</td>\n",
              "      <td>10000.0</td>\n",
              "      <td>30</td>\n",
              "      <td>Full-time employee</td>\n",
              "      <td>Unlimited contract</td>\n",
              "      <td>51-100</td>\n",
              "      <td>Product</td>\n",
              "      <td>No</td>\n",
              "      <td>13.566568</td>\n",
              "      <td>250.0</td>\n",
              "    </tr>\n",
              "  </tbody>\n",
              "</table>\n",
              "</div>\n",
              "      <button class=\"colab-df-convert\" onclick=\"convertToInteractive('df-9ebbcad9-8fd2-4833-9c64-ca8c1c829a00')\"\n",
              "              title=\"Convert this dataframe to an interactive table.\"\n",
              "              style=\"display:none;\">\n",
              "        \n",
              "  <svg xmlns=\"http://www.w3.org/2000/svg\" height=\"24px\"viewBox=\"0 0 24 24\"\n",
              "       width=\"24px\">\n",
              "    <path d=\"M0 0h24v24H0V0z\" fill=\"none\"/>\n",
              "    <path d=\"M18.56 5.44l.94 2.06.94-2.06 2.06-.94-2.06-.94-.94-2.06-.94 2.06-2.06.94zm-11 1L8.5 8.5l.94-2.06 2.06-.94-2.06-.94L8.5 2.5l-.94 2.06-2.06.94zm10 10l.94 2.06.94-2.06 2.06-.94-2.06-.94-.94-2.06-.94 2.06-2.06.94z\"/><path d=\"M17.41 7.96l-1.37-1.37c-.4-.4-.92-.59-1.43-.59-.52 0-1.04.2-1.43.59L10.3 9.45l-7.72 7.72c-.78.78-.78 2.05 0 2.83L4 21.41c.39.39.9.59 1.41.59.51 0 1.02-.2 1.41-.59l7.78-7.78 2.81-2.81c.8-.78.8-2.07 0-2.86zM5.41 20L4 18.59l7.72-7.72 1.47 1.35L5.41 20z\"/>\n",
              "  </svg>\n",
              "      </button>\n",
              "      \n",
              "  <style>\n",
              "    .colab-df-container {\n",
              "      display:flex;\n",
              "      flex-wrap:wrap;\n",
              "      gap: 12px;\n",
              "    }\n",
              "\n",
              "    .colab-df-convert {\n",
              "      background-color: #E8F0FE;\n",
              "      border: none;\n",
              "      border-radius: 50%;\n",
              "      cursor: pointer;\n",
              "      display: none;\n",
              "      fill: #1967D2;\n",
              "      height: 32px;\n",
              "      padding: 0 0 0 0;\n",
              "      width: 32px;\n",
              "    }\n",
              "\n",
              "    .colab-df-convert:hover {\n",
              "      background-color: #E2EBFA;\n",
              "      box-shadow: 0px 1px 2px rgba(60, 64, 67, 0.3), 0px 1px 3px 1px rgba(60, 64, 67, 0.15);\n",
              "      fill: #174EA6;\n",
              "    }\n",
              "\n",
              "    [theme=dark] .colab-df-convert {\n",
              "      background-color: #3B4455;\n",
              "      fill: #D2E3FC;\n",
              "    }\n",
              "\n",
              "    [theme=dark] .colab-df-convert:hover {\n",
              "      background-color: #434B5C;\n",
              "      box-shadow: 0px 1px 3px 1px rgba(0, 0, 0, 0.15);\n",
              "      filter: drop-shadow(0px 1px 2px rgba(0, 0, 0, 0.3));\n",
              "      fill: #FFFFFF;\n",
              "    }\n",
              "  </style>\n",
              "\n",
              "      <script>\n",
              "        const buttonEl =\n",
              "          document.querySelector('#df-9ebbcad9-8fd2-4833-9c64-ca8c1c829a00 button.colab-df-convert');\n",
              "        buttonEl.style.display =\n",
              "          google.colab.kernel.accessAllowed ? 'block' : 'none';\n",
              "\n",
              "        async function convertToInteractive(key) {\n",
              "          const element = document.querySelector('#df-9ebbcad9-8fd2-4833-9c64-ca8c1c829a00');\n",
              "          const dataTable =\n",
              "            await google.colab.kernel.invokeFunction('convertToInteractive',\n",
              "                                                     [key], {});\n",
              "          if (!dataTable) return;\n",
              "\n",
              "          const docLinkHtml = 'Like what you see? Visit the ' +\n",
              "            '<a target=\"_blank\" href=https://colab.research.google.com/notebooks/data_table.ipynb>data table notebook</a>'\n",
              "            + ' to learn more about interactive tables.';\n",
              "          element.innerHTML = '';\n",
              "          dataTable['output_type'] = 'display_data';\n",
              "          await google.colab.output.renderOutput(dataTable, element);\n",
              "          const docLink = document.createElement('div');\n",
              "          docLink.innerHTML = docLinkHtml;\n",
              "          element.appendChild(docLink);\n",
              "        }\n",
              "      </script>\n",
              "    </div>\n",
              "  </div>\n",
              "  "
            ]
          },
          "metadata": {},
          "execution_count": 7
        }
      ]
    },
    {
      "cell_type": "code",
      "source": [
        "# How does our data look?\n",
        "print(\"Dataset contains {} rows and {} columns.\".format(df.shape[0], df.shape[1]))"
      ],
      "metadata": {
        "colab": {
          "base_uri": "https://localhost:8080/"
        },
        "id": "5fP079KzunGt",
        "outputId": "bb23b40a-4f2b-44c6-a02e-1c94385dd7b0"
      },
      "execution_count": 8,
      "outputs": [
        {
          "output_type": "stream",
          "name": "stdout",
          "text": [
            "Dataset contains 1092 rows and 20 columns.\n"
          ]
        }
      ]
    },
    {
      "cell_type": "code",
      "source": [
        "df[df[\"Gender\"] == \"Female\"]['TotalYearsExperience'].plot(kind='hist', title= \"Years of Experience Distribution for Women\", bins = 12, color = \"g\")\n"
      ],
      "metadata": {
        "colab": {
          "base_uri": "https://localhost:8080/",
          "height": 298
        },
        "id": "3EEafYNCo8DZ",
        "outputId": "b473065d-7bc7-4fd5-8860-9a8b721d363e"
      },
      "execution_count": 9,
      "outputs": [
        {
          "output_type": "execute_result",
          "data": {
            "text/plain": [
              "<matplotlib.axes._subplots.AxesSubplot at 0x7feb9c5b1550>"
            ]
          },
          "metadata": {},
          "execution_count": 9
        },
        {
          "output_type": "display_data",
          "data": {
            "text/plain": [
              "<Figure size 432x288 with 1 Axes>"
            ],
            "image/png": "[encoded data removed]"
          },
          "metadata": {
            "needs_background": "light"
          }
        }
      ]
    },
    {
      "cell_type": "code",
      "source": [
        "df[df[\"Gender\"] == \"Male\"]['TotalYearsExperience'].plot(kind='hist', title= \"Years of Experience Distribution for Men\", bins = 12, color = \"g\")"
      ],
      "metadata": {
        "colab": {
          "base_uri": "https://localhost:8080/",
          "height": 298
        },
        "id": "ZcpDdsVsoPr8",
        "outputId": "46035cf2-b8d8-4aeb-f3a6-29d443d24d6e"
      },
      "execution_count": 10,
      "outputs": [
        {
          "output_type": "execute_result",
          "data": {
            "text/plain": [
              "<matplotlib.axes._subplots.AxesSubplot at 0x7feb9b736cd0>"
            ]
          },
          "metadata": {},
          "execution_count": 10
        },
        {
          "output_type": "display_data",
          "data": {
            "text/plain": [
              "<Figure size 432x288 with 1 Axes>"
            ],
            "image/png": "[encoded data removed]"
          },
          "metadata": {
            "needs_background": "light"
          }
        }
      ]
    },
    {
      "cell_type": "code",
      "source": [
        "df['TotalYearsExperience'].plot(kind='hist', title= \"Years of Experience Distribution for Men\", bins = 12, color = \"g\")"
      ],
      "metadata": {
        "colab": {
          "base_uri": "https://localhost:8080/",
          "height": 298
        },
        "id": "o_HpZePn8wqs",
        "outputId": "7b3b9171-1604-4912-b404-4a6c54e6ce88"
      },
      "execution_count": 11,
      "outputs": [
        {
          "output_type": "execute_result",
          "data": {
            "text/plain": [
              "<matplotlib.axes._subplots.AxesSubplot at 0x7feb9bbb7690>"
            ]
          },
          "metadata": {},
          "execution_count": 11
        },
        {
          "output_type": "display_data",
          "data": {
            "text/plain": [
              "<Figure size 432x288 with 1 Axes>"
            ],
            "image/png": "[encoded data removed]"
          },
          "metadata": {
            "needs_background": "light"
          }
        }
      ]
    },
    {
      "cell_type": "code",
      "source": [
        "df[df[\"Gender\"] == \"Male\"]['Age'].plot(kind='hist', title= \"Age Distribution for Men\", bins = 12, color = \"g\")"
      ],
      "metadata": {
        "colab": {
          "base_uri": "https://localhost:8080/",
          "height": 298
        },
        "id": "woGNvkdq-Ktx",
        "outputId": "fdfe0cce-ac47-48a8-c8a7-329050373b42"
      },
      "execution_count": 12,
      "outputs": [
        {
          "output_type": "execute_result",
          "data": {
            "text/plain": [
              "<matplotlib.axes._subplots.AxesSubplot at 0x7feb9b660850>"
            ]
          },
          "metadata": {},
          "execution_count": 12
        },
        {
          "output_type": "display_data",
          "data": {
            "text/plain": [
              "<Figure size 432x288 with 1 Axes>"
            ],
            "image/png": "[encoded data removed]"
          },
          "metadata": {
            "needs_background": "light"
          }
        }
      ]
    },
    {
      "cell_type": "code",
      "source": [
        "df[df[\"Gender\"] == \"Female\"]['Age'].plot(kind='hist', title= \"Age Distribution for Women\", bins = 12, color = \"g\")"
      ],
      "metadata": {
        "colab": {
          "base_uri": "https://localhost:8080/",
          "height": 298
        },
        "id": "0HaU9stL-OzT",
        "outputId": "2d66a25f-4d80-4d15-cbb9-9b5c5880fffd"
      },
      "execution_count": 13,
      "outputs": [
        {
          "output_type": "execute_result",
          "data": {
            "text/plain": [
              "<matplotlib.axes._subplots.AxesSubplot at 0x7feb9bbd3cd0>"
            ]
          },
          "metadata": {},
          "execution_count": 13
        },
        {
          "output_type": "display_data",
          "data": {
            "text/plain": [
              "<Figure size 432x288 with 1 Axes>"
            ],
            "image/png": "[encoded data removed]"
          },
          "metadata": {
            "needs_background": "light"
          }
        }
      ]
    },
    {
      "cell_type": "code",
      "source": [
        "df[df['Gender'] == \"Female\"].shape[0]\n",
        "df[df['Gender'] == \"Male\"].shape[0]"
      ],
      "metadata": {
        "colab": {
          "base_uri": "https://localhost:8080/"
        },
        "id": "8szKSs0C-rL0",
        "outputId": "b3ff5305-5da3-4584-8e26-2fda53777d09"
      },
      "execution_count": 14,
      "outputs": [
        {
          "output_type": "execute_result",
          "data": {
            "text/plain": [
              "940"
            ]
          },
          "metadata": {},
          "execution_count": 14
        }
      ]
    },
    {
      "cell_type": "code",
      "source": [
        "# Stats Age\n",
        "mage_women = df[df['Gender'] == \"Female\"]['Age'].mean()\n",
        "mage_men = df[df['Gender'] == \"Male\"]['Age'].mean()\n",
        "print(\"The average age for women is {}, while for men it is {}.\".format(mage_women, mage_men))\n",
        "\n",
        "minage_women = df[df['Gender'] == \"Female\"]['Age'].min()\n",
        "minage_men = df[df['Gender'] == \"Male\"]['Age'].min()\n",
        "print(\"The minimum age for women is {}, while for men it is {}.\".format(minage_women, minage_men))\n",
        "\n",
        "maxage_women = df[df['Gender'] == \"Female\"]['Age'].max()\n",
        "maxage_men = df[df['Gender'] == \"Male\"]['Age'].max()\n",
        "print(\"The maximum age for women is {}, while for men it is {}.\".format(maxage_women, maxage_men))"
      ],
      "metadata": {
        "colab": {
          "base_uri": "https://localhost:8080/"
        },
        "id": "ZiBic-IT-8Lj",
        "outputId": "e36c59e4-852d-42bb-a9b6-e3a0a7f3a96a"
      },
      "execution_count": 15,
      "outputs": [
        {
          "output_type": "stream",
          "name": "stdout",
          "text": [
            "The average age for women is 31.125827814569536, while for men it is 32.64372656046935.\n",
            "The minimum age for women is 21.0, while for men it is 22.0.\n",
            "The maximum age for women is 45.0, while for men it is 66.0.\n"
          ]
        }
      ]
    },
    {
      "cell_type": "code",
      "source": [
        "# Stats Years of Experience\n",
        "mexp_women = df[df['Gender'] == \"Female\"]['TotalYearsExperience'].mean()\n",
        "mexp_men = df[df['Gender'] == \"Male\"]['TotalYearsExperience'].mean()\n",
        "print(\"The average experience for women is {}, while for men it is {}.\".format(mexp_women, mexp_men))\n",
        "\n",
        "medexp_women = df[df['Gender'] == \"Female\"]['TotalYearsExperience'].median()\n",
        "medexp_men = df[df['Gender'] == \"Male\"]['TotalYearsExperience'].median()\n",
        "print(\"The median experience for women is {}, while for men it is {}.\".format(medexp_women, medexp_men))\n",
        "\n",
        "maxexp_women = df[df['Gender'] == \"Female\"]['TotalYearsExperience'].max()\n",
        "maxexp_men = df[df['Gender'] == \"Male\"]['TotalYearsExperience'].max()\n",
        "print(\"The maximum experience for women is {}, while for men it is {}.\".format(maxexp_women, maxexp_men))"
      ],
      "metadata": {
        "colab": {
          "base_uri": "https://localhost:8080/"
        },
        "id": "EXyQGrLWABDI",
        "outputId": "63744610-0de9-4e92-a8b1-1945827f80c8"
      },
      "execution_count": 16,
      "outputs": [
        {
          "output_type": "stream",
          "name": "stdout",
          "text": [
            "The average experience for women is 6.378805653507641, while for men it is 9.149570783826103.\n",
            "The median experience for women is 6.0, while for men it is 8.0.\n",
            "The maximum experience for women is 20.0, while for men it is 40.0.\n"
          ]
        }
      ]
    },
    {
      "cell_type": "code",
      "source": [
        "# Seniority\n",
        "df['SeniorityLevel'] = 0"
      ],
      "metadata": {
        "id": "V35M4lXSycId"
      },
      "execution_count": 17,
      "outputs": []
    },
    {
      "cell_type": "code",
      "source": [
        "df.loc[(df[\"Seniority\"] == \"Student\") | (df['Seniority'] == \"Intern\")|\n",
        "        (df['Seniority'] == 'No level') |(df['Seniority'] == 'Junior'),\n",
        "         \"SeniorityLevel\"] = 1\n",
        "\n",
        "df.loc[(df[\"Seniority\"] == \"Manager\") | (df['Seniority'] == \"Lead\")|\n",
        "        (df['Seniority'] == 'Head') |(df['Seniority'] == 'Middle'),\n",
        "         \"SeniorityLevel\"] = 2 \n",
        "\n",
        "df.loc[(df[\"Seniority\"] == \"Director\") | (df['Seniority'] == \"Principal\")|\n",
        "        (df['Seniority'] == 'Senior') |(df['Seniority'] == 'VP'),\n",
        "         \"SeniorityLevel\"] = 3   "
      ],
      "metadata": {
        "id": "lv4Nr21U0MxM"
      },
      "execution_count": 18,
      "outputs": []
    },
    {
      "cell_type": "code",
      "source": [
        "list(set(df['Seniority'].values.tolist()))\n",
        "delete = ['nan', 'Key', 'Work Center Manager', 'C-level executive manager', 'No level ', 'intern']\n",
        "\n",
        "indexes = []\n",
        "for index,row in df.iterrows():\n",
        "    if row['Seniority'] in delete:\n",
        "      indexes.append(index)\n",
        "\n",
        "df.drop(indexes, axis=0, inplace=True)\n",
        "df = df.reset_index(drop=True)"
      ],
      "metadata": {
        "id": "n6a0QbH5DOoS"
      },
      "execution_count": 19,
      "outputs": []
    },
    {
      "cell_type": "code",
      "source": [
        "df['SeniorityLevel'].values.sum()"
      ],
      "metadata": {
        "colab": {
          "base_uri": "https://localhost:8080/"
        },
        "id": "hvszbQISzG3i",
        "outputId": "2e6e1057-8f36-4bde-9e25-718fa918944b"
      },
      "execution_count": 20,
      "outputs": [
        {
          "output_type": "execute_result",
          "data": {
            "text/plain": [
              "2608"
            ]
          },
          "metadata": {},
          "execution_count": 20
        }
      ]
    },
    {
      "cell_type": "code",
      "source": [
        "# EMployment\n",
        "employment_types = list(set(df['Employment'].values.tolist()))\n",
        "employment_types\n",
        "\n",
        "df['EmploymentType'] = 0\n",
        "\n",
        "cond1 = ((df['Employment'] == 'working student') |\n",
        "         (df['Employment'] == 'Werkstudent'))\n",
        "df.loc[cond1,'EmploymentType'] = 1\n",
        "\n",
        "cond2 = ((df['Employment'] == 'Self-employed (freelancer)'))\n",
        "df.loc[cond2,'EmploymentType'] = 2\n",
        "\n",
        "\n",
        "cond3 = ((df['Employment'] == 'Part-time employee'))\n",
        "df.loc[cond3,'EmploymentType'] = 3\n",
        "\n",
        "cond4 = ((df['Employment'] == \"full-time, but 32 hours per week (it was my request, I'm a student)\") |\n",
        "         (df['Employment'] == \"Full-time employee\"))\n",
        "df.loc[cond4,'EmploymentType'] = 4\n",
        "\n",
        "cond5 = ((df['Employment'] == \"Founder\"))\n",
        "df.loc[cond2,'EmploymentType'] = 5\n",
        "\n"
      ],
      "metadata": {
        "id": "GjzRmNBz27IG"
      },
      "execution_count": 21,
      "outputs": []
    },
    {
      "cell_type": "code",
      "source": [
        "df.sample(1)"
      ],
      "metadata": {
        "colab": {
          "base_uri": "https://localhost:8080/",
          "height": 162
        },
        "id": "O8riUDtQ3kUE",
        "outputId": "0d6d0b05-1c76-4935-eeb2-ee86c8b4ae0a"
      },
      "execution_count": 22,
      "outputs": [
        {
          "output_type": "execute_result",
          "data": {
            "text/plain": [
              "     Age  Gender       Position  TotalYearsExperience  YearsExperienceGermany  \\\n",
              "91  31.0  Female  agile master                   14.0                     7.0   \n",
              "\n",
              "   Seniority MainSkill SecondarySkills  BrutSalary  BrutSalaryAndStocks  \\\n",
              "91    Middle      none             NaN     80000.0               5000.0   \n",
              "\n",
              "    AnnualBrutLastYear  AnnualBrutAndStocksLastYear VacationDays  \\\n",
              "91             80000.0                       5000.0           30   \n",
              "\n",
              "            Employment    ContractDuration CompanySize CompanyType  \\\n",
              "91  Full-time employee  Unlimited contract       1000+     Product   \n",
              "\n",
              "   LossOfJobCorona  HoursIfShorterWeek  AdditionalMonetarySupport  \\\n",
              "91              No           13.566568                      250.0   \n",
              "\n",
              "    SeniorityLevel  EmploymentType  \n",
              "91               2               4  "
            ],
            "text/html": [
              "\n",
              "  <div id=\"df-7e00d2c9-a5b6-4ff4-9ef7-e307319381ea\">\n",
              "    <div class=\"colab-df-container\">\n",
              "      <div>\n",
              "<style scoped>\n",
              "    .dataframe tbody tr th:only-of-type {\n",
              "        vertical-align: middle;\n",
              "    }\n",
              "\n",
              "    .dataframe tbody tr th {\n",
              "        vertical-align: top;\n",
              "    }\n",
              "\n",
              "    .dataframe thead th {\n",
              "        text-align: right;\n",
              "    }\n",
              "</style>\n",
              "<table border=\"1\" class=\"dataframe\">\n",
              "  <thead>\n",
              "    <tr style=\"text-align: right;\">\n",
              "      <th></th>\n",
              "      <th>Age</th>\n",
              "      <th>Gender</th>\n",
              "      <th>Position</th>\n",
              "      <th>TotalYearsExperience</th>\n",
              "      <th>YearsExperienceGermany</th>\n",
              "      <th>Seniority</th>\n",
              "      <th>MainSkill</th>\n",
              "      <th>SecondarySkills</th>\n",
              "      <th>BrutSalary</th>\n",
              "      <th>BrutSalaryAndStocks</th>\n",
              "      <th>AnnualBrutLastYear</th>\n",
              "      <th>AnnualBrutAndStocksLastYear</th>\n",
              "      <th>VacationDays</th>\n",
              "      <th>Employment</th>\n",
              "      <th>ContractDuration</th>\n",
              "      <th>CompanySize</th>\n",
              "      <th>CompanyType</th>\n",
              "      <th>LossOfJobCorona</th>\n",
              "      <th>HoursIfShorterWeek</th>\n",
              "      <th>AdditionalMonetarySupport</th>\n",
              "      <th>SeniorityLevel</th>\n",
              "      <th>EmploymentType</th>\n",
              "    </tr>\n",
              "  </thead>\n",
              "  <tbody>\n",
              "    <tr>\n",
              "      <th>91</th>\n",
              "      <td>31.0</td>\n",
              "      <td>Female</td>\n",
              "      <td>agile master</td>\n",
              "      <td>14.0</td>\n",
              "      <td>7.0</td>\n",
              "      <td>Middle</td>\n",
              "      <td>none</td>\n",
              "      <td>NaN</td>\n",
              "      <td>80000.0</td>\n",
              "      <td>5000.0</td>\n",
              "      <td>80000.0</td>\n",
              "      <td>5000.0</td>\n",
              "      <td>30</td>\n",
              "      <td>Full-time employee</td>\n",
              "      <td>Unlimited contract</td>\n",
              "      <td>1000+</td>\n",
              "      <td>Product</td>\n",
              "      <td>No</td>\n",
              "      <td>13.566568</td>\n",
              "      <td>250.0</td>\n",
              "      <td>2</td>\n",
              "      <td>4</td>\n",
              "    </tr>\n",
              "  </tbody>\n",
              "</table>\n",
              "</div>\n",
              "      <button class=\"colab-df-convert\" onclick=\"convertToInteractive('df-7e00d2c9-a5b6-4ff4-9ef7-e307319381ea')\"\n",
              "              title=\"Convert this dataframe to an interactive table.\"\n",
              "              style=\"display:none;\">\n",
              "        \n",
              "  <svg xmlns=\"http://www.w3.org/2000/svg\" height=\"24px\"viewBox=\"0 0 24 24\"\n",
              "       width=\"24px\">\n",
              "    <path d=\"M0 0h24v24H0V0z\" fill=\"none\"/>\n",
              "    <path d=\"M18.56 5.44l.94 2.06.94-2.06 2.06-.94-2.06-.94-.94-2.06-.94 2.06-2.06.94zm-11 1L8.5 8.5l.94-2.06 2.06-.94-2.06-.94L8.5 2.5l-.94 2.06-2.06.94zm10 10l.94 2.06.94-2.06 2.06-.94-2.06-.94-.94-2.06-.94 2.06-2.06.94z\"/><path d=\"M17.41 7.96l-1.37-1.37c-.4-.4-.92-.59-1.43-.59-.52 0-1.04.2-1.43.59L10.3 9.45l-7.72 7.72c-.78.78-.78 2.05 0 2.83L4 21.41c.39.39.9.59 1.41.59.51 0 1.02-.2 1.41-.59l7.78-7.78 2.81-2.81c.8-.78.8-2.07 0-2.86zM5.41 20L4 18.59l7.72-7.72 1.47 1.35L5.41 20z\"/>\n",
              "  </svg>\n",
              "      </button>\n",
              "      \n",
              "  <style>\n",
              "    .colab-df-container {\n",
              "      display:flex;\n",
              "      flex-wrap:wrap;\n",
              "      gap: 12px;\n",
              "    }\n",
              "\n",
              "    .colab-df-convert {\n",
              "      background-color: #E8F0FE;\n",
              "      border: none;\n",
              "      border-radius: 50%;\n",
              "      cursor: pointer;\n",
              "      display: none;\n",
              "      fill: #1967D2;\n",
              "      height: 32px;\n",
              "      padding: 0 0 0 0;\n",
              "      width: 32px;\n",
              "    }\n",
              "\n",
              "    .colab-df-convert:hover {\n",
              "      background-color: #E2EBFA;\n",
              "      box-shadow: 0px 1px 2px rgba(60, 64, 67, 0.3), 0px 1px 3px 1px rgba(60, 64, 67, 0.15);\n",
              "      fill: #174EA6;\n",
              "    }\n",
              "\n",
              "    [theme=dark] .colab-df-convert {\n",
              "      background-color: #3B4455;\n",
              "      fill: #D2E3FC;\n",
              "    }\n",
              "\n",
              "    [theme=dark] .colab-df-convert:hover {\n",
              "      background-color: #434B5C;\n",
              "      box-shadow: 0px 1px 3px 1px rgba(0, 0, 0, 0.15);\n",
              "      filter: drop-shadow(0px 1px 2px rgba(0, 0, 0, 0.3));\n",
              "      fill: #FFFFFF;\n",
              "    }\n",
              "  </style>\n",
              "\n",
              "      <script>\n",
              "        const buttonEl =\n",
              "          document.querySelector('#df-7e00d2c9-a5b6-4ff4-9ef7-e307319381ea button.colab-df-convert');\n",
              "        buttonEl.style.display =\n",
              "          google.colab.kernel.accessAllowed ? 'block' : 'none';\n",
              "\n",
              "        async function convertToInteractive(key) {\n",
              "          const element = document.querySelector('#df-7e00d2c9-a5b6-4ff4-9ef7-e307319381ea');\n",
              "          const dataTable =\n",
              "            await google.colab.kernel.invokeFunction('convertToInteractive',\n",
              "                                                     [key], {});\n",
              "          if (!dataTable) return;\n",
              "\n",
              "          const docLinkHtml = 'Like what you see? Visit the ' +\n",
              "            '<a target=\"_blank\" href=https://colab.research.google.com/notebooks/data_table.ipynb>data table notebook</a>'\n",
              "            + ' to learn more about interactive tables.';\n",
              "          element.innerHTML = '';\n",
              "          dataTable['output_type'] = 'display_data';\n",
              "          await google.colab.output.renderOutput(dataTable, element);\n",
              "          const docLink = document.createElement('div');\n",
              "          docLink.innerHTML = docLinkHtml;\n",
              "          element.appendChild(docLink);\n",
              "        }\n",
              "      </script>\n",
              "    </div>\n",
              "  </div>\n",
              "  "
            ]
          },
          "metadata": {},
          "execution_count": 22
        }
      ]
    },
    {
      "cell_type": "code",
      "source": [
        "# Let's look more into gender\n",
        "sns.countplot(df['Gender'],palette = \"BuGn\")"
      ],
      "metadata": {
        "colab": {
          "base_uri": "https://localhost:8080/",
          "height": 351
        },
        "id": "l3-jE4AtwPt0",
        "outputId": "8890e690-6d42-4272-d816-2cb7620e601b"
      },
      "execution_count": 23,
      "outputs": [
        {
          "output_type": "stream",
          "name": "stderr",
          "text": [
            "/usr/local/lib/python3.7/dist-packages/seaborn/_decorators.py:43: FutureWarning: Pass the following variable as a keyword arg: x. From version 0.12, the only valid positional argument will be `data`, and passing other arguments without an explicit keyword will result in an error or misinterpretation.\n",
            "  FutureWarning\n"
          ]
        },
        {
          "output_type": "execute_result",
          "data": {
            "text/plain": [
              "<matplotlib.axes._subplots.AxesSubplot at 0x7feb9b483390>"
            ]
          },
          "metadata": {},
          "execution_count": 23
        },
        {
          "output_type": "display_data",
          "data": {
            "text/plain": [
              "<Figure size 432x288 with 1 Axes>"
            ],
            "image/png": "[encoded data removed]"
          },
          "metadata": {
            "needs_background": "light"
          }
        }
      ]
    },
    {
      "cell_type": "code",
      "source": [
        "df[df['Gender'] == 'Female'].shape[0]"
      ],
      "metadata": {
        "colab": {
          "base_uri": "https://localhost:8080/"
        },
        "id": "9h03NMkA9boW",
        "outputId": "e04a68fc-3a1f-4dc6-a875-baffb0cbe4a0"
      },
      "execution_count": 24,
      "outputs": [
        {
          "output_type": "execute_result",
          "data": {
            "text/plain": [
              "149"
            ]
          },
          "metadata": {},
          "execution_count": 24
        }
      ]
    },
    {
      "cell_type": "code",
      "source": [
        "# One hot encoding\n",
        "df['Female'] = 0\n",
        "df['Male'] = 0\n",
        "indexes = []\n",
        "for index,row in df.iterrows():\n",
        "      try:\n",
        "        if df['Gender'][index] == \"Female\":\n",
        "            df['Female'][index] = 1\n",
        "            df['Male'][index] = 0\n",
        "        elif df['Gender'][index] == \"Male\":\n",
        "          df['Female'][index] = 0\n",
        "          df['Male'][index] = 1\n",
        "        else:\n",
        "          indexes.append(index)\n",
        "      except:\n",
        "        print(\"An error occured.\")\n",
        "\n",
        "df.drop(indexes, axis=0, inplace=True)     # People of other genders are too underrepresented to include in this analysis. This is a problem in itself.\n",
        "df.reset_index(drop=True)"
      ],
      "metadata": {
        "colab": {
          "base_uri": "https://localhost:8080/",
          "height": 1000
        },
        "id": "LNG-CwyBusYC",
        "outputId": "2419be09-50e5-459f-acfe-49f981b0f8f4"
      },
      "execution_count": 25,
      "outputs": [
        {
          "output_type": "stream",
          "name": "stderr",
          "text": [
            "/usr/local/lib/python3.7/dist-packages/ipykernel_launcher.py:11: SettingWithCopyWarning: \n",
            "A value is trying to be set on a copy of a slice from a DataFrame\n",
            "\n",
            "See the caveats in the documentation: https://pandas.pydata.org/pandas-docs/stable/user_guide/indexing.html#returning-a-view-versus-a-copy\n",
            "  # This is added back by InteractiveShellApp.init_path()\n",
            "/usr/local/lib/python3.7/dist-packages/ipykernel_launcher.py:12: SettingWithCopyWarning: \n",
            "A value is trying to be set on a copy of a slice from a DataFrame\n",
            "\n",
            "See the caveats in the documentation: https://pandas.pydata.org/pandas-docs/stable/user_guide/indexing.html#returning-a-view-versus-a-copy\n",
            "  if sys.path[0] == '':\n",
            "/usr/local/lib/python3.7/dist-packages/ipykernel_launcher.py:8: SettingWithCopyWarning: \n",
            "A value is trying to be set on a copy of a slice from a DataFrame\n",
            "\n",
            "See the caveats in the documentation: https://pandas.pydata.org/pandas-docs/stable/user_guide/indexing.html#returning-a-view-versus-a-copy\n",
            "  \n",
            "/usr/local/lib/python3.7/dist-packages/ipykernel_launcher.py:9: SettingWithCopyWarning: \n",
            "A value is trying to be set on a copy of a slice from a DataFrame\n",
            "\n",
            "See the caveats in the documentation: https://pandas.pydata.org/pandas-docs/stable/user_guide/indexing.html#returning-a-view-versus-a-copy\n",
            "  if __name__ == '__main__':\n"
          ]
        },
        {
          "output_type": "execute_result",
          "data": {
            "text/plain": [
              "       Age Gender                                Position  \\\n",
              "0     26.0   Male                       Software Engineer   \n",
              "1     26.0   Male                       Backend Developer   \n",
              "2     28.0   Male                      Frontend Developer   \n",
              "3     37.0   Male                       Backend Developer   \n",
              "4     32.0   Male                                  DevOps   \n",
              "...    ...    ...                                     ...   \n",
              "1081  31.0   Male                       Backend Developer   \n",
              "1082  33.0   Male  Researcher/ Consumer Insights Analyst    \n",
              "1083  39.0   Male                   IT Operations Manager   \n",
              "1084  26.0   Male                      Frontend Developer   \n",
              "1085  26.0   Male                                  DevOps   \n",
              "\n",
              "      TotalYearsExperience  YearsExperienceGermany Seniority  \\\n",
              "0                      5.0                     3.0    Senior   \n",
              "1                      7.0                     4.0    Senior   \n",
              "2                      4.0                     1.0    Junior   \n",
              "3                     17.0                     6.0    Senior   \n",
              "4                      5.0                     1.0    Senior   \n",
              "...                    ...                     ...       ...   \n",
              "1081                   9.0                     5.0    Senior   \n",
              "1082                  10.0                     1.5    Senior   \n",
              "1083                  15.0                     2.0      Lead   \n",
              "1084                   7.0                     7.0    Middle   \n",
              "1085                   2.0                     2.0    Middle   \n",
              "\n",
              "                 MainSkill                                    SecondarySkills  \\\n",
              "0               TypeScript                    Kotlin, Javascript / Typescript   \n",
              "1                     Ruby                                                NaN   \n",
              "2               Javascript                                                NaN   \n",
              "3                  C# .NET                             .NET, SQL, AWS, Docker   \n",
              "4     AWS, GCP, Python,K8s      Python, AWS, Google Cloud, Kubernetes, Docker   \n",
              "...                    ...                                                ...   \n",
              "1081                  Java  Python, Javascript / Typescript, Java / Scala,...   \n",
              "1082     consumer analysis                                                NaN   \n",
              "1083                   PHP  Python, C/C++, Javascript / Typescript, Java /...   \n",
              "1084            JavaScript  Javascript / Typescript, Docker, HTML, CSS; Ad...   \n",
              "1085                  yaml  Python, AWS, Kubernetes, Docker, terraform, an...   \n",
              "\n",
              "      BrutSalary  BrutSalaryAndStocks  AnnualBrutLastYear  \\\n",
              "0        80000.0               5000.0             75000.0   \n",
              "1        80000.0               5000.0             82000.0   \n",
              "2        54000.0               5000.0             65000.0   \n",
              "3        62000.0               5000.0             62000.0   \n",
              "4        76000.0               5000.0             76000.0   \n",
              "...          ...                  ...                 ...   \n",
              "1081     70000.0              72000.0             70000.0   \n",
              "1082     60000.0               3000.0             48000.0   \n",
              "1083    110000.0                  0.0             90000.0   \n",
              "1084     38350.0              40950.0             33800.0   \n",
              "1085     65000.0               6500.0             40000.0   \n",
              "\n",
              "      AnnualBrutAndStocksLastYear VacationDays          Employment  \\\n",
              "0                         10000.0           30  Full-time employee   \n",
              "1                          5000.0           28  Full-time employee   \n",
              "2                          5000.0           24  Full-time employee   \n",
              "3                          5000.0           29  Full-time employee   \n",
              "4                          5000.0           30  Full-time employee   \n",
              "...                           ...          ...                 ...   \n",
              "1081                      72000.0           26  Full-time employee   \n",
              "1082                       2500.0   unlimited   Full-time employee   \n",
              "1083                       5000.0           28  Full-time employee   \n",
              "1084                      36400.0           27  Full-time employee   \n",
              "1085                          0.0           30  Full-time employee   \n",
              "\n",
              "        ContractDuration CompanySize CompanyType LossOfJobCorona  \\\n",
              "0     Unlimited contract      51-100     Product              No   \n",
              "1     Unlimited contract    101-1000     Product              No   \n",
              "2     Unlimited contract      51-100     Startup              No   \n",
              "3     Unlimited contract    101-1000     Product              No   \n",
              "4     Unlimited contract       11-50     Startup              No   \n",
              "...                  ...         ...         ...             ...   \n",
              "1081  Unlimited contract      51-100     Product             Yes   \n",
              "1082  Unlimited contract       1000+     Product              No   \n",
              "1083  Unlimited contract    101-1000   eCommerce              No   \n",
              "1084  Unlimited contract    101-1000     Product              No   \n",
              "1085  Unlimited contract      51-100     Startup              No   \n",
              "\n",
              "      HoursIfShorterWeek  AdditionalMonetarySupport  SeniorityLevel  \\\n",
              "0              13.566568                      250.0               3   \n",
              "1              13.566568                      250.0               3   \n",
              "2              13.566568                      250.0               1   \n",
              "3              13.566568                      250.0               3   \n",
              "4              13.566568                      250.0               3   \n",
              "...                  ...                        ...             ...   \n",
              "1081           13.566568                      250.0               3   \n",
              "1082           13.566568                        0.0               3   \n",
              "1083           13.566568                      250.0               2   \n",
              "1084           13.566568                        0.0               2   \n",
              "1085           30.000000                      600.0               2   \n",
              "\n",
              "      EmploymentType  Female  Male  \n",
              "0                  4       0     1  \n",
              "1                  4       0     1  \n",
              "2                  4       0     1  \n",
              "3                  4       0     1  \n",
              "4                  4       0     1  \n",
              "...              ...     ...   ...  \n",
              "1081               4       0     1  \n",
              "1082               4       0     1  \n",
              "1083               4       0     1  \n",
              "1084               4       0     1  \n",
              "1085               4       0     1  \n",
              "\n",
              "[1086 rows x 24 columns]"
            ],
            "text/html": [
              "\n",
              "  <div id=\"df-7fda20d3-a000-488a-aa78-b4264cb48b4d\">\n",
              "    <div class=\"colab-df-container\">\n",
              "      <div>\n",
              "<style scoped>\n",
              "    .dataframe tbody tr th:only-of-type {\n",
              "        vertical-align: middle;\n",
              "    }\n",
              "\n",
              "    .dataframe tbody tr th {\n",
              "        vertical-align: top;\n",
              "    }\n",
              "\n",
              "    .dataframe thead th {\n",
              "        text-align: right;\n",
              "    }\n",
              "</style>\n",
              "<table border=\"1\" class=\"dataframe\">\n",
              "  <thead>\n",
              "    <tr style=\"text-align: right;\">\n",
              "      <th></th>\n",
              "      <th>Age</th>\n",
              "      <th>Gender</th>\n",
              "      <th>Position</th>\n",
              "      <th>TotalYearsExperience</th>\n",
              "      <th>YearsExperienceGermany</th>\n",
              "      <th>Seniority</th>\n",
              "      <th>MainSkill</th>\n",
              "      <th>SecondarySkills</th>\n",
              "      <th>BrutSalary</th>\n",
              "      <th>BrutSalaryAndStocks</th>\n",
              "      <th>AnnualBrutLastYear</th>\n",
              "      <th>AnnualBrutAndStocksLastYear</th>\n",
              "      <th>VacationDays</th>\n",
              "      <th>Employment</th>\n",
              "      <th>ContractDuration</th>\n",
              "      <th>CompanySize</th>\n",
              "      <th>CompanyType</th>\n",
              "      <th>LossOfJobCorona</th>\n",
              "      <th>HoursIfShorterWeek</th>\n",
              "      <th>AdditionalMonetarySupport</th>\n",
              "      <th>SeniorityLevel</th>\n",
              "      <th>EmploymentType</th>\n",
              "      <th>Female</th>\n",
              "      <th>Male</th>\n",
              "    </tr>\n",
              "  </thead>\n",
              "  <tbody>\n",
              "    <tr>\n",
              "      <th>0</th>\n",
              "      <td>26.0</td>\n",
              "      <td>Male</td>\n",
              "      <td>Software Engineer</td>\n",
              "      <td>5.0</td>\n",
              "      <td>3.0</td>\n",
              "      <td>Senior</td>\n",
              "      <td>TypeScript</td>\n",
              "      <td>Kotlin, Javascript / Typescript</td>\n",
              "      <td>80000.0</td>\n",
              "      <td>5000.0</td>\n",
              "      <td>75000.0</td>\n",
              "      <td>10000.0</td>\n",
              "      <td>30</td>\n",
              "      <td>Full-time employee</td>\n",
              "      <td>Unlimited contract</td>\n",
              "      <td>51-100</td>\n",
              "      <td>Product</td>\n",
              "      <td>No</td>\n",
              "      <td>13.566568</td>\n",
              "      <td>250.0</td>\n",
              "      <td>3</td>\n",
              "      <td>4</td>\n",
              "      <td>0</td>\n",
              "      <td>1</td>\n",
              "    </tr>\n",
              "    <tr>\n",
              "      <th>1</th>\n",
              "      <td>26.0</td>\n",
              "      <td>Male</td>\n",
              "      <td>Backend Developer</td>\n",
              "      <td>7.0</td>\n",
              "      <td>4.0</td>\n",
              "      <td>Senior</td>\n",
              "      <td>Ruby</td>\n",
              "      <td>NaN</td>\n",
              "      <td>80000.0</td>\n",
              "      <td>5000.0</td>\n",
              "      <td>82000.0</td>\n",
              "      <td>5000.0</td>\n",
              "      <td>28</td>\n",
              "      <td>Full-time employee</td>\n",
              "      <td>Unlimited contract</td>\n",
              "      <td>101-1000</td>\n",
              "      <td>Product</td>\n",
              "      <td>No</td>\n",
              "      <td>13.566568</td>\n",
              "      <td>250.0</td>\n",
              "      <td>3</td>\n",
              "      <td>4</td>\n",
              "      <td>0</td>\n",
              "      <td>1</td>\n",
              "    </tr>\n",
              "    <tr>\n",
              "      <th>2</th>\n",
              "      <td>28.0</td>\n",
              "      <td>Male</td>\n",
              "      <td>Frontend Developer</td>\n",
              "      <td>4.0</td>\n",
              "      <td>1.0</td>\n",
              "      <td>Junior</td>\n",
              "      <td>Javascript</td>\n",
              "      <td>NaN</td>\n",
              "      <td>54000.0</td>\n",
              "      <td>5000.0</td>\n",
              "      <td>65000.0</td>\n",
              "      <td>5000.0</td>\n",
              "      <td>24</td>\n",
              "      <td>Full-time employee</td>\n",
              "      <td>Unlimited contract</td>\n",
              "      <td>51-100</td>\n",
              "      <td>Startup</td>\n",
              "      <td>No</td>\n",
              "      <td>13.566568</td>\n",
              "      <td>250.0</td>\n",
              "      <td>1</td>\n",
              "      <td>4</td>\n",
              "      <td>0</td>\n",
              "      <td>1</td>\n",
              "    </tr>\n",
              "    <tr>\n",
              "      <th>3</th>\n",
              "      <td>37.0</td>\n",
              "      <td>Male</td>\n",
              "      <td>Backend Developer</td>\n",
              "      <td>17.0</td>\n",
              "      <td>6.0</td>\n",
              "      <td>Senior</td>\n",
              "      <td>C# .NET</td>\n",
              "      <td>.NET, SQL, AWS, Docker</td>\n",
              "      <td>62000.0</td>\n",
              "      <td>5000.0</td>\n",
              "      <td>62000.0</td>\n",
              "      <td>5000.0</td>\n",
              "      <td>29</td>\n",
              "      <td>Full-time employee</td>\n",
              "      <td>Unlimited contract</td>\n",
              "      <td>101-1000</td>\n",
              "      <td>Product</td>\n",
              "      <td>No</td>\n",
              "      <td>13.566568</td>\n",
              "      <td>250.0</td>\n",
              "      <td>3</td>\n",
              "      <td>4</td>\n",
              "      <td>0</td>\n",
              "      <td>1</td>\n",
              "    </tr>\n",
              "    <tr>\n",
              "      <th>4</th>\n",
              "      <td>32.0</td>\n",
              "      <td>Male</td>\n",
              "      <td>DevOps</td>\n",
              "      <td>5.0</td>\n",
              "      <td>1.0</td>\n",
              "      <td>Senior</td>\n",
              "      <td>AWS, GCP, Python,K8s</td>\n",
              "      <td>Python, AWS, Google Cloud, Kubernetes, Docker</td>\n",
              "      <td>76000.0</td>\n",
              "      <td>5000.0</td>\n",
              "      <td>76000.0</td>\n",
              "      <td>5000.0</td>\n",
              "      <td>30</td>\n",
              "      <td>Full-time employee</td>\n",
              "      <td>Unlimited contract</td>\n",
              "      <td>11-50</td>\n",
              "      <td>Startup</td>\n",
              "      <td>No</td>\n",
              "      <td>13.566568</td>\n",
              "      <td>250.0</td>\n",
              "      <td>3</td>\n",
              "      <td>4</td>\n",
              "      <td>0</td>\n",
              "      <td>1</td>\n",
              "    </tr>\n",
              "    <tr>\n",
              "      <th>...</th>\n",
              "      <td>...</td>\n",
              "      <td>...</td>\n",
              "      <td>...</td>\n",
              "      <td>...</td>\n",
              "      <td>...</td>\n",
              "      <td>...</td>\n",
              "      <td>...</td>\n",
              "      <td>...</td>\n",
              "      <td>...</td>\n",
              "      <td>...</td>\n",
              "      <td>...</td>\n",
              "      <td>...</td>\n",
              "      <td>...</td>\n",
              "      <td>...</td>\n",
              "      <td>...</td>\n",
              "      <td>...</td>\n",
              "      <td>...</td>\n",
              "      <td>...</td>\n",
              "      <td>...</td>\n",
              "      <td>...</td>\n",
              "      <td>...</td>\n",
              "      <td>...</td>\n",
              "      <td>...</td>\n",
              "      <td>...</td>\n",
              "    </tr>\n",
              "    <tr>\n",
              "      <th>1081</th>\n",
              "      <td>31.0</td>\n",
              "      <td>Male</td>\n",
              "      <td>Backend Developer</td>\n",
              "      <td>9.0</td>\n",
              "      <td>5.0</td>\n",
              "      <td>Senior</td>\n",
              "      <td>Java</td>\n",
              "      <td>Python, Javascript / Typescript, Java / Scala,...</td>\n",
              "      <td>70000.0</td>\n",
              "      <td>72000.0</td>\n",
              "      <td>70000.0</td>\n",
              "      <td>72000.0</td>\n",
              "      <td>26</td>\n",
              "      <td>Full-time employee</td>\n",
              "      <td>Unlimited contract</td>\n",
              "      <td>51-100</td>\n",
              "      <td>Product</td>\n",
              "      <td>Yes</td>\n",
              "      <td>13.566568</td>\n",
              "      <td>250.0</td>\n",
              "      <td>3</td>\n",
              "      <td>4</td>\n",
              "      <td>0</td>\n",
              "      <td>1</td>\n",
              "    </tr>\n",
              "    <tr>\n",
              "      <th>1082</th>\n",
              "      <td>33.0</td>\n",
              "      <td>Male</td>\n",
              "      <td>Researcher/ Consumer Insights Analyst</td>\n",
              "      <td>10.0</td>\n",
              "      <td>1.5</td>\n",
              "      <td>Senior</td>\n",
              "      <td>consumer analysis</td>\n",
              "      <td>NaN</td>\n",
              "      <td>60000.0</td>\n",
              "      <td>3000.0</td>\n",
              "      <td>48000.0</td>\n",
              "      <td>2500.0</td>\n",
              "      <td>unlimited</td>\n",
              "      <td>Full-time employee</td>\n",
              "      <td>Unlimited contract</td>\n",
              "      <td>1000+</td>\n",
              "      <td>Product</td>\n",
              "      <td>No</td>\n",
              "      <td>13.566568</td>\n",
              "      <td>0.0</td>\n",
              "      <td>3</td>\n",
              "      <td>4</td>\n",
              "      <td>0</td>\n",
              "      <td>1</td>\n",
              "    </tr>\n",
              "    <tr>\n",
              "      <th>1083</th>\n",
              "      <td>39.0</td>\n",
              "      <td>Male</td>\n",
              "      <td>IT Operations Manager</td>\n",
              "      <td>15.0</td>\n",
              "      <td>2.0</td>\n",
              "      <td>Lead</td>\n",
              "      <td>PHP</td>\n",
              "      <td>Python, C/C++, Javascript / Typescript, Java /...</td>\n",
              "      <td>110000.0</td>\n",
              "      <td>0.0</td>\n",
              "      <td>90000.0</td>\n",
              "      <td>5000.0</td>\n",
              "      <td>28</td>\n",
              "      <td>Full-time employee</td>\n",
              "      <td>Unlimited contract</td>\n",
              "      <td>101-1000</td>\n",
              "      <td>eCommerce</td>\n",
              "      <td>No</td>\n",
              "      <td>13.566568</td>\n",
              "      <td>250.0</td>\n",
              "      <td>2</td>\n",
              "      <td>4</td>\n",
              "      <td>0</td>\n",
              "      <td>1</td>\n",
              "    </tr>\n",
              "    <tr>\n",
              "      <th>1084</th>\n",
              "      <td>26.0</td>\n",
              "      <td>Male</td>\n",
              "      <td>Frontend Developer</td>\n",
              "      <td>7.0</td>\n",
              "      <td>7.0</td>\n",
              "      <td>Middle</td>\n",
              "      <td>JavaScript</td>\n",
              "      <td>Javascript / Typescript, Docker, HTML, CSS; Ad...</td>\n",
              "      <td>38350.0</td>\n",
              "      <td>40950.0</td>\n",
              "      <td>33800.0</td>\n",
              "      <td>36400.0</td>\n",
              "      <td>27</td>\n",
              "      <td>Full-time employee</td>\n",
              "      <td>Unlimited contract</td>\n",
              "      <td>101-1000</td>\n",
              "      <td>Product</td>\n",
              "      <td>No</td>\n",
              "      <td>13.566568</td>\n",
              "      <td>0.0</td>\n",
              "      <td>2</td>\n",
              "      <td>4</td>\n",
              "      <td>0</td>\n",
              "      <td>1</td>\n",
              "    </tr>\n",
              "    <tr>\n",
              "      <th>1085</th>\n",
              "      <td>26.0</td>\n",
              "      <td>Male</td>\n",
              "      <td>DevOps</td>\n",
              "      <td>2.0</td>\n",
              "      <td>2.0</td>\n",
              "      <td>Middle</td>\n",
              "      <td>yaml</td>\n",
              "      <td>Python, AWS, Kubernetes, Docker, terraform, an...</td>\n",
              "      <td>65000.0</td>\n",
              "      <td>6500.0</td>\n",
              "      <td>40000.0</td>\n",
              "      <td>0.0</td>\n",
              "      <td>30</td>\n",
              "      <td>Full-time employee</td>\n",
              "      <td>Unlimited contract</td>\n",
              "      <td>51-100</td>\n",
              "      <td>Startup</td>\n",
              "      <td>No</td>\n",
              "      <td>30.000000</td>\n",
              "      <td>600.0</td>\n",
              "      <td>2</td>\n",
              "      <td>4</td>\n",
              "      <td>0</td>\n",
              "      <td>1</td>\n",
              "    </tr>\n",
              "  </tbody>\n",
              "</table>\n",
              "<p>1086 rows × 24 columns</p>\n",
              "</div>\n",
              "      <button class=\"colab-df-convert\" onclick=\"convertToInteractive('df-7fda20d3-a000-488a-aa78-b4264cb48b4d')\"\n",
              "              title=\"Convert this dataframe to an interactive table.\"\n",
              "              style=\"display:none;\">\n",
              "        \n",
              "  <svg xmlns=\"http://www.w3.org/2000/svg\" height=\"24px\"viewBox=\"0 0 24 24\"\n",
              "       width=\"24px\">\n",
              "    <path d=\"M0 0h24v24H0V0z\" fill=\"none\"/>\n",
              "    <path d=\"M18.56 5.44l.94 2.06.94-2.06 2.06-.94-2.06-.94-.94-2.06-.94 2.06-2.06.94zm-11 1L8.5 8.5l.94-2.06 2.06-.94-2.06-.94L8.5 2.5l-.94 2.06-2.06.94zm10 10l.94 2.06.94-2.06 2.06-.94-2.06-.94-.94-2.06-.94 2.06-2.06.94z\"/><path d=\"M17.41 7.96l-1.37-1.37c-.4-.4-.92-.59-1.43-.59-.52 0-1.04.2-1.43.59L10.3 9.45l-7.72 7.72c-.78.78-.78 2.05 0 2.83L4 21.41c.39.39.9.59 1.41.59.51 0 1.02-.2 1.41-.59l7.78-7.78 2.81-2.81c.8-.78.8-2.07 0-2.86zM5.41 20L4 18.59l7.72-7.72 1.47 1.35L5.41 20z\"/>\n",
              "  </svg>\n",
              "      </button>\n",
              "      \n",
              "  <style>\n",
              "    .colab-df-container {\n",
              "      display:flex;\n",
              "      flex-wrap:wrap;\n",
              "      gap: 12px;\n",
              "    }\n",
              "\n",
              "    .colab-df-convert {\n",
              "      background-color: #E8F0FE;\n",
              "      border: none;\n",
              "      border-radius: 50%;\n",
              "      cursor: pointer;\n",
              "      display: none;\n",
              "      fill: #1967D2;\n",
              "      height: 32px;\n",
              "      padding: 0 0 0 0;\n",
              "      width: 32px;\n",
              "    }\n",
              "\n",
              "    .colab-df-convert:hover {\n",
              "      background-color: #E2EBFA;\n",
              "      box-shadow: 0px 1px 2px rgba(60, 64, 67, 0.3), 0px 1px 3px 1px rgba(60, 64, 67, 0.15);\n",
              "      fill: #174EA6;\n",
              "    }\n",
              "\n",
              "    [theme=dark] .colab-df-convert {\n",
              "      background-color: #3B4455;\n",
              "      fill: #D2E3FC;\n",
              "    }\n",
              "\n",
              "    [theme=dark] .colab-df-convert:hover {\n",
              "      background-color: #434B5C;\n",
              "      box-shadow: 0px 1px 3px 1px rgba(0, 0, 0, 0.15);\n",
              "      filter: drop-shadow(0px 1px 2px rgba(0, 0, 0, 0.3));\n",
              "      fill: #FFFFFF;\n",
              "    }\n",
              "  </style>\n",
              "\n",
              "      <script>\n",
              "        const buttonEl =\n",
              "          document.querySelector('#df-7fda20d3-a000-488a-aa78-b4264cb48b4d button.colab-df-convert');\n",
              "        buttonEl.style.display =\n",
              "          google.colab.kernel.accessAllowed ? 'block' : 'none';\n",
              "\n",
              "        async function convertToInteractive(key) {\n",
              "          const element = document.querySelector('#df-7fda20d3-a000-488a-aa78-b4264cb48b4d');\n",
              "          const dataTable =\n",
              "            await google.colab.kernel.invokeFunction('convertToInteractive',\n",
              "                                                     [key], {});\n",
              "          if (!dataTable) return;\n",
              "\n",
              "          const docLinkHtml = 'Like what you see? Visit the ' +\n",
              "            '<a target=\"_blank\" href=https://colab.research.google.com/notebooks/data_table.ipynb>data table notebook</a>'\n",
              "            + ' to learn more about interactive tables.';\n",
              "          element.innerHTML = '';\n",
              "          dataTable['output_type'] = 'display_data';\n",
              "          await google.colab.output.renderOutput(dataTable, element);\n",
              "          const docLink = document.createElement('div');\n",
              "          docLink.innerHTML = docLinkHtml;\n",
              "          element.appendChild(docLink);\n",
              "        }\n",
              "      </script>\n",
              "    </div>\n",
              "  </div>\n",
              "  "
            ]
          },
          "metadata": {},
          "execution_count": 25
        }
      ]
    },
    {
      "cell_type": "code",
      "source": [
        "df.corrwith(df[\"Female\"])"
      ],
      "metadata": {
        "colab": {
          "base_uri": "https://localhost:8080/"
        },
        "id": "T99T84FTxAm7",
        "outputId": "64e13080-26e8-451c-a0bd-29c2ab7873cd"
      },
      "execution_count": 26,
      "outputs": [
        {
          "output_type": "execute_result",
          "data": {
            "text/plain": [
              "Age                           -0.099810\n",
              "TotalYearsExperience          -0.184233\n",
              "YearsExperienceGermany        -0.083152\n",
              "BrutSalary                    -0.195236\n",
              "BrutSalaryAndStocks           -0.082656\n",
              "AnnualBrutLastYear            -0.183605\n",
              "AnnualBrutAndStocksLastYear   -0.069875\n",
              "HoursIfShorterWeek            -0.003194\n",
              "AdditionalMonetarySupport     -0.016983\n",
              "SeniorityLevel                -0.127199\n",
              "EmploymentType                -0.028043\n",
              "Female                         1.000000\n",
              "Male                          -1.000000\n",
              "dtype: float64"
            ]
          },
          "metadata": {},
          "execution_count": 26
        }
      ]
    },
    {
      "cell_type": "code",
      "source": [
        "df.corrwith(df['Male'])"
      ],
      "metadata": {
        "colab": {
          "base_uri": "https://localhost:8080/"
        },
        "id": "KDqgJnuaxKDW",
        "outputId": "65bb2694-1460-478a-ab77-985eabd7650b"
      },
      "execution_count": 27,
      "outputs": [
        {
          "output_type": "execute_result",
          "data": {
            "text/plain": [
              "Age                            0.099810\n",
              "TotalYearsExperience           0.184233\n",
              "YearsExperienceGermany         0.083152\n",
              "BrutSalary                     0.195236\n",
              "BrutSalaryAndStocks            0.082656\n",
              "AnnualBrutLastYear             0.183605\n",
              "AnnualBrutAndStocksLastYear    0.069875\n",
              "HoursIfShorterWeek             0.003194\n",
              "AdditionalMonetarySupport      0.016983\n",
              "SeniorityLevel                 0.127199\n",
              "EmploymentType                 0.028043\n",
              "Female                        -1.000000\n",
              "Male                           1.000000\n",
              "dtype: float64"
            ]
          },
          "metadata": {},
          "execution_count": 27
        }
      ]
    },
    {
      "cell_type": "code",
      "source": [
        "correlations = df.corr()\n",
        "sns.heatmap(correlations)"
      ],
      "metadata": {
        "colab": {
          "base_uri": "https://localhost:8080/",
          "height": 427
        },
        "id": "Y8RWLH6myNnn",
        "outputId": "b573bfc1-ed95-42b8-a853-d616c682a292"
      },
      "execution_count": 28,
      "outputs": [
        {
          "output_type": "execute_result",
          "data": {
            "text/plain": [
              "<matplotlib.axes._subplots.AxesSubplot at 0x7feb9b462d50>"
            ]
          },
          "metadata": {},
          "execution_count": 28
        },
        {
          "output_type": "display_data",
          "data": {
            "text/plain": [
              "<Figure size 432x288 with 2 Axes>"
            ],
            "image/png": "[encoded data removed]"
          },
          "metadata": {
            "needs_background": "light"
          }
        }
      ]
    },
    {
      "cell_type": "code",
      "source": [
        "data = df._get_numeric_data()\n",
        "data.head(1)"
      ],
      "metadata": {
        "colab": {
          "base_uri": "https://localhost:8080/",
          "height": 145
        },
        "id": "_sff7g4F8QYh",
        "outputId": "5d16892b-a834-40b4-fa9a-ad7486bdd85e"
      },
      "execution_count": 29,
      "outputs": [
        {
          "output_type": "execute_result",
          "data": {
            "text/plain": [
              "    Age  TotalYearsExperience  YearsExperienceGermany  BrutSalary  \\\n",
              "0  26.0                   5.0                     3.0     80000.0   \n",
              "\n",
              "   BrutSalaryAndStocks  AnnualBrutLastYear  AnnualBrutAndStocksLastYear  \\\n",
              "0               5000.0             75000.0                      10000.0   \n",
              "\n",
              "   HoursIfShorterWeek  AdditionalMonetarySupport  SeniorityLevel  \\\n",
              "0           13.566568                      250.0               3   \n",
              "\n",
              "   EmploymentType  Female  Male  \n",
              "0               4       0     1  "
            ],
            "text/html": [
              "\n",
              "  <div id=\"df-39b12875-907d-4d1c-bc7b-b113fd41f88f\">\n",
              "    <div class=\"colab-df-container\">\n",
              "      <div>\n",
              "<style scoped>\n",
              "    .dataframe tbody tr th:only-of-type {\n",
              "        vertical-align: middle;\n",
              "    }\n",
              "\n",
              "    .dataframe tbody tr th {\n",
              "        vertical-align: top;\n",
              "    }\n",
              "\n",
              "    .dataframe thead th {\n",
              "        text-align: right;\n",
              "    }\n",
              "</style>\n",
              "<table border=\"1\" class=\"dataframe\">\n",
              "  <thead>\n",
              "    <tr style=\"text-align: right;\">\n",
              "      <th></th>\n",
              "      <th>Age</th>\n",
              "      <th>TotalYearsExperience</th>\n",
              "      <th>YearsExperienceGermany</th>\n",
              "      <th>BrutSalary</th>\n",
              "      <th>BrutSalaryAndStocks</th>\n",
              "      <th>AnnualBrutLastYear</th>\n",
              "      <th>AnnualBrutAndStocksLastYear</th>\n",
              "      <th>HoursIfShorterWeek</th>\n",
              "      <th>AdditionalMonetarySupport</th>\n",
              "      <th>SeniorityLevel</th>\n",
              "      <th>EmploymentType</th>\n",
              "      <th>Female</th>\n",
              "      <th>Male</th>\n",
              "    </tr>\n",
              "  </thead>\n",
              "  <tbody>\n",
              "    <tr>\n",
              "      <th>0</th>\n",
              "      <td>26.0</td>\n",
              "      <td>5.0</td>\n",
              "      <td>3.0</td>\n",
              "      <td>80000.0</td>\n",
              "      <td>5000.0</td>\n",
              "      <td>75000.0</td>\n",
              "      <td>10000.0</td>\n",
              "      <td>13.566568</td>\n",
              "      <td>250.0</td>\n",
              "      <td>3</td>\n",
              "      <td>4</td>\n",
              "      <td>0</td>\n",
              "      <td>1</td>\n",
              "    </tr>\n",
              "  </tbody>\n",
              "</table>\n",
              "</div>\n",
              "      <button class=\"colab-df-convert\" onclick=\"convertToInteractive('df-39b12875-907d-4d1c-bc7b-b113fd41f88f')\"\n",
              "              title=\"Convert this dataframe to an interactive table.\"\n",
              "              style=\"display:none;\">\n",
              "        \n",
              "  <svg xmlns=\"http://www.w3.org/2000/svg\" height=\"24px\"viewBox=\"0 0 24 24\"\n",
              "       width=\"24px\">\n",
              "    <path d=\"M0 0h24v24H0V0z\" fill=\"none\"/>\n",
              "    <path d=\"M18.56 5.44l.94 2.06.94-2.06 2.06-.94-2.06-.94-.94-2.06-.94 2.06-2.06.94zm-11 1L8.5 8.5l.94-2.06 2.06-.94-2.06-.94L8.5 2.5l-.94 2.06-2.06.94zm10 10l.94 2.06.94-2.06 2.06-.94-2.06-.94-.94-2.06-.94 2.06-2.06.94z\"/><path d=\"M17.41 7.96l-1.37-1.37c-.4-.4-.92-.59-1.43-.59-.52 0-1.04.2-1.43.59L10.3 9.45l-7.72 7.72c-.78.78-.78 2.05 0 2.83L4 21.41c.39.39.9.59 1.41.59.51 0 1.02-.2 1.41-.59l7.78-7.78 2.81-2.81c.8-.78.8-2.07 0-2.86zM5.41 20L4 18.59l7.72-7.72 1.47 1.35L5.41 20z\"/>\n",
              "  </svg>\n",
              "      </button>\n",
              "      \n",
              "  <style>\n",
              "    .colab-df-container {\n",
              "      display:flex;\n",
              "      flex-wrap:wrap;\n",
              "      gap: 12px;\n",
              "    }\n",
              "\n",
              "    .colab-df-convert {\n",
              "      background-color: #E8F0FE;\n",
              "      border: none;\n",
              "      border-radius: 50%;\n",
              "      cursor: pointer;\n",
              "      display: none;\n",
              "      fill: #1967D2;\n",
              "      height: 32px;\n",
              "      padding: 0 0 0 0;\n",
              "      width: 32px;\n",
              "    }\n",
              "\n",
              "    .colab-df-convert:hover {\n",
              "      background-color: #E2EBFA;\n",
              "      box-shadow: 0px 1px 2px rgba(60, 64, 67, 0.3), 0px 1px 3px 1px rgba(60, 64, 67, 0.15);\n",
              "      fill: #174EA6;\n",
              "    }\n",
              "\n",
              "    [theme=dark] .colab-df-convert {\n",
              "      background-color: #3B4455;\n",
              "      fill: #D2E3FC;\n",
              "    }\n",
              "\n",
              "    [theme=dark] .colab-df-convert:hover {\n",
              "      background-color: #434B5C;\n",
              "      box-shadow: 0px 1px 3px 1px rgba(0, 0, 0, 0.15);\n",
              "      filter: drop-shadow(0px 1px 2px rgba(0, 0, 0, 0.3));\n",
              "      fill: #FFFFFF;\n",
              "    }\n",
              "  </style>\n",
              "\n",
              "      <script>\n",
              "        const buttonEl =\n",
              "          document.querySelector('#df-39b12875-907d-4d1c-bc7b-b113fd41f88f button.colab-df-convert');\n",
              "        buttonEl.style.display =\n",
              "          google.colab.kernel.accessAllowed ? 'block' : 'none';\n",
              "\n",
              "        async function convertToInteractive(key) {\n",
              "          const element = document.querySelector('#df-39b12875-907d-4d1c-bc7b-b113fd41f88f');\n",
              "          const dataTable =\n",
              "            await google.colab.kernel.invokeFunction('convertToInteractive',\n",
              "                                                     [key], {});\n",
              "          if (!dataTable) return;\n",
              "\n",
              "          const docLinkHtml = 'Like what you see? Visit the ' +\n",
              "            '<a target=\"_blank\" href=https://colab.research.google.com/notebooks/data_table.ipynb>data table notebook</a>'\n",
              "            + ' to learn more about interactive tables.';\n",
              "          element.innerHTML = '';\n",
              "          dataTable['output_type'] = 'display_data';\n",
              "          await google.colab.output.renderOutput(dataTable, element);\n",
              "          const docLink = document.createElement('div');\n",
              "          docLink.innerHTML = docLinkHtml;\n",
              "          element.appendChild(docLink);\n",
              "        }\n",
              "      </script>\n",
              "    </div>\n",
              "  </div>\n",
              "  "
            ]
          },
          "metadata": {},
          "execution_count": 29
        }
      ]
    },
    {
      "cell_type": "code",
      "source": [
        "from sklearn.model_selection import train_test_split\n",
        "from sklearn.neighbors import KNeighborsClassifier\n",
        "from sklearn.metrics import accuracy_score\n",
        "from sklearn.metrics import confusion_matrix"
      ],
      "metadata": {
        "id": "KknwXbTn5xju"
      },
      "execution_count": 84,
      "outputs": []
    },
    {
      "cell_type": "code",
      "source": [
        "#################################### KNN ###################################\n",
        "X = data.drop(['Female', 'Male'], axis = 1)\n",
        "Y = data['Female'].values"
      ],
      "metadata": {
        "id": "9qm_OnWKJbdo"
      },
      "execution_count": 85,
      "outputs": []
    },
    {
      "cell_type": "code",
      "source": [
        "X_train, X_test, y_train, y_test = train_test_split(X, Y, random_state = 0)"
      ],
      "metadata": {
        "id": "oaaAFEF-GDtN"
      },
      "execution_count": 86,
      "outputs": []
    },
    {
      "cell_type": "code",
      "source": [
        "# finding optimal amount of K\n",
        "error = []\n",
        "for k in range(1,10):\n",
        "  knn = KNeighborsClassifier(n_neighbors = k)\n",
        "  knn.fit(X_train, y_train)\n",
        "  y_pred = knn.predict(X_test)\n",
        "  error.append(np.mean(y_pred != y_test))\n",
        "\n",
        "\n",
        "plt.figure(figsize=(10,6))\n",
        "plt.plot(range(1,10),error ,color='green', linestyle='dashed', \n",
        "         marker='o',markerfacecolor='green', markersize=10)\n",
        "plt.title('Error Rate vs. K Value')\n",
        "plt.xlabel('K')\n",
        "plt.ylabel('Error Rate')\n",
        "print(\"Minimum error:-\",min(error),\"at K =\",error.index(min(error)))"
      ],
      "metadata": {
        "colab": {
          "base_uri": "https://localhost:8080/",
          "height": 421
        },
        "outputId": "9ab70374-e8b0-4f86-dc39-26ee53be39f5",
        "id": "PrdpVvFXqdoN"
      },
      "execution_count": 87,
      "outputs": [
        {
          "output_type": "stream",
          "name": "stdout",
          "text": [
            "Minimum error:- 0.125 at K = 8\n"
          ]
        },
        {
          "output_type": "display_data",
          "data": {
            "text/plain": [
              "<Figure size 720x432 with 1 Axes>"
            ],
            "image/png": "[encoded data removed]"
          },
          "metadata": {
            "needs_background": "light"
          }
        }
      ]
    },
    {
      "cell_type": "code",
      "source": [
        "knn_F = KNeighborsClassifier(n_neighbors = 9)"
      ],
      "metadata": {
        "id": "FMbQcNsVGRAg"
      },
      "execution_count": 88,
      "outputs": []
    },
    {
      "cell_type": "code",
      "source": [
        "knn_F.fit(X_train, y_train)\n",
        "\n",
        "y_pred_F = knn_F.predict(X_test)"
      ],
      "metadata": {
        "id": "Y8mhfZgCGS4P"
      },
      "execution_count": 89,
      "outputs": []
    },
    {
      "cell_type": "code",
      "source": [
        "print(\"Accuracy with k=9\", accuracy_score(y_test, y_pred_F)*100)\n",
        "Accuracy = accuracy_score(y_test, y_pred_F)*100"
      ],
      "metadata": {
        "colab": {
          "base_uri": "https://localhost:8080/"
        },
        "id": "YvNqE0IfHI8r",
        "outputId": "75d20e10-fb87-4749-9253-c98e34b6c7aa"
      },
      "execution_count": 90,
      "outputs": [
        {
          "output_type": "stream",
          "name": "stdout",
          "text": [
            "Accuracy with k=9 87.5\n"
          ]
        }
      ]
    },
    {
      "cell_type": "code",
      "source": [
        "print(metrics.classification_report(y_test, y_pred_F))"
      ],
      "metadata": {
        "colab": {
          "base_uri": "https://localhost:8080/"
        },
        "id": "veLRxkIF_pEa",
        "outputId": "8c0b50c5-9193-4fe4-8dfd-921432ddd3a5"
      },
      "execution_count": 91,
      "outputs": [
        {
          "output_type": "stream",
          "name": "stdout",
          "text": [
            "              precision    recall  f1-score   support\n",
            "\n",
            "           0       0.90      0.97      0.93       240\n",
            "           1       0.42      0.16      0.23        32\n",
            "\n",
            "    accuracy                           0.88       272\n",
            "   macro avg       0.66      0.56      0.58       272\n",
            "weighted avg       0.84      0.88      0.85       272\n",
            "\n"
          ]
        }
      ]
    },
    {
      "cell_type": "code",
      "source": [
        "cm_F = confusion_matrix(y_test, y_pred_F)\n",
        "cm_F"
      ],
      "metadata": {
        "colab": {
          "base_uri": "https://localhost:8080/"
        },
        "id": "6CnT823gHY4N",
        "outputId": "263ec756-20b0-4bc8-fee2-c5baea2890cd"
      },
      "execution_count": 92,
      "outputs": [
        {
          "output_type": "execute_result",
          "data": {
            "text/plain": [
              "array([[233,   7],\n",
              "       [ 27,   5]])"
            ]
          },
          "metadata": {},
          "execution_count": 92
        }
      ]
    },
    {
      "cell_type": "code",
      "source": [
        "ax = sns.heatmap(cm_F/np.sum(cm_F), annot=True,  cmap=\"Greens\")\n",
        "ax.set_title('Confusion Matrix for K=9 with labels, Female\\n\\n');\n",
        "ax.set_xlabel('\\nPredicted Values')\n",
        "ax.set_ylabel('Actual Values ');\n",
        "\n",
        "## Ticket labels - List must be in alphabetical order\n",
        "ax.xaxis.set_ticklabels(['False','True'])\n",
        "ax.yaxis.set_ticklabels(['False','True'])\n",
        "\n",
        "## Display the visualization of the Confusion Matrix.\n",
        "plt.show()"
      ],
      "metadata": {
        "colab": {
          "base_uri": "https://localhost:8080/",
          "height": 500
        },
        "id": "g4jVTfdVIWbu",
        "outputId": "cd8bfe1b-b85d-40fd-ff89-2fbf7648995a"
      },
      "execution_count": 93,
      "outputs": [
        {
          "output_type": "display_data",
          "data": {
            "text/plain": [
              "<Figure size 864x504 with 2 Axes>"
            ],
            "image/png": "[encoded data removed]"
          },
          "metadata": {
            "needs_background": "light"
          }
        }
      ]
    },
    {
      "cell_type": "code",
      "source": [
        "from sklearn import metrics\n",
        "Precision =  metrics.precision_score(y_test, y_pred_F) # True positive rate\n",
        "Sensitivity_recall = metrics.recall_score(y_test, y_pred_F)\n",
        "F1_score = metrics.f1_score(y_test, y_pred_F)\n",
        "\n",
        "\n",
        "print({\"Accuracy\":Accuracy,\"Precision\":Precision,\"Sensitivity_recall\":Sensitivity_recall,\"F1_score\":F1_score})"
      ],
      "metadata": {
        "colab": {
          "base_uri": "https://localhost:8080/"
        },
        "id": "ODY6PkCULzVu",
        "outputId": "909377dc-9bad-4e58-b33d-626be3493cde"
      },
      "execution_count": 94,
      "outputs": [
        {
          "output_type": "stream",
          "name": "stdout",
          "text": [
            "{'Accuracy': 87.5, 'Precision': 0.4166666666666667, 'Sensitivity_recall': 0.15625, 'F1_score': 0.22727272727272727}\n"
          ]
        }
      ]
    },
    {
      "cell_type": "code",
      "source": [
        "############ Male\n",
        "X = data.drop(['Female', 'Male'], axis = 1)\n",
        "Y = data['Male'].values\n",
        "\n",
        "X_train, X_test, y_train, y_test = train_test_split(X, Y, random_state = 0)\n",
        "\n",
        "# finding optimal amount of K\n",
        "error = []\n",
        "for k in range(1,10):\n",
        "  knn = KNeighborsClassifier(n_neighbors = k)\n",
        "  knn.fit(X_train, y_train)\n",
        "  y_pred = knn.predict(X_test)\n",
        "  error.append(np.mean(y_pred != y_test))\n",
        "\n",
        "\n",
        "plt.figure(figsize=(10,6))\n",
        "plt.plot(range(1,10),error ,color='green', linestyle='dashed', \n",
        "         marker='o',markerfacecolor='green', markersize=10)\n",
        "plt.title('Error Rate vs. K Value')\n",
        "plt.xlabel('K')\n",
        "plt.ylabel('Error Rate')\n",
        "print(\"Minimum error:-\",min(error),\"at K =\",error.index(min(error)))"
      ],
      "metadata": {
        "id": "U3YZbLwXI0VL",
        "colab": {
          "base_uri": "https://localhost:8080/",
          "height": 421
        },
        "outputId": "d7295eb7-fe36-4879-a016-bb4fbc7766e7"
      },
      "execution_count": 95,
      "outputs": [
        {
          "output_type": "stream",
          "name": "stdout",
          "text": [
            "Minimum error:- 0.125 at K = 8\n"
          ]
        },
        {
          "output_type": "display_data",
          "data": {
            "text/plain": [
              "<Figure size 720x432 with 1 Axes>"
            ],
            "image/png": "[encoded data removed]"
          },
          "metadata": {
            "needs_background": "light"
          }
        }
      ]
    },
    {
      "cell_type": "code",
      "source": [
        "knn_M = KNeighborsClassifier(n_neighbors = 9)"
      ],
      "metadata": {
        "id": "ChpAmhNnsB3K"
      },
      "execution_count": 96,
      "outputs": []
    },
    {
      "cell_type": "code",
      "source": [
        "knn_M.fit(X_train, y_train)\n",
        "\n",
        "y_pred_M = knn_M.predict(X_test)"
      ],
      "metadata": {
        "id": "gZAcVPH6sGV_"
      },
      "execution_count": 97,
      "outputs": []
    },
    {
      "cell_type": "code",
      "source": [
        "print(\"Accuracy with k=9\", accuracy_score(y_test, y_pred_M)*100)\n",
        "Accuracy_KNN = accuracy_score(y_test, y_pred_M)*100"
      ],
      "metadata": {
        "colab": {
          "base_uri": "https://localhost:8080/"
        },
        "id": "mRAdO54usJYL",
        "outputId": "ec1abe44-46b3-45eb-a7a9-f468a2214c0c"
      },
      "execution_count": 98,
      "outputs": [
        {
          "output_type": "stream",
          "name": "stdout",
          "text": [
            "Accuracy with k=9 87.5\n"
          ]
        }
      ]
    },
    {
      "cell_type": "code",
      "source": [
        "cm_M = confusion_matrix(y_test, y_pred_M)\n",
        "cm_M"
      ],
      "metadata": {
        "id": "oo3Iw6HCKTgk",
        "colab": {
          "base_uri": "https://localhost:8080/"
        },
        "outputId": "36f2a044-5245-4e2d-a0ea-aa81f21974b7"
      },
      "execution_count": 99,
      "outputs": [
        {
          "output_type": "execute_result",
          "data": {
            "text/plain": [
              "array([[  5,  27],\n",
              "       [  7, 233]])"
            ]
          },
          "metadata": {},
          "execution_count": 99
        }
      ]
    },
    {
      "cell_type": "code",
      "source": [
        "print(metrics.classification_report(y_test, y_pred_M))"
      ],
      "metadata": {
        "colab": {
          "base_uri": "https://localhost:8080/"
        },
        "id": "wIeW7HCWAMNN",
        "outputId": "cd5bc07b-531d-4e45-828f-211270c41fdc"
      },
      "execution_count": 100,
      "outputs": [
        {
          "output_type": "stream",
          "name": "stdout",
          "text": [
            "              precision    recall  f1-score   support\n",
            "\n",
            "           0       0.42      0.16      0.23        32\n",
            "           1       0.90      0.97      0.93       240\n",
            "\n",
            "    accuracy                           0.88       272\n",
            "   macro avg       0.66      0.56      0.58       272\n",
            "weighted avg       0.84      0.88      0.85       272\n",
            "\n"
          ]
        }
      ]
    },
    {
      "cell_type": "code",
      "source": [
        "ax = sns.heatmap(cm_M/np.sum(cm_M), annot=True,  cmap=\"Greens\")\n",
        "ax.set_title('Confusion Matrix for K=9 with labels, Male\\n\\n');\n",
        "ax.set_xlabel('\\nPredicted Values')\n",
        "ax.set_ylabel('Actual Values ');\n",
        "\n",
        "## Ticket labels - List must be in alphabetical order\n",
        "ax.xaxis.set_ticklabels(['False','True'])\n",
        "ax.yaxis.set_ticklabels(['False','True'])\n",
        "\n",
        "## Display the visualization of the Confusion Matrix.\n",
        "plt.show()"
      ],
      "metadata": {
        "id": "KXiDNoRvKZYO",
        "colab": {
          "base_uri": "https://localhost:8080/",
          "height": 500
        },
        "outputId": "f99de089-a01b-4ddf-86b3-930508d6d08b"
      },
      "execution_count": 101,
      "outputs": [
        {
          "output_type": "display_data",
          "data": {
            "text/plain": [
              "<Figure size 864x504 with 2 Axes>"
            ],
            "image/png": "[encoded data removed]"
          },
          "metadata": {
            "needs_background": "light"
          }
        }
      ]
    },
    {
      "cell_type": "code",
      "source": [
        "Precision_KNN =  metrics.precision_score(y_test, y_pred_M) # True positive rate\n",
        "Sensitivity_recall_KNN = metrics.recall_score(y_test, y_pred_M)\n",
        "F1_score_KNN = metrics.f1_score(y_test, y_pred_M)\n",
        "\n",
        "\n",
        "print({\"Accuracy\":Accuracy_KNN,\"Precision\":Precision_KNN,\"Sensitivity_recall\":Sensitivity_recall_KNN,\"F1_score\":F1_score_KNN})"
      ],
      "metadata": {
        "id": "P-MtQ1YEM4uM",
        "colab": {
          "base_uri": "https://localhost:8080/"
        },
        "outputId": "21a7b102-b117-42be-8fb5-a9c11d0032bd"
      },
      "execution_count": 102,
      "outputs": [
        {
          "output_type": "stream",
          "name": "stdout",
          "text": [
            "{'Accuracy': 87.5, 'Precision': 0.8961538461538462, 'Sensitivity_recall': 0.9708333333333333, 'F1_score': 0.9319999999999999}\n"
          ]
        }
      ]
    },
    {
      "cell_type": "code",
      "source": [
        "############## Discriminant Analysis ######################\n",
        "from sklearn.discriminant_analysis import LinearDiscriminantAnalysis as LDA\n",
        "from sklearn.ensemble import RandomForestClassifier\n",
        "\n",
        "X = data.drop(['Female', 'Male'], axis = 1).to_numpy()\n",
        "Y = data['Male'].to_numpy()\n",
        "\n",
        "X_train, X_test, y_train, y_test = train_test_split(X, Y, test_size=0.2, random_state=0)\n",
        "\n",
        "from sklearn.preprocessing import StandardScaler\n",
        "sc = StandardScaler()\n",
        "X_train = sc.fit_transform(X_train)\n",
        "X_test = sc.transform(X_test)\n",
        "\n",
        "lda = LDA(n_components=1)\n",
        "X_train = lda.fit_transform(X_train, y_train)\n",
        "X_test = lda.transform(X_test)\n",
        "\n",
        "classifier = RandomForestClassifier(max_depth=2, random_state=0)\n",
        "\n",
        "classifier.fit(X_train, y_train)\n",
        "y_pred = classifier.predict(X_test)\n",
        "\n",
        "cm_LDA = confusion_matrix(y_test, y_pred)\n",
        "Accuracy_LDA = accuracy_score(y_test, y_pred)"
      ],
      "metadata": {
        "id": "JBHoBWQZPact"
      },
      "execution_count": 103,
      "outputs": []
    },
    {
      "cell_type": "code",
      "source": [
        "lda.explained_variance_ratio_"
      ],
      "metadata": {
        "colab": {
          "base_uri": "https://localhost:8080/"
        },
        "id": "qvqSyBfC2eE7",
        "outputId": "681b461b-f073-40ac-84be-f6ccafe24ae0"
      },
      "execution_count": 104,
      "outputs": [
        {
          "output_type": "execute_result",
          "data": {
            "text/plain": [
              "array([1.])"
            ]
          },
          "metadata": {},
          "execution_count": 104
        }
      ]
    },
    {
      "cell_type": "code",
      "source": [
        "ax = sns.heatmap(cm_LDA/np.sum(cm_LDA), annot=True,  cmap=\"Greens\")\n",
        "ax.set_title('Confusion Matrix for LDA\\n\\n');\n",
        "ax.set_xlabel('\\nPredicted Values')\n",
        "ax.set_ylabel('Actual Values ');\n",
        "\n",
        "## Ticket labels - List must be in alphabetical order\n",
        "ax.xaxis.set_ticklabels(['False','True'])\n",
        "ax.yaxis.set_ticklabels(['False','True'])\n",
        "\n",
        "## Display the visualization of the Confusion Matrix.\n",
        "plt.show()"
      ],
      "metadata": {
        "colab": {
          "base_uri": "https://localhost:8080/",
          "height": 500
        },
        "id": "Wp9ecg7bvNcb",
        "outputId": "43e09849-9f9d-4bfb-da09-ddc78a881a7d"
      },
      "execution_count": 105,
      "outputs": [
        {
          "output_type": "display_data",
          "data": {
            "text/plain": [
              "<Figure size 864x504 with 2 Axes>"
            ],
            "image/png": "[encoded data removed]"
          },
          "metadata": {
            "needs_background": "light"
          }
        }
      ]
    },
    {
      "cell_type": "code",
      "source": [
        "Precision_LDA =  metrics.precision_score(y_test, y_pred) # True positive rate\n",
        "Sensitivity_recall_LDA = metrics.recall_score(y_test, y_pred)\n",
        "F1_score_LDA = metrics.f1_score(y_test, y_pred)\n",
        "\n",
        "\n",
        "print({\"Accuracy\":Accuracy_LDA,\"Precision\":Precision_LDA,\"Sensitivity_recall\":Sensitivity_recall_LDA,\"F1_score\":F1_score_LDA})"
      ],
      "metadata": {
        "colab": {
          "base_uri": "https://localhost:8080/"
        },
        "id": "qjL3rkp9xzmT",
        "outputId": "059230fe-24cb-4e8f-f615-d13b19b0d2fb"
      },
      "execution_count": 106,
      "outputs": [
        {
          "output_type": "stream",
          "name": "stdout",
          "text": [
            "{'Accuracy': 0.8669724770642202, 'Precision': 0.8669724770642202, 'Sensitivity_recall': 1.0, 'F1_score': 0.9287469287469288}\n"
          ]
        }
      ]
    },
    {
      "cell_type": "code",
      "source": [
        "print(metrics.classification_report(y_test, y_pred))"
      ],
      "metadata": {
        "colab": {
          "base_uri": "https://localhost:8080/"
        },
        "id": "vu19tTogAQKs",
        "outputId": "968a4dcc-aca8-4e2a-95cb-3339c89a5474"
      },
      "execution_count": 107,
      "outputs": [
        {
          "output_type": "stream",
          "name": "stdout",
          "text": [
            "              precision    recall  f1-score   support\n",
            "\n",
            "           0       0.00      0.00      0.00        29\n",
            "           1       0.87      1.00      0.93       189\n",
            "\n",
            "    accuracy                           0.87       218\n",
            "   macro avg       0.43      0.50      0.46       218\n",
            "weighted avg       0.75      0.87      0.81       218\n",
            "\n"
          ]
        },
        {
          "output_type": "stream",
          "name": "stderr",
          "text": [
            "/usr/local/lib/python3.7/dist-packages/sklearn/metrics/_classification.py:1318: UndefinedMetricWarning: Precision and F-score are ill-defined and being set to 0.0 in labels with no predicted samples. Use `zero_division` parameter to control this behavior.\n",
            "  _warn_prf(average, modifier, msg_start, len(result))\n",
            "/usr/local/lib/python3.7/dist-packages/sklearn/metrics/_classification.py:1318: UndefinedMetricWarning: Precision and F-score are ill-defined and being set to 0.0 in labels with no predicted samples. Use `zero_division` parameter to control this behavior.\n",
            "  _warn_prf(average, modifier, msg_start, len(result))\n",
            "/usr/local/lib/python3.7/dist-packages/sklearn/metrics/_classification.py:1318: UndefinedMetricWarning: Precision and F-score are ill-defined and being set to 0.0 in labels with no predicted samples. Use `zero_division` parameter to control this behavior.\n",
            "  _warn_prf(average, modifier, msg_start, len(result))\n"
          ]
        }
      ]
    },
    {
      "cell_type": "code",
      "source": [
        "set(y_test.tolist())"
      ],
      "metadata": {
        "colab": {
          "base_uri": "https://localhost:8080/"
        },
        "id": "CzmanPelz_-9",
        "outputId": "3eaef025-6ae4-4ac3-ec3e-506dcf7b7ea8"
      },
      "execution_count": 108,
      "outputs": [
        {
          "output_type": "execute_result",
          "data": {
            "text/plain": [
              "{0, 1}"
            ]
          },
          "metadata": {},
          "execution_count": 108
        }
      ]
    },
    {
      "cell_type": "code",
      "source": [
        "plt.scatter(X[:,0],X[:,1],  c=data.Male, cmap =  'Dark2')\n",
        "plt.title(\"IT Salaries Data\")\n",
        "plt.show()"
      ],
      "metadata": {
        "id": "P6Fr26TKRz3C",
        "colab": {
          "base_uri": "https://localhost:8080/",
          "height": 444
        },
        "outputId": "5674a386-d36d-4f70-db5e-b0630f34f0ee"
      },
      "execution_count": 109,
      "outputs": [
        {
          "output_type": "display_data",
          "data": {
            "text/plain": [
              "<Figure size 864x504 with 1 Axes>"
            ],
            "image/png": "[encoded data removed]"
          },
          "metadata": {
            "needs_background": "light"
          }
        }
      ]
    },
    {
      "cell_type": "code",
      "source": [
        "lda.xbar_"
      ],
      "metadata": {
        "colab": {
          "base_uri": "https://localhost:8080/"
        },
        "id": "O0bv7ygLy1WA",
        "outputId": "51336a51-2201-44cc-e936-7a1c0e27fb83"
      },
      "execution_count": 110,
      "outputs": [
        {
          "output_type": "execute_result",
          "data": {
            "text/plain": [
              "array([-1.14491749e-15,  4.71844785e-16,  4.99600361e-16, -2.77555756e-16,\n",
              "        4.16333634e-17, -2.77555756e-17,  4.85722573e-17, -1.43179739e-14,\n",
              "        8.67361738e-17, -7.63278329e-17,  1.73472348e-18])"
            ]
          },
          "metadata": {},
          "execution_count": 110
        }
      ]
    },
    {
      "cell_type": "code",
      "source": [
        "####### Logistic Regression ###############\n",
        "from sklearn.linear_model import LogisticRegression\n",
        "from sklearn import metrics\n",
        "X_train, X_test, y_train, y_test = train_test_split(X, Y, test_size=0.3, random_state=0)\n",
        "logreg = LogisticRegression()\n",
        "logreg.fit(X_train, y_train)"
      ],
      "metadata": {
        "id": "glUKnQqRUfH2",
        "colab": {
          "base_uri": "https://localhost:8080/"
        },
        "outputId": "19d81d31-be3d-41fa-8d83-536c3689661a"
      },
      "execution_count": 111,
      "outputs": [
        {
          "output_type": "execute_result",
          "data": {
            "text/plain": [
              "LogisticRegression()"
            ]
          },
          "metadata": {},
          "execution_count": 111
        }
      ]
    },
    {
      "cell_type": "code",
      "source": [
        "y_pred = logreg.predict(X_test)\n",
        "Accuracy_REG = logreg.score(X_test, y_test)"
      ],
      "metadata": {
        "id": "JNgvDpnFa56m"
      },
      "execution_count": 112,
      "outputs": []
    },
    {
      "cell_type": "code",
      "source": [
        "cm_reg = confusion_matrix(y_test, y_pred)"
      ],
      "metadata": {
        "id": "-oVCQFnqa-2g"
      },
      "execution_count": 113,
      "outputs": []
    },
    {
      "cell_type": "code",
      "source": [
        "ax = sns.heatmap(cm_reg/np.sum(cm_reg), annot=True,  cmap=\"Greens\")\n",
        "ax.set_title('Confusion Matrix Logistic Regression, Male\\n\\n');\n",
        "ax.set_xlabel('\\nPredicted Values')\n",
        "ax.set_ylabel('Actual Values ');\n",
        "\n",
        "## Ticket labels - List must be in alphabetical order\n",
        "ax.xaxis.set_ticklabels(['False','True'])\n",
        "ax.yaxis.set_ticklabels(['False','True'])\n",
        "\n",
        "## Display the visualization of the Confusion Matrix.\n",
        "plt.show()"
      ],
      "metadata": {
        "id": "C8pWx5hKaxtb",
        "colab": {
          "base_uri": "https://localhost:8080/",
          "height": 500
        },
        "outputId": "5f73ea01-fbfb-4db2-a199-59b8bf360405"
      },
      "execution_count": 114,
      "outputs": [
        {
          "output_type": "display_data",
          "data": {
            "text/plain": [
              "<Figure size 864x504 with 2 Axes>"
            ],
            "image/png": "[encoded data removed]"
          },
          "metadata": {
            "needs_background": "light"
          }
        }
      ]
    },
    {
      "cell_type": "code",
      "source": [
        "Precision_REG =  metrics.precision_score(y_test, y_pred) \n",
        "Sensitivity_recall_REG = metrics.recall_score(y_test, y_pred)\n",
        "F1_score_REG = metrics.f1_score(y_test, y_pred)\n",
        "\n",
        "print({\"Accuracy\":Accuracy,\"Precision\":Precision,\"Sensitivity_recall\":Sensitivity_recall,\"F1_score\":F1_score})"
      ],
      "metadata": {
        "colab": {
          "base_uri": "https://localhost:8080/"
        },
        "id": "gWraZyTY4KZ4",
        "outputId": "ad2a23ca-46c9-436d-a904-3d81fc8f14f3"
      },
      "execution_count": 115,
      "outputs": [
        {
          "output_type": "stream",
          "name": "stdout",
          "text": [
            "{'Accuracy': 87.5, 'Precision': 0.4166666666666667, 'Sensitivity_recall': 0.15625, 'F1_score': 0.22727272727272727}\n"
          ]
        }
      ]
    },
    {
      "cell_type": "code",
      "source": [
        "print(metrics.classification_report(y_test, y_pred))"
      ],
      "metadata": {
        "colab": {
          "base_uri": "https://localhost:8080/"
        },
        "id": "9Cd2-C4pAVd5",
        "outputId": "34ba4d47-47b4-4d4c-92d0-d1d234947cae"
      },
      "execution_count": 116,
      "outputs": [
        {
          "output_type": "stream",
          "name": "stdout",
          "text": [
            "              precision    recall  f1-score   support\n",
            "\n",
            "           0       0.00      0.00      0.00        36\n",
            "           1       0.89      1.00      0.94       290\n",
            "\n",
            "    accuracy                           0.89       326\n",
            "   macro avg       0.44      0.50      0.47       326\n",
            "weighted avg       0.79      0.89      0.84       326\n",
            "\n"
          ]
        },
        {
          "output_type": "stream",
          "name": "stderr",
          "text": [
            "/usr/local/lib/python3.7/dist-packages/sklearn/metrics/_classification.py:1318: UndefinedMetricWarning: Precision and F-score are ill-defined and being set to 0.0 in labels with no predicted samples. Use `zero_division` parameter to control this behavior.\n",
            "  _warn_prf(average, modifier, msg_start, len(result))\n",
            "/usr/local/lib/python3.7/dist-packages/sklearn/metrics/_classification.py:1318: UndefinedMetricWarning: Precision and F-score are ill-defined and being set to 0.0 in labels with no predicted samples. Use `zero_division` parameter to control this behavior.\n",
            "  _warn_prf(average, modifier, msg_start, len(result))\n",
            "/usr/local/lib/python3.7/dist-packages/sklearn/metrics/_classification.py:1318: UndefinedMetricWarning: Precision and F-score are ill-defined and being set to 0.0 in labels with no predicted samples. Use `zero_division` parameter to control this behavior.\n",
            "  _warn_prf(average, modifier, msg_start, len(result))\n"
          ]
        }
      ]
    },
    {
      "cell_type": "code",
      "source": [
        "# Comparing models\n",
        "lst = [['KNN', Accuracy_KNN], ['LDA', Accuracy_LDA*100], ['REG', Accuracy_REG*100]]\n",
        "accuracies = pd.DataFrame(lst, columns =['Classifier', 'Accuracy'])\n",
        "\n",
        "p = sns.set_color_codes(\"muted\")\n",
        "p = sns.barplot(x='Accuracy', y='Classifier', data=accuracies, color=\"g\")\n",
        "p.set(xlim=(80, None))\n",
        "\n",
        "plt.xlabel('Accuracy')\n",
        "plt.title('Classifier Accuracy')\n",
        "plt.show()"
      ],
      "metadata": {
        "colab": {
          "base_uri": "https://localhost:8080/",
          "height": 458
        },
        "id": "Tis3FqWl6df4",
        "outputId": "e345a78b-9556-4227-f581-cd28e5213bf8"
      },
      "execution_count": 117,
      "outputs": [
        {
          "output_type": "display_data",
          "data": {
            "text/plain": [
              "<Figure size 864x504 with 1 Axes>"
            ],
            "image/png": "[encoded data removed]"
          },
          "metadata": {
            "needs_background": "light"
          }
        }
      ]
    },
    {
      "cell_type": "code",
      "source": [
        "lst = [['KNN', Precision_KNN], ['LDA', Precision_LDA*100], ['REG', Precision_REG*100]]\n",
        "precisions = pd.DataFrame(lst, columns =['Classifier', 'Precision'])\n",
        "\n",
        "p = sns.set_color_codes(\"muted\")\n",
        "p = sns.barplot(x='Precision', y='Classifier', data=precisions, color=\"g\")\n",
        "#p.set(xlim=(80, None))\n",
        "\n",
        "plt.xlabel('Precision')\n",
        "plt.title('Classifier Precision')\n",
        "plt.show()"
      ],
      "metadata": {
        "colab": {
          "base_uri": "https://localhost:8080/",
          "height": 458
        },
        "id": "w6PZulHw-R2_",
        "outputId": "2583ff53-3a3d-4a41-a142-8bb95fa4516f"
      },
      "execution_count": 118,
      "outputs": [
        {
          "output_type": "display_data",
          "data": {
            "text/plain": [
              "<Figure size 864x504 with 1 Axes>"
            ],
            "image/png": "[encoded data removed]"
          },
          "metadata": {
            "needs_background": "light"
          }
        }
      ]
    },
    {
      "cell_type": "code",
      "source": [
        "#Evaluate importance of variables\n",
        "from sklearn.tree import DecisionTreeClassifier\n",
        "X = data.drop(['Female', 'Male'], axis = 1)\n",
        "Y = data['Male'].values\n",
        "\n",
        "clf = DecisionTreeClassifier()\n",
        "\n",
        "clf.fit(X, Y)\n",
        "importances = list(clf.feature_importances_)\n",
        "indices = np.argsort(importances)[::-1]\n",
        "feature_names = list(X.columns)\n",
        "\n",
        "\n",
        "imp = pd.DataFrame(zip(feature_names,importances), columns =['Feature', 'Relevance'])\n",
        "\n",
        "p = sns.set_color_codes(\"muted\")\n",
        "p = sns.barplot(x='Relevance', y='Feature', data=imp, color=\"g\")"
      ],
      "metadata": {
        "colab": {
          "base_uri": "https://localhost:8080/",
          "height": 442
        },
        "id": "WjumRDqj-0pm",
        "outputId": "dceda4c6-c569-4fe4-b8c6-262d9f461c77"
      },
      "execution_count": 119,
      "outputs": [
        {
          "output_type": "display_data",
          "data": {
            "text/plain": [
              "<Figure size 864x504 with 1 Axes>"
            ],
            "image/png": "[encoded data removed]"
          },
          "metadata": {
            "needs_background": "light"
          }
        }
      ]
    },
    {
      "cell_type": "code",
      "source": [
        "plt.figure(figsize=(10,6))\n",
        "sns.countplot(df[df['Gender'] == 'Male']['Seniority'],palette = \"BuGn\")\n",
        "plt.title(\"Men in Seniority Positions\")"
      ],
      "metadata": {
        "colab": {
          "base_uri": "https://localhost:8080/",
          "height": 476
        },
        "id": "Z2s-UtOQInlE",
        "outputId": "d2242a73-bc97-437e-d523-3b7161a77707"
      },
      "execution_count": 120,
      "outputs": [
        {
          "output_type": "stream",
          "name": "stderr",
          "text": [
            "/usr/local/lib/python3.7/dist-packages/seaborn/_decorators.py:43: FutureWarning: Pass the following variable as a keyword arg: x. From version 0.12, the only valid positional argument will be `data`, and passing other arguments without an explicit keyword will result in an error or misinterpretation.\n",
            "  FutureWarning\n"
          ]
        },
        {
          "output_type": "execute_result",
          "data": {
            "text/plain": [
              "Text(0.5, 1.0, 'Men in Seniority Positions')"
            ]
          },
          "metadata": {},
          "execution_count": 120
        },
        {
          "output_type": "display_data",
          "data": {
            "text/plain": [
              "<Figure size 720x432 with 1 Axes>"
            ],
            "image/png": "[encoded data removed]"
          },
          "metadata": {
            "needs_background": "light"
          }
        }
      ]
    },
    {
      "cell_type": "code",
      "source": [
        "plt.figure(figsize=(10,6))\n",
        "sns.countplot(df[df['Gender'] == 'Female']['Seniority'],palette = \"BuGn\")\n",
        "plt.title(\"Women in Seniority Positions\")"
      ],
      "metadata": {
        "colab": {
          "base_uri": "https://localhost:8080/",
          "height": 476
        },
        "id": "uVROJQSsI_af",
        "outputId": "2e86a05b-6100-450b-bf67-40cd2bee45b8"
      },
      "execution_count": 121,
      "outputs": [
        {
          "output_type": "stream",
          "name": "stderr",
          "text": [
            "/usr/local/lib/python3.7/dist-packages/seaborn/_decorators.py:43: FutureWarning: Pass the following variable as a keyword arg: x. From version 0.12, the only valid positional argument will be `data`, and passing other arguments without an explicit keyword will result in an error or misinterpretation.\n",
            "  FutureWarning\n"
          ]
        },
        {
          "output_type": "execute_result",
          "data": {
            "text/plain": [
              "Text(0.5, 1.0, 'Women in Seniority Positions')"
            ]
          },
          "metadata": {},
          "execution_count": 121
        },
        {
          "output_type": "display_data",
          "data": {
            "text/plain": [
              "<Figure size 720x432 with 1 Axes>"
            ],
            "image/png": "[encoded data removed]"
          },
          "metadata": {
            "needs_background": "light"
          }
        }
      ]
    },
    {
      "cell_type": "code",
      "source": [
        " df[\"BrutSalary\"].hist(bins=15, color = 'g')\n",
        " plt.title(\"Salary Distribution\")"
      ],
      "metadata": {
        "colab": {
          "base_uri": "https://localhost:8080/",
          "height": 461
        },
        "id": "UgRSXvLjJE7K",
        "outputId": "0e467334-1917-4ff6-a8d4-0012e91a7aca"
      },
      "execution_count": 122,
      "outputs": [
        {
          "output_type": "execute_result",
          "data": {
            "text/plain": [
              "Text(0.5, 1.0, 'Salary Distribution')"
            ]
          },
          "metadata": {},
          "execution_count": 122
        },
        {
          "output_type": "display_data",
          "data": {
            "text/plain": [
              "<Figure size 864x504 with 1 Axes>"
            ],
            "image/png": "[encoded data removed]"
          },
          "metadata": {
            "needs_background": "light"
          }
        }
      ]
    },
    {
      "cell_type": "code",
      "source": [
        "df[df[\"Gender\"] == \"Female\"]['BrutSalary'].hist(bins = 15, color = 'g')\n",
        "plt.title(\"Salary Distribution for Women\")"
      ],
      "metadata": {
        "colab": {
          "base_uri": "https://localhost:8080/",
          "height": 461
        },
        "id": "v8dfzS_cJMZv",
        "outputId": "d9e80e1e-c151-46e0-d161-c9c18fa67dd7"
      },
      "execution_count": 123,
      "outputs": [
        {
          "output_type": "execute_result",
          "data": {
            "text/plain": [
              "Text(0.5, 1.0, 'Salary Distribution for Women')"
            ]
          },
          "metadata": {},
          "execution_count": 123
        },
        {
          "output_type": "display_data",
          "data": {
            "text/plain": [
              "<Figure size 864x504 with 1 Axes>"
            ],
            "image/png": "[encoded data removed]"
          },
          "metadata": {
            "needs_background": "light"
          }
        }
      ]
    },
    {
      "cell_type": "code",
      "source": [
        "import statsmodels.api as sm\n",
        "X_train, X_test, y_train, y_test = train_test_split(X, Y, test_size=0.3, random_state=0)\n",
        "model = sm.Logit(y_train,X_train)\n",
        "result = model.fit()\n",
        "result.params"
      ],
      "metadata": {
        "colab": {
          "base_uri": "https://localhost:8080/"
        },
        "id": "i-Yhdv3PLpGN",
        "outputId": "ed70c44f-3cc0-4628-f233-70bf60dc44b2"
      },
      "execution_count": 124,
      "outputs": [
        {
          "output_type": "stream",
          "name": "stdout",
          "text": [
            "Optimization terminated successfully.\n",
            "         Current function value: 0.377914\n",
            "         Iterations 7\n"
          ]
        },
        {
          "output_type": "execute_result",
          "data": {
            "text/plain": [
              "Age                           -0.019847\n",
              "TotalYearsExperience           0.134449\n",
              "YearsExperienceGermany        -0.045500\n",
              "BrutSalary                     0.000015\n",
              "BrutSalaryAndStocks            0.000019\n",
              "AnnualBrutLastYear             0.000012\n",
              "AnnualBrutAndStocksLastYear    0.000007\n",
              "HoursIfShorterWeek             0.001664\n",
              "AdditionalMonetarySupport     -0.000014\n",
              "SeniorityLevel                -0.108015\n",
              "EmploymentType                -0.043016\n",
              "dtype: float64"
            ]
          },
          "metadata": {},
          "execution_count": 124
        }
      ]
    },
    {
      "cell_type": "code",
      "source": [
        "yhat = result.predict(X_test)\n",
        "prediction = list(map(round, yhat))\n",
        "  \n",
        "# comparing original and predicted values of y\n",
        "print('Actual values', list(y_test))\n",
        "print('Predictions :', prediction)"
      ],
      "metadata": {
        "colab": {
          "base_uri": "https://localhost:8080/"
        },
        "id": "Ia6oir-zMdnP",
        "outputId": "ecde7fae-9f6c-4cca-dadc-29084a38720f"
      },
      "execution_count": 125,
      "outputs": [
        {
          "output_type": "stream",
          "name": "stdout",
          "text": [
            "Actual values [1, 1, 1, 0, 1, 1, 1, 1, 1, 1, 1, 1, 1, 1, 1, 1, 0, 1, 0, 1, 1, 1, 1, 1, 1, 1, 1, 1, 1, 1, 1, 1, 1, 1, 1, 1, 1, 1, 1, 1, 0, 1, 1, 1, 1, 1, 1, 0, 1, 1, 1, 1, 1, 1, 1, 1, 0, 1, 1, 1, 1, 1, 1, 1, 1, 1, 1, 1, 1, 1, 1, 1, 0, 1, 1, 1, 1, 0, 1, 1, 1, 1, 0, 0, 1, 1, 1, 1, 1, 1, 1, 1, 1, 1, 1, 1, 0, 1, 1, 0, 1, 0, 1, 1, 1, 1, 1, 1, 1, 1, 1, 1, 1, 1, 1, 1, 1, 0, 1, 1, 0, 1, 1, 1, 1, 1, 1, 1, 1, 1, 1, 1, 1, 1, 1, 1, 1, 1, 0, 1, 1, 1, 0, 1, 1, 1, 1, 1, 1, 1, 1, 0, 1, 1, 1, 0, 1, 0, 1, 1, 1, 1, 1, 1, 1, 1, 0, 1, 1, 1, 1, 1, 1, 1, 1, 1, 1, 1, 1, 0, 0, 1, 1, 1, 0, 1, 1, 1, 1, 1, 1, 1, 1, 1, 1, 0, 1, 1, 1, 1, 1, 1, 1, 1, 1, 1, 1, 1, 1, 1, 0, 1, 0, 1, 0, 1, 1, 0, 1, 1, 1, 1, 1, 1, 1, 1, 1, 1, 1, 1, 1, 1, 1, 1, 1, 1, 1, 1, 1, 1, 1, 1, 1, 1, 1, 1, 1, 1, 1, 0, 1, 1, 1, 1, 0, 1, 1, 1, 1, 1, 1, 1, 1, 1, 1, 1, 1, 1, 1, 1, 1, 0, 1, 1, 1, 1, 1, 1, 1, 1, 1, 1, 1, 0, 1, 1, 1, 0, 1, 1, 1, 1, 1, 1, 1, 1, 1, 1, 1, 1, 1, 0, 1, 1, 1, 1, 1, 1, 1, 1, 1, 1, 1, 1, 1, 1, 1, 1, 1, 1, 1, 0, 1, 1, 1, 1]\n",
            "Predictions : [1, 1, 1, 1, 1, 1, 1, 1, 1, 1, 1, 1, 1, 1, 1, 1, 1, 1, 1, 1, 1, 1, 1, 1, 1, 1, 1, 1, 1, 1, 1, 1, 1, 1, 1, 1, 1, 1, 1, 1, 1, 1, 1, 1, 1, 1, 1, 1, 1, 1, 1, 1, 1, 1, 1, 1, 1, 1, 1, 1, 1, 1, 1, 1, 1, 1, 1, 1, 1, 1, 1, 1, 1, 1, 1, 1, 1, 1, 1, 1, 1, 1, 1, 1, 1, 1, 1, 1, 1, 1, 1, 1, 1, 1, 1, 1, 1, 1, 1, 1, 1, 1, 1, 1, 1, 1, 1, 1, 1, 1, 1, 1, 1, 1, 1, 1, 1, 1, 1, 1, 1, 1, 1, 1, 1, 1, 1, 1, 1, 1, 1, 1, 1, 1, 1, 1, 1, 1, 1, 1, 1, 1, 1, 1, 1, 1, 1, 1, 1, 1, 1, 1, 1, 1, 1, 1, 1, 1, 1, 1, 1, 1, 1, 1, 1, 1, 1, 1, 1, 1, 1, 1, 1, 1, 1, 1, 1, 1, 1, 1, 1, 1, 1, 1, 1, 1, 1, 1, 1, 1, 1, 1, 1, 1, 1, 1, 1, 1, 1, 1, 1, 1, 1, 1, 1, 1, 1, 1, 1, 1, 1, 1, 1, 1, 1, 1, 1, 1, 1, 1, 1, 1, 1, 1, 1, 1, 1, 1, 1, 1, 1, 1, 1, 1, 1, 1, 1, 1, 1, 1, 1, 1, 1, 1, 1, 1, 1, 1, 1, 1, 1, 1, 1, 1, 1, 1, 1, 1, 1, 1, 1, 1, 1, 1, 1, 1, 1, 1, 1, 1, 1, 1, 1, 1, 1, 1, 1, 1, 1, 1, 1, 1, 1, 1, 1, 1, 1, 1, 1, 1, 1, 1, 1, 1, 1, 1, 1, 1, 1, 1, 1, 1, 1, 1, 1, 1, 1, 1, 1, 1, 1, 1, 1, 1, 1, 1, 1, 1, 1, 1, 1, 1, 1, 1, 1, 1]\n"
          ]
        }
      ]
    },
    {
      "cell_type": "code",
      "source": [
        "result.summary()"
      ],
      "metadata": {
        "colab": {
          "base_uri": "https://localhost:8080/",
          "height": 433
        },
        "id": "zJ2vUGP-MjHG",
        "outputId": "95b574e3-25f1-4ea8-85c6-17ac1c1edec7"
      },
      "execution_count": 126,
      "outputs": [
        {
          "output_type": "execute_result",
          "data": {
            "text/plain": [
              "<class 'statsmodels.iolib.summary.Summary'>\n",
              "\"\"\"\n",
              "                           Logit Regression Results                           \n",
              "==============================================================================\n",
              "Dep. Variable:                      y   No. Observations:                  760\n",
              "Model:                          Logit   Df Residuals:                      749\n",
              "Method:                           MLE   Df Model:                           10\n",
              "Date:                Mon, 17 Oct 2022   Pseudo R-squ.:                  0.1011\n",
              "Time:                        12:53:50   Log-Likelihood:                -287.21\n",
              "converged:                       True   LL-Null:                       -319.52\n",
              "Covariance Type:            nonrobust   LLR p-value:                 4.816e-10\n",
              "===============================================================================================\n",
              "                                  coef    std err          z      P>|z|      [0.025      0.975]\n",
              "-----------------------------------------------------------------------------------------------\n",
              "Age                            -0.0198      0.023     -0.860      0.390      -0.065       0.025\n",
              "TotalYearsExperience            0.1344      0.035      3.812      0.000       0.065       0.204\n",
              "YearsExperienceGermany         -0.0455      0.040     -1.151      0.250      -0.123       0.032\n",
              "BrutSalary                   1.489e-05   9.53e-06      1.563      0.118   -3.78e-06    3.36e-05\n",
              "BrutSalaryAndStocks          1.851e-05   9.94e-06      1.862      0.063   -9.74e-07     3.8e-05\n",
              "AnnualBrutLastYear           1.175e-05   1.06e-05      1.108      0.268   -9.03e-06    3.25e-05\n",
              "AnnualBrutAndStocksLastYear  6.952e-06   9.15e-06      0.760      0.447    -1.1e-05    2.49e-05\n",
              "HoursIfShorterWeek              0.0017      0.013      0.129      0.898      -0.024       0.027\n",
              "AdditionalMonetarySupport   -1.445e-05      0.001     -0.023      0.981      -0.001       0.001\n",
              "SeniorityLevel                 -0.1080      0.183     -0.592      0.554      -0.466       0.250\n",
              "EmploymentType                 -0.0430      0.161     -0.267      0.790      -0.359       0.273\n",
              "===============================================================================================\n",
              "\"\"\""
            ],
            "text/html": [
              "<table class=\"simpletable\">\n",
              "<caption>Logit Regression Results</caption>\n",
              "<tr>\n",
              "  <th>Dep. Variable:</th>           <td>y</td>        <th>  No. Observations:  </th>  <td>   760</td>  \n",
              "</tr>\n",
              "<tr>\n",
              "  <th>Model:</th>                 <td>Logit</td>      <th>  Df Residuals:      </th>  <td>   749</td>  \n",
              "</tr>\n",
              "<tr>\n",
              "  <th>Method:</th>                 <td>MLE</td>       <th>  Df Model:          </th>  <td>    10</td>  \n",
              "</tr>\n",
              "<tr>\n",
              "  <th>Date:</th>            <td>Mon, 17 Oct 2022</td> <th>  Pseudo R-squ.:     </th>  <td>0.1011</td>  \n",
              "</tr>\n",
              "<tr>\n",
              "  <th>Time:</th>                <td>12:53:50</td>     <th>  Log-Likelihood:    </th> <td> -287.21</td> \n",
              "</tr>\n",
              "<tr>\n",
              "  <th>converged:</th>             <td>True</td>       <th>  LL-Null:           </th> <td> -319.52</td> \n",
              "</tr>\n",
              "<tr>\n",
              "  <th>Covariance Type:</th>     <td>nonrobust</td>    <th>  LLR p-value:       </th> <td>4.816e-10</td>\n",
              "</tr>\n",
              "</table>\n",
              "<table class=\"simpletable\">\n",
              "<tr>\n",
              "               <td></td>                  <th>coef</th>     <th>std err</th>      <th>z</th>      <th>P>|z|</th>  <th>[0.025</th>    <th>0.975]</th>  \n",
              "</tr>\n",
              "<tr>\n",
              "  <th>Age</th>                         <td>   -0.0198</td> <td>    0.023</td> <td>   -0.860</td> <td> 0.390</td> <td>   -0.065</td> <td>    0.025</td>\n",
              "</tr>\n",
              "<tr>\n",
              "  <th>TotalYearsExperience</th>        <td>    0.1344</td> <td>    0.035</td> <td>    3.812</td> <td> 0.000</td> <td>    0.065</td> <td>    0.204</td>\n",
              "</tr>\n",
              "<tr>\n",
              "  <th>YearsExperienceGermany</th>      <td>   -0.0455</td> <td>    0.040</td> <td>   -1.151</td> <td> 0.250</td> <td>   -0.123</td> <td>    0.032</td>\n",
              "</tr>\n",
              "<tr>\n",
              "  <th>BrutSalary</th>                  <td> 1.489e-05</td> <td> 9.53e-06</td> <td>    1.563</td> <td> 0.118</td> <td>-3.78e-06</td> <td> 3.36e-05</td>\n",
              "</tr>\n",
              "<tr>\n",
              "  <th>BrutSalaryAndStocks</th>         <td> 1.851e-05</td> <td> 9.94e-06</td> <td>    1.862</td> <td> 0.063</td> <td>-9.74e-07</td> <td>  3.8e-05</td>\n",
              "</tr>\n",
              "<tr>\n",
              "  <th>AnnualBrutLastYear</th>          <td> 1.175e-05</td> <td> 1.06e-05</td> <td>    1.108</td> <td> 0.268</td> <td>-9.03e-06</td> <td> 3.25e-05</td>\n",
              "</tr>\n",
              "<tr>\n",
              "  <th>AnnualBrutAndStocksLastYear</th> <td> 6.952e-06</td> <td> 9.15e-06</td> <td>    0.760</td> <td> 0.447</td> <td> -1.1e-05</td> <td> 2.49e-05</td>\n",
              "</tr>\n",
              "<tr>\n",
              "  <th>HoursIfShorterWeek</th>          <td>    0.0017</td> <td>    0.013</td> <td>    0.129</td> <td> 0.898</td> <td>   -0.024</td> <td>    0.027</td>\n",
              "</tr>\n",
              "<tr>\n",
              "  <th>AdditionalMonetarySupport</th>   <td>-1.445e-05</td> <td>    0.001</td> <td>   -0.023</td> <td> 0.981</td> <td>   -0.001</td> <td>    0.001</td>\n",
              "</tr>\n",
              "<tr>\n",
              "  <th>SeniorityLevel</th>              <td>   -0.1080</td> <td>    0.183</td> <td>   -0.592</td> <td> 0.554</td> <td>   -0.466</td> <td>    0.250</td>\n",
              "</tr>\n",
              "<tr>\n",
              "  <th>EmploymentType</th>              <td>   -0.0430</td> <td>    0.161</td> <td>   -0.267</td> <td> 0.790</td> <td>   -0.359</td> <td>    0.273</td>\n",
              "</tr>\n",
              "</table>"
            ]
          },
          "metadata": {},
          "execution_count": 126
        }
      ]
    },
    {
      "cell_type": "code",
      "source": [
        "plt.rc('figure', figsize=(12, 7))\n",
        "plt.text(0.01, 0.05, result.summary(), {'fontsize': 10}, fontproperties = 'monospace')\n",
        "plt.axis('off')\n",
        "plt.tight_layout()"
      ],
      "metadata": {
        "id": "y84mOrd4PIVV",
        "outputId": "cd63df2a-322a-43b9-ffb5-a9a127339dde",
        "colab": {
          "base_uri": "https://localhost:8080/",
          "height": 513
        }
      },
      "execution_count": 127,
      "outputs": [
        {
          "output_type": "display_data",
          "data": {
            "text/plain": [
              "<Figure size 864x504 with 1 Axes>"
            ],
            "image/png": "[encoded data removed]"
          },
          "metadata": {
            "needs_background": "light"
          }
        }
      ]
    }
  ]
}