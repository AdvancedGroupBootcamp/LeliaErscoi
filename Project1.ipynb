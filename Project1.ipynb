{
  "cells": [
    {
      "cell_type": "code",
      "source": [
        "from google.colab import drive\n",
        "drive.mount('/content/drive')"
      ],
      "metadata": {
        "colab": {
          "base_uri": "https://localhost:8080/"
        },
        "id": "hmRxRjasmYSP",
        "outputId": "9a4d6abb-486d-469b-9b72-1d40074d64c7"
      },
      "execution_count": 15,
      "outputs": [
        {
          "output_type": "stream",
          "name": "stdout",
          "text": [
            "Mounted at /content/drive\n"
          ]
        }
      ]
    },
    {
      "cell_type": "code",
      "source": [
        "!unzip /content/drive/My\\ Drive/spotify.zip"
      ],
      "metadata": {
        "colab": {
          "base_uri": "https://localhost:8080/"
        },
        "id": "VXFhRnYxnG7s",
        "outputId": "422bf969-27dc-4d58-fbae-c59811ee7a86"
      },
      "execution_count": 7,
      "outputs": [
        {
          "output_type": "stream",
          "name": "stdout",
          "text": [
            "Archive:  /content/drive/My Drive/spotify.zip\n",
            "replace md5sums? [y]es, [n]o, [A]ll, [N]one, [r]ename: N\n"
          ]
        }
      ]
    },
    {
      "cell_type": "code",
      "source": [
        "import json as js\n",
        "import pandas as pd\n",
        "import numpy as np\n",
        "import os"
      ],
      "metadata": {
        "id": "mEFvieAbblUF"
      },
      "execution_count": 3,
      "outputs": []
    },
    {
      "cell_type": "code",
      "source": [
        "import zipfile\n",
        "\n",
        "zip_file_path = '/content/drive/MyDrive/spotify.zip'"
      ],
      "metadata": {
        "id": "XmaYlNoxAVPw"
      },
      "execution_count": 40,
      "outputs": []
    },
    {
      "cell_type": "code",
      "source": [
        "from google.colab import files\n",
        "uploaded = files.upload()"
      ],
      "metadata": {
        "colab": {
          "base_uri": "https://localhost:8080/",
          "height": 74
        },
        "id": "ho5OTEak26J4",
        "outputId": "014c3f19-0de7-47ff-fa75-6e35055d5869"
      },
      "execution_count": 188,
      "outputs": [
        {
          "output_type": "display_data",
          "data": {
            "text/plain": [
              "<IPython.core.display.HTML object>"
            ],
            "text/html": [
              "\n",
              "     <input type=\"file\" id=\"files-3c97d16b-b382-455d-a3ec-3eac67169144\" name=\"files[]\" multiple disabled\n",
              "        style=\"border:none\" />\n",
              "     <output id=\"result-3c97d16b-b382-455d-a3ec-3eac67169144\">\n",
              "      Upload widget is only available when the cell has been executed in the\n",
              "      current browser session. Please rerun this cell to enable.\n",
              "      </output>\n",
              "      <script>// Copyright 2017 Google LLC\n",
              "//\n",
              "// Licensed under the Apache License, Version 2.0 (the \"License\");\n",
              "// you may not use this file except in compliance with the License.\n",
              "// You may obtain a copy of the License at\n",
              "//\n",
              "//      http://www.apache.org/licenses/LICENSE-2.0\n",
              "//\n",
              "// Unless required by applicable law or agreed to in writing, software\n",
              "// distributed under the License is distributed on an \"AS IS\" BASIS,\n",
              "// WITHOUT WARRANTIES OR CONDITIONS OF ANY KIND, either express or implied.\n",
              "// See the License for the specific language governing permissions and\n",
              "// limitations under the License.\n",
              "\n",
              "/**\n",
              " * @fileoverview Helpers for google.colab Python module.\n",
              " */\n",
              "(function(scope) {\n",
              "function span(text, styleAttributes = {}) {\n",
              "  const element = document.createElement('span');\n",
              "  element.textContent = text;\n",
              "  for (const key of Object.keys(styleAttributes)) {\n",
              "    element.style[key] = styleAttributes[key];\n",
              "  }\n",
              "  return element;\n",
              "}\n",
              "\n",
              "// Max number of bytes which will be uploaded at a time.\n",
              "const MAX_PAYLOAD_SIZE = 100 * 1024;\n",
              "\n",
              "function _uploadFiles(inputId, outputId) {\n",
              "  const steps = uploadFilesStep(inputId, outputId);\n",
              "  const outputElement = document.getElementById(outputId);\n",
              "  // Cache steps on the outputElement to make it available for the next call\n",
              "  // to uploadFilesContinue from Python.\n",
              "  outputElement.steps = steps;\n",
              "\n",
              "  return _uploadFilesContinue(outputId);\n",
              "}\n",
              "\n",
              "// This is roughly an async generator (not supported in the browser yet),\n",
              "// where there are multiple asynchronous steps and the Python side is going\n",
              "// to poll for completion of each step.\n",
              "// This uses a Promise to block the python side on completion of each step,\n",
              "// then passes the result of the previous step as the input to the next step.\n",
              "function _uploadFilesContinue(outputId) {\n",
              "  const outputElement = document.getElementById(outputId);\n",
              "  const steps = outputElement.steps;\n",
              "\n",
              "  const next = steps.next(outputElement.lastPromiseValue);\n",
              "  return Promise.resolve(next.value.promise).then((value) => {\n",
              "    // Cache the last promise value to make it available to the next\n",
              "    // step of the generator.\n",
              "    outputElement.lastPromiseValue = value;\n",
              "    return next.value.response;\n",
              "  });\n",
              "}\n",
              "\n",
              "/**\n",
              " * Generator function which is called between each async step of the upload\n",
              " * process.\n",
              " * @param {string} inputId Element ID of the input file picker element.\n",
              " * @param {string} outputId Element ID of the output display.\n",
              " * @return {!Iterable<!Object>} Iterable of next steps.\n",
              " */\n",
              "function* uploadFilesStep(inputId, outputId) {\n",
              "  const inputElement = document.getElementById(inputId);\n",
              "  inputElement.disabled = false;\n",
              "\n",
              "  const outputElement = document.getElementById(outputId);\n",
              "  outputElement.innerHTML = '';\n",
              "\n",
              "  const pickedPromise = new Promise((resolve) => {\n",
              "    inputElement.addEventListener('change', (e) => {\n",
              "      resolve(e.target.files);\n",
              "    });\n",
              "  });\n",
              "\n",
              "  const cancel = document.createElement('button');\n",
              "  inputElement.parentElement.appendChild(cancel);\n",
              "  cancel.textContent = 'Cancel upload';\n",
              "  const cancelPromise = new Promise((resolve) => {\n",
              "    cancel.onclick = () => {\n",
              "      resolve(null);\n",
              "    };\n",
              "  });\n",
              "\n",
              "  // Wait for the user to pick the files.\n",
              "  const files = yield {\n",
              "    promise: Promise.race([pickedPromise, cancelPromise]),\n",
              "    response: {\n",
              "      action: 'starting',\n",
              "    }\n",
              "  };\n",
              "\n",
              "  cancel.remove();\n",
              "\n",
              "  // Disable the input element since further picks are not allowed.\n",
              "  inputElement.disabled = true;\n",
              "\n",
              "  if (!files) {\n",
              "    return {\n",
              "      response: {\n",
              "        action: 'complete',\n",
              "      }\n",
              "    };\n",
              "  }\n",
              "\n",
              "  for (const file of files) {\n",
              "    const li = document.createElement('li');\n",
              "    li.append(span(file.name, {fontWeight: 'bold'}));\n",
              "    li.append(span(\n",
              "        `(${file.type || 'n/a'}) - ${file.size} bytes, ` +\n",
              "        `last modified: ${\n",
              "            file.lastModifiedDate ? file.lastModifiedDate.toLocaleDateString() :\n",
              "                                    'n/a'} - `));\n",
              "    const percent = span('0% done');\n",
              "    li.appendChild(percent);\n",
              "\n",
              "    outputElement.appendChild(li);\n",
              "\n",
              "    const fileDataPromise = new Promise((resolve) => {\n",
              "      const reader = new FileReader();\n",
              "      reader.onload = (e) => {\n",
              "        resolve(e.target.result);\n",
              "      };\n",
              "      reader.readAsArrayBuffer(file);\n",
              "    });\n",
              "    // Wait for the data to be ready.\n",
              "    let fileData = yield {\n",
              "      promise: fileDataPromise,\n",
              "      response: {\n",
              "        action: 'continue',\n",
              "      }\n",
              "    };\n",
              "\n",
              "    // Use a chunked sending to avoid message size limits. See b/62115660.\n",
              "    let position = 0;\n",
              "    do {\n",
              "      const length = Math.min(fileData.byteLength - position, MAX_PAYLOAD_SIZE);\n",
              "      const chunk = new Uint8Array(fileData, position, length);\n",
              "      position += length;\n",
              "\n",
              "      const base64 = btoa(String.fromCharCode.apply(null, chunk));\n",
              "      yield {\n",
              "        response: {\n",
              "          action: 'append',\n",
              "          file: file.name,\n",
              "          data: base64,\n",
              "        },\n",
              "      };\n",
              "\n",
              "      let percentDone = fileData.byteLength === 0 ?\n",
              "          100 :\n",
              "          Math.round((position / fileData.byteLength) * 100);\n",
              "      percent.textContent = `${percentDone}% done`;\n",
              "\n",
              "    } while (position < fileData.byteLength);\n",
              "  }\n",
              "\n",
              "  // All done.\n",
              "  yield {\n",
              "    response: {\n",
              "      action: 'complete',\n",
              "    }\n",
              "  };\n",
              "}\n",
              "\n",
              "scope.google = scope.google || {};\n",
              "scope.google.colab = scope.google.colab || {};\n",
              "scope.google.colab._files = {\n",
              "  _uploadFiles,\n",
              "  _uploadFilesContinue,\n",
              "};\n",
              "})(self);\n",
              "</script> "
            ]
          },
          "metadata": {}
        },
        {
          "output_type": "stream",
          "name": "stdout",
          "text": [
            "Saving mpd.slice.0-999.json to mpd.slice.0-999.json\n"
          ]
        }
      ]
    },
    {
      "cell_type": "code",
      "source": [
        "filename = \"mpd.slice.0-999.json\"\n",
        "\n",
        "with open(filename, \"r\") as file:\n",
        "  data = js.load(file)\n",
        "\n",
        "df_playlists = pd.json_normalize(data,record_path=['playlists'])\n",
        "df_playlists = df_playlists.drop(['collaborative', 'pid', 'modified_at', 'num_followers', 'num_edits', 'description'], axis=1)\n",
        "\n",
        "df_tracks = pd.json_normalize(data=data['playlists'], record_path='tracks', \n",
        "                            meta=['artist_name','track_uri', 'artist_uri', 'duration_ms', 'name'], errors='ignore', record_prefix='track_' )\n",
        "df_tracks  = df_tracks .drop(['artist_name', 'track_uri', 'artist_uri', 'track_album_uri', 'track_album_name', 'duration_ms'], axis=1)"
      ],
      "metadata": {
        "id": "Ewv8Bosk4EX2"
      },
      "execution_count": 191,
      "outputs": []
    },
    {
      "cell_type": "code",
      "source": [
        "artists = [\n",
        "    'Zaz',\n",
        "    'Oumou',\n",
        "    'Kendrick Lamar',\n",
        "    'Pink',\n",
        "    'Muse',\n",
        "    'The Killers',\n",
        "    'Eminem',\n",
        "    'Taylor Swift',\n",
        "    'Harry Styles',\n",
        "    'Lara Fabian',\n",
        "    'Andrea Bocelli',\n",
        "    'Laurent Garnier'\n",
        "]\n",
        "\n",
        "# Extracting all the artist ID's\n",
        "\n",
        "artists_to_be_removed = ['Zaz', 'Oumou', 'Pink', 'Lara Fabian', 'Laurent Garnier']\n",
        "artists = [art for art in artists if art not in artists_to_be_removed]\n",
        "\n",
        "def get_artist_ID(artists, df_tracks):\n",
        "  artist_ids = []\n",
        "  for artist in artists:\n",
        "    dummy = str(set(df_tracks[df_tracks['track_artist_name'] == artist]['track_artist_uri'].tolist()))\n",
        "    dummy = dummy[2:len(dummy) - 2]\n",
        "    artist_ids.append(dummy)\n",
        "\n",
        "  artists_to_be_removed = ['Zaz', 'Oumou', 'Pink', 'Lara Fabian', 'Laurent Garnier']\n",
        "  return artist_ids\n",
        "\n",
        "\n",
        "artists_and_IDs = {artists[i]: get_artist_ID(artists,df_tracks)[i] for i in range(len(artists))}                                   # creating a dictionary out of our results for better visualization\n",
        "artists_and_IDs = dict(sorted(artists_and_IDs.items(), key = lambda x: x[1], reverse = True))                               # ordering it based on descending order to find the best artists\n",
        "artists_and_IDs"
      ],
      "metadata": {
        "colab": {
          "base_uri": "https://localhost:8080/"
        },
        "id": "AoDWhTtNhMBN",
        "outputId": "fa04f384-fd47-440a-f6bd-51f638535365"
      },
      "execution_count": 274,
      "outputs": [
        {
          "output_type": "execute_result",
          "data": {
            "text/plain": [
              "{'Eminem': 'spotify:artist:7dGJo4pcD2V6oG8kP0tJRR',\n",
              " 'Harry Styles': 'spotify:artist:6KImCVD70vtIoJWnq6nGn3',\n",
              " 'Andrea Bocelli': 'spotify:artist:3EA9hVIzKfFiQI0Kikz2wo',\n",
              " 'Kendrick Lamar': 'spotify:artist:2YZyLoL8N0Wb9xBt1NhZWg',\n",
              " 'Muse': 'spotify:artist:12Chz98pHFMPJEknJQMWvI',\n",
              " 'The Killers': 'spotify:artist:0C0XlULifJtAgn6ZNCW2eu',\n",
              " 'Taylor Swift': 'spotify:artist:06HL4z0CvFAxyc27GXpf02'}"
            ]
          },
          "metadata": {},
          "execution_count": 274
        }
      ]
    },
    {
      "cell_type": "code",
      "source": [
        "# Find the top artist in the playlist! \n",
        "# The artist can stand out by number of appearances_playlists, tracks_featured, or duration\n",
        "def find_top_artists(artists_and_IDs, argument, df_tracks):\n",
        "  dummy_list = []                         # a helper list to store data\n",
        "  for key, value in artists_and_IDs.items():\n",
        "    if argument == 'appearances_playlists':\n",
        "      dummy = len(list(set(df_tracks[df_tracks['track_artist_uri'] == value]['name'].tolist())))      # dummy is a placeholder for the data extracted from the dataframe\n",
        "    elif argument == 'tracks_featured':\n",
        "      dummy = len(df_tracks[df_tracks['track_artist_uri'] == value]['track_artist_uri'].tolist())\n",
        "    elif argument == 'duration':\n",
        "      dummy = sum(df_tracks[df_tracks['track_artist_uri'] == value]['track_duration_ms'].tolist())/60000\n",
        "    dummy_list.append(dummy)\n",
        "  return dummy_list\n"
      ],
      "metadata": {
        "id": "FFGOo5H-ljzg"
      },
      "execution_count": 275,
      "outputs": []
    },
    {
      "cell_type": "code",
      "source": [
        "top_artists = pd.DataFrame(artists, columns=['Artists'])\n",
        "top_artists['Playlist Features'] = 0\n",
        "top_artists['Track Features'] = 0\n",
        "top_artists['Duration'] = 0\n",
        "top_artists"
      ],
      "metadata": {
        "colab": {
          "base_uri": "https://localhost:8080/",
          "height": 269
        },
        "id": "LRa4KB_Ic-2U",
        "outputId": "2b2b59e5-3739-4251-8e3e-f707b3680f76"
      },
      "execution_count": 285,
      "outputs": [
        {
          "output_type": "execute_result",
          "data": {
            "text/plain": [
              "          Artists  Playlist Features  Track Features  Duration\n",
              "0  Kendrick Lamar                  0               0         0\n",
              "1            Muse                  0               0         0\n",
              "2     The Killers                  0               0         0\n",
              "3          Eminem                  0               0         0\n",
              "4    Taylor Swift                  0               0         0\n",
              "5    Harry Styles                  0               0         0\n",
              "6  Andrea Bocelli                  0               0         0"
            ],
            "text/html": [
              "\n",
              "  <div id=\"df-e750e444-d378-4cd8-8e72-338db148ea77\">\n",
              "    <div class=\"colab-df-container\">\n",
              "      <div>\n",
              "<style scoped>\n",
              "    .dataframe tbody tr th:only-of-type {\n",
              "        vertical-align: middle;\n",
              "    }\n",
              "\n",
              "    .dataframe tbody tr th {\n",
              "        vertical-align: top;\n",
              "    }\n",
              "\n",
              "    .dataframe thead th {\n",
              "        text-align: right;\n",
              "    }\n",
              "</style>\n",
              "<table border=\"1\" class=\"dataframe\">\n",
              "  <thead>\n",
              "    <tr style=\"text-align: right;\">\n",
              "      <th></th>\n",
              "      <th>Artists</th>\n",
              "      <th>Playlist Features</th>\n",
              "      <th>Track Features</th>\n",
              "      <th>Duration</th>\n",
              "    </tr>\n",
              "  </thead>\n",
              "  <tbody>\n",
              "    <tr>\n",
              "      <th>0</th>\n",
              "      <td>Kendrick Lamar</td>\n",
              "      <td>0</td>\n",
              "      <td>0</td>\n",
              "      <td>0</td>\n",
              "    </tr>\n",
              "    <tr>\n",
              "      <th>1</th>\n",
              "      <td>Muse</td>\n",
              "      <td>0</td>\n",
              "      <td>0</td>\n",
              "      <td>0</td>\n",
              "    </tr>\n",
              "    <tr>\n",
              "      <th>2</th>\n",
              "      <td>The Killers</td>\n",
              "      <td>0</td>\n",
              "      <td>0</td>\n",
              "      <td>0</td>\n",
              "    </tr>\n",
              "    <tr>\n",
              "      <th>3</th>\n",
              "      <td>Eminem</td>\n",
              "      <td>0</td>\n",
              "      <td>0</td>\n",
              "      <td>0</td>\n",
              "    </tr>\n",
              "    <tr>\n",
              "      <th>4</th>\n",
              "      <td>Taylor Swift</td>\n",
              "      <td>0</td>\n",
              "      <td>0</td>\n",
              "      <td>0</td>\n",
              "    </tr>\n",
              "    <tr>\n",
              "      <th>5</th>\n",
              "      <td>Harry Styles</td>\n",
              "      <td>0</td>\n",
              "      <td>0</td>\n",
              "      <td>0</td>\n",
              "    </tr>\n",
              "    <tr>\n",
              "      <th>6</th>\n",
              "      <td>Andrea Bocelli</td>\n",
              "      <td>0</td>\n",
              "      <td>0</td>\n",
              "      <td>0</td>\n",
              "    </tr>\n",
              "  </tbody>\n",
              "</table>\n",
              "</div>\n",
              "      <button class=\"colab-df-convert\" onclick=\"convertToInteractive('df-e750e444-d378-4cd8-8e72-338db148ea77')\"\n",
              "              title=\"Convert this dataframe to an interactive table.\"\n",
              "              style=\"display:none;\">\n",
              "        \n",
              "  <svg xmlns=\"http://www.w3.org/2000/svg\" height=\"24px\"viewBox=\"0 0 24 24\"\n",
              "       width=\"24px\">\n",
              "    <path d=\"M0 0h24v24H0V0z\" fill=\"none\"/>\n",
              "    <path d=\"M18.56 5.44l.94 2.06.94-2.06 2.06-.94-2.06-.94-.94-2.06-.94 2.06-2.06.94zm-11 1L8.5 8.5l.94-2.06 2.06-.94-2.06-.94L8.5 2.5l-.94 2.06-2.06.94zm10 10l.94 2.06.94-2.06 2.06-.94-2.06-.94-.94-2.06-.94 2.06-2.06.94z\"/><path d=\"M17.41 7.96l-1.37-1.37c-.4-.4-.92-.59-1.43-.59-.52 0-1.04.2-1.43.59L10.3 9.45l-7.72 7.72c-.78.78-.78 2.05 0 2.83L4 21.41c.39.39.9.59 1.41.59.51 0 1.02-.2 1.41-.59l7.78-7.78 2.81-2.81c.8-.78.8-2.07 0-2.86zM5.41 20L4 18.59l7.72-7.72 1.47 1.35L5.41 20z\"/>\n",
              "  </svg>\n",
              "      </button>\n",
              "      \n",
              "  <style>\n",
              "    .colab-df-container {\n",
              "      display:flex;\n",
              "      flex-wrap:wrap;\n",
              "      gap: 12px;\n",
              "    }\n",
              "\n",
              "    .colab-df-convert {\n",
              "      background-color: #E8F0FE;\n",
              "      border: none;\n",
              "      border-radius: 50%;\n",
              "      cursor: pointer;\n",
              "      display: none;\n",
              "      fill: #1967D2;\n",
              "      height: 32px;\n",
              "      padding: 0 0 0 0;\n",
              "      width: 32px;\n",
              "    }\n",
              "\n",
              "    .colab-df-convert:hover {\n",
              "      background-color: #E2EBFA;\n",
              "      box-shadow: 0px 1px 2px rgba(60, 64, 67, 0.3), 0px 1px 3px 1px rgba(60, 64, 67, 0.15);\n",
              "      fill: #174EA6;\n",
              "    }\n",
              "\n",
              "    [theme=dark] .colab-df-convert {\n",
              "      background-color: #3B4455;\n",
              "      fill: #D2E3FC;\n",
              "    }\n",
              "\n",
              "    [theme=dark] .colab-df-convert:hover {\n",
              "      background-color: #434B5C;\n",
              "      box-shadow: 0px 1px 3px 1px rgba(0, 0, 0, 0.15);\n",
              "      filter: drop-shadow(0px 1px 2px rgba(0, 0, 0, 0.3));\n",
              "      fill: #FFFFFF;\n",
              "    }\n",
              "  </style>\n",
              "\n",
              "      <script>\n",
              "        const buttonEl =\n",
              "          document.querySelector('#df-e750e444-d378-4cd8-8e72-338db148ea77 button.colab-df-convert');\n",
              "        buttonEl.style.display =\n",
              "          google.colab.kernel.accessAllowed ? 'block' : 'none';\n",
              "\n",
              "        async function convertToInteractive(key) {\n",
              "          const element = document.querySelector('#df-e750e444-d378-4cd8-8e72-338db148ea77');\n",
              "          const dataTable =\n",
              "            await google.colab.kernel.invokeFunction('convertToInteractive',\n",
              "                                                     [key], {});\n",
              "          if (!dataTable) return;\n",
              "\n",
              "          const docLinkHtml = 'Like what you see? Visit the ' +\n",
              "            '<a target=\"_blank\" href=https://colab.research.google.com/notebooks/data_table.ipynb>data table notebook</a>'\n",
              "            + ' to learn more about interactive tables.';\n",
              "          element.innerHTML = '';\n",
              "          dataTable['output_type'] = 'display_data';\n",
              "          await google.colab.output.renderOutput(dataTable, element);\n",
              "          const docLink = document.createElement('div');\n",
              "          docLink.innerHTML = docLinkHtml;\n",
              "          element.appendChild(docLink);\n",
              "        }\n",
              "      </script>\n",
              "    </div>\n",
              "  </div>\n",
              "  "
            ]
          },
          "metadata": {},
          "execution_count": 285
        }
      ]
    },
    {
      "cell_type": "code",
      "source": [
        "zip_file = zipfile.ZipFile(zip_file_path)\n",
        "zip_files = {text_file for text_file in zip_file.namelist() if text_file.endswith('.json')}\n",
        "\n",
        "def extract_data(zip_files, artists, chunk_size, files_done_so_far):\n",
        "  tops = []\n",
        "\n",
        "  for f in zip_files:\n",
        "     if f not in files_done_so_far: \n",
        "           with zip_file.open(f) as file:\n",
        "             js_file = file.read()\n",
        "             data = js.loads(js_file)\n",
        "\n",
        "             files_done_so_far.append(f)\n",
        "\n",
        "             df_tracks = pd.json_normalize(data=data['playlists'], record_path='tracks', \n",
        "                                            meta=['artist_name','track_uri', 'artist_uri', 'duration_ms', 'name'], errors='ignore', record_prefix='track_' ).drop(['artist_name', 'track_uri', 'artist_uri', 'track_album_uri', 'track_album_name', 'duration_ms'], axis=1)\n",
        "\n",
        "               \n",
        "             top_artists['Playlist Features'] +=  find_top_artists(artists_and_IDs,'appearances_playlists', df_tracks)\n",
        "             top_artists['Track Features'] += find_top_artists(artists_and_IDs, 'tracks_featured', df_tracks)\n",
        "             top_artists['Duration'] += find_top_artists(artists_and_IDs, 'duration', df_tracks)\n",
        "             \n",
        "             chunk_size += -1\n",
        "             if chunk_size > 0:\n",
        "              print(\"file {} done, chunk {}\".format(f, chunk_size))\n",
        "             else:\n",
        "              return files_done_so_far"
      ],
      "metadata": {
        "id": "aBfLXVthAhZy"
      },
      "execution_count": 286,
      "outputs": []
    },
    {
      "cell_type": "code",
      "source": [
        "files_done_so_far = extract_data(zip_files, artists, 30, files_done)"
      ],
      "metadata": {
        "colab": {
          "base_uri": "https://localhost:8080/"
        },
        "id": "6AjCn2tXzsuw",
        "outputId": "204ebf87-3286-42c0-9efc-406d9dfb72e2"
      },
      "execution_count": 287,
      "outputs": [
        {
          "output_type": "stream",
          "name": "stdout",
          "text": [
            "file data/mpd.slice.852000-852999.json done, chunk 29\n",
            "file data/mpd.slice.389000-389999.json done, chunk 28\n",
            "file data/mpd.slice.457000-457999.json done, chunk 27\n",
            "file data/mpd.slice.12000-12999.json done, chunk 26\n",
            "file data/mpd.slice.933000-933999.json done, chunk 25\n",
            "file data/mpd.slice.115000-115999.json done, chunk 24\n",
            "file data/mpd.slice.52000-52999.json done, chunk 23\n",
            "file data/mpd.slice.240000-240999.json done, chunk 22\n",
            "file data/mpd.slice.816000-816999.json done, chunk 21\n",
            "file data/mpd.slice.730000-730999.json done, chunk 20\n",
            "file data/mpd.slice.93000-93999.json done, chunk 19\n",
            "file data/mpd.slice.414000-414999.json done, chunk 18\n",
            "file data/mpd.slice.792000-792999.json done, chunk 17\n",
            "file data/mpd.slice.501000-501999.json done, chunk 16\n",
            "file data/mpd.slice.218000-218999.json done, chunk 15\n",
            "file data/mpd.slice.639000-639999.json done, chunk 14\n",
            "file data/mpd.slice.627000-627999.json done, chunk 13\n",
            "file data/mpd.slice.198000-198999.json done, chunk 12\n",
            "file data/mpd.slice.517000-517999.json done, chunk 11\n",
            "file data/mpd.slice.585000-585999.json done, chunk 10\n",
            "file data/mpd.slice.273000-273999.json done, chunk 9\n",
            "file data/mpd.slice.897000-897999.json done, chunk 8\n",
            "file data/mpd.slice.888000-888999.json done, chunk 7\n",
            "file data/mpd.slice.9000-9999.json done, chunk 6\n",
            "file data/mpd.slice.708000-708999.json done, chunk 5\n",
            "file data/mpd.slice.886000-886999.json done, chunk 4\n",
            "file data/mpd.slice.262000-262999.json done, chunk 3\n",
            "file data/mpd.slice.444000-444999.json done, chunk 2\n",
            "file data/mpd.slice.431000-431999.json done, chunk 1\n"
          ]
        }
      ]
    },
    {
      "cell_type": "code",
      "source": [
        "top_artists"
      ],
      "metadata": {
        "colab": {
          "base_uri": "https://localhost:8080/",
          "height": 269
        },
        "id": "xCQEKRSr925b",
        "outputId": "26191965-27bd-47ec-84b8-c4098e301668"
      },
      "execution_count": 288,
      "outputs": [
        {
          "output_type": "execute_result",
          "data": {
            "text/plain": [
              "          Artists  Playlist Features  Track Features      Duration\n",
              "0  Kendrick Lamar               2135            9013  42761.729850\n",
              "1            Muse                568            1018   4583.602400\n",
              "2     The Killers                 66             122    492.562400\n",
              "3          Eminem               3385           10556  44184.164533\n",
              "4    Taylor Swift                551             989   4445.749883\n",
              "5    Harry Styles               1338            2367   9321.604117\n",
              "6  Andrea Bocelli               1229            3043  11801.356600"
            ],
            "text/html": [
              "\n",
              "  <div id=\"df-4e031226-b708-4898-8178-46b8fa55ba9a\">\n",
              "    <div class=\"colab-df-container\">\n",
              "      <div>\n",
              "<style scoped>\n",
              "    .dataframe tbody tr th:only-of-type {\n",
              "        vertical-align: middle;\n",
              "    }\n",
              "\n",
              "    .dataframe tbody tr th {\n",
              "        vertical-align: top;\n",
              "    }\n",
              "\n",
              "    .dataframe thead th {\n",
              "        text-align: right;\n",
              "    }\n",
              "</style>\n",
              "<table border=\"1\" class=\"dataframe\">\n",
              "  <thead>\n",
              "    <tr style=\"text-align: right;\">\n",
              "      <th></th>\n",
              "      <th>Artists</th>\n",
              "      <th>Playlist Features</th>\n",
              "      <th>Track Features</th>\n",
              "      <th>Duration</th>\n",
              "    </tr>\n",
              "  </thead>\n",
              "  <tbody>\n",
              "    <tr>\n",
              "      <th>0</th>\n",
              "      <td>Kendrick Lamar</td>\n",
              "      <td>2135</td>\n",
              "      <td>9013</td>\n",
              "      <td>42761.729850</td>\n",
              "    </tr>\n",
              "    <tr>\n",
              "      <th>1</th>\n",
              "      <td>Muse</td>\n",
              "      <td>568</td>\n",
              "      <td>1018</td>\n",
              "      <td>4583.602400</td>\n",
              "    </tr>\n",
              "    <tr>\n",
              "      <th>2</th>\n",
              "      <td>The Killers</td>\n",
              "      <td>66</td>\n",
              "      <td>122</td>\n",
              "      <td>492.562400</td>\n",
              "    </tr>\n",
              "    <tr>\n",
              "      <th>3</th>\n",
              "      <td>Eminem</td>\n",
              "      <td>3385</td>\n",
              "      <td>10556</td>\n",
              "      <td>44184.164533</td>\n",
              "    </tr>\n",
              "    <tr>\n",
              "      <th>4</th>\n",
              "      <td>Taylor Swift</td>\n",
              "      <td>551</td>\n",
              "      <td>989</td>\n",
              "      <td>4445.749883</td>\n",
              "    </tr>\n",
              "    <tr>\n",
              "      <th>5</th>\n",
              "      <td>Harry Styles</td>\n",
              "      <td>1338</td>\n",
              "      <td>2367</td>\n",
              "      <td>9321.604117</td>\n",
              "    </tr>\n",
              "    <tr>\n",
              "      <th>6</th>\n",
              "      <td>Andrea Bocelli</td>\n",
              "      <td>1229</td>\n",
              "      <td>3043</td>\n",
              "      <td>11801.356600</td>\n",
              "    </tr>\n",
              "  </tbody>\n",
              "</table>\n",
              "</div>\n",
              "      <button class=\"colab-df-convert\" onclick=\"convertToInteractive('df-4e031226-b708-4898-8178-46b8fa55ba9a')\"\n",
              "              title=\"Convert this dataframe to an interactive table.\"\n",
              "              style=\"display:none;\">\n",
              "        \n",
              "  <svg xmlns=\"http://www.w3.org/2000/svg\" height=\"24px\"viewBox=\"0 0 24 24\"\n",
              "       width=\"24px\">\n",
              "    <path d=\"M0 0h24v24H0V0z\" fill=\"none\"/>\n",
              "    <path d=\"M18.56 5.44l.94 2.06.94-2.06 2.06-.94-2.06-.94-.94-2.06-.94 2.06-2.06.94zm-11 1L8.5 8.5l.94-2.06 2.06-.94-2.06-.94L8.5 2.5l-.94 2.06-2.06.94zm10 10l.94 2.06.94-2.06 2.06-.94-2.06-.94-.94-2.06-.94 2.06-2.06.94z\"/><path d=\"M17.41 7.96l-1.37-1.37c-.4-.4-.92-.59-1.43-.59-.52 0-1.04.2-1.43.59L10.3 9.45l-7.72 7.72c-.78.78-.78 2.05 0 2.83L4 21.41c.39.39.9.59 1.41.59.51 0 1.02-.2 1.41-.59l7.78-7.78 2.81-2.81c.8-.78.8-2.07 0-2.86zM5.41 20L4 18.59l7.72-7.72 1.47 1.35L5.41 20z\"/>\n",
              "  </svg>\n",
              "      </button>\n",
              "      \n",
              "  <style>\n",
              "    .colab-df-container {\n",
              "      display:flex;\n",
              "      flex-wrap:wrap;\n",
              "      gap: 12px;\n",
              "    }\n",
              "\n",
              "    .colab-df-convert {\n",
              "      background-color: #E8F0FE;\n",
              "      border: none;\n",
              "      border-radius: 50%;\n",
              "      cursor: pointer;\n",
              "      display: none;\n",
              "      fill: #1967D2;\n",
              "      height: 32px;\n",
              "      padding: 0 0 0 0;\n",
              "      width: 32px;\n",
              "    }\n",
              "\n",
              "    .colab-df-convert:hover {\n",
              "      background-color: #E2EBFA;\n",
              "      box-shadow: 0px 1px 2px rgba(60, 64, 67, 0.3), 0px 1px 3px 1px rgba(60, 64, 67, 0.15);\n",
              "      fill: #174EA6;\n",
              "    }\n",
              "\n",
              "    [theme=dark] .colab-df-convert {\n",
              "      background-color: #3B4455;\n",
              "      fill: #D2E3FC;\n",
              "    }\n",
              "\n",
              "    [theme=dark] .colab-df-convert:hover {\n",
              "      background-color: #434B5C;\n",
              "      box-shadow: 0px 1px 3px 1px rgba(0, 0, 0, 0.15);\n",
              "      filter: drop-shadow(0px 1px 2px rgba(0, 0, 0, 0.3));\n",
              "      fill: #FFFFFF;\n",
              "    }\n",
              "  </style>\n",
              "\n",
              "      <script>\n",
              "        const buttonEl =\n",
              "          document.querySelector('#df-4e031226-b708-4898-8178-46b8fa55ba9a button.colab-df-convert');\n",
              "        buttonEl.style.display =\n",
              "          google.colab.kernel.accessAllowed ? 'block' : 'none';\n",
              "\n",
              "        async function convertToInteractive(key) {\n",
              "          const element = document.querySelector('#df-4e031226-b708-4898-8178-46b8fa55ba9a');\n",
              "          const dataTable =\n",
              "            await google.colab.kernel.invokeFunction('convertToInteractive',\n",
              "                                                     [key], {});\n",
              "          if (!dataTable) return;\n",
              "\n",
              "          const docLinkHtml = 'Like what you see? Visit the ' +\n",
              "            '<a target=\"_blank\" href=https://colab.research.google.com/notebooks/data_table.ipynb>data table notebook</a>'\n",
              "            + ' to learn more about interactive tables.';\n",
              "          element.innerHTML = '';\n",
              "          dataTable['output_type'] = 'display_data';\n",
              "          await google.colab.output.renderOutput(dataTable, element);\n",
              "          const docLink = document.createElement('div');\n",
              "          docLink.innerHTML = docLinkHtml;\n",
              "          element.appendChild(docLink);\n",
              "        }\n",
              "      </script>\n",
              "    </div>\n",
              "  </div>\n",
              "  "
            ]
          },
          "metadata": {},
          "execution_count": 288
        }
      ]
    },
    {
      "cell_type": "code",
      "source": [
        "sz = len(zip_file.namelist())\n",
        "sz"
      ],
      "metadata": {
        "colab": {
          "base_uri": "https://localhost:8080/"
        },
        "id": "GgVYGabx0cZG",
        "outputId": "d1b18ab9-e97b-4bec-802a-40b101c37ed3"
      },
      "execution_count": 289,
      "outputs": [
        {
          "output_type": "execute_result",
          "data": {
            "text/plain": [
              "1012"
            ]
          },
          "metadata": {},
          "execution_count": 289
        }
      ]
    },
    {
      "cell_type": "code",
      "source": [
        "files_done_so_far"
      ],
      "metadata": {
        "colab": {
          "base_uri": "https://localhost:8080/"
        },
        "id": "9A77pRjT_rRf",
        "outputId": "3f1c5873-1af7-4e05-887f-b9b1331af5f1"
      },
      "execution_count": 290,
      "outputs": [
        {
          "output_type": "execute_result",
          "data": {
            "text/plain": [
              "['data/mpd.slice.281000-281999.json',\n",
              " 'data/mpd.slice.661000-661999.json',\n",
              " 'data/mpd.slice.905000-905999.json',\n",
              " 'data/mpd.slice.995000-995999.json',\n",
              " 'data/mpd.slice.312000-312999.json',\n",
              " 'data/mpd.slice.70000-70999.json',\n",
              " 'data/mpd.slice.316000-316999.json',\n",
              " 'data/mpd.slice.191000-191999.json',\n",
              " 'data/mpd.slice.502000-502999.json',\n",
              " 'data/mpd.slice.238000-238999.json',\n",
              " 'data/mpd.slice.92000-92999.json',\n",
              " 'data/mpd.slice.1000-1999.json',\n",
              " 'data/mpd.slice.476000-476999.json',\n",
              " 'data/mpd.slice.253000-253999.json',\n",
              " 'data/mpd.slice.87000-87999.json',\n",
              " 'data/mpd.slice.143000-143999.json',\n",
              " 'data/mpd.slice.74000-74999.json',\n",
              " 'data/mpd.slice.469000-469999.json',\n",
              " 'data/mpd.slice.394000-394999.json',\n",
              " 'data/mpd.slice.38000-38999.json',\n",
              " 'data/mpd.slice.374000-374999.json',\n",
              " 'data/mpd.slice.852000-852999.json',\n",
              " 'data/mpd.slice.389000-389999.json',\n",
              " 'data/mpd.slice.457000-457999.json',\n",
              " 'data/mpd.slice.12000-12999.json',\n",
              " 'data/mpd.slice.933000-933999.json',\n",
              " 'data/mpd.slice.115000-115999.json',\n",
              " 'data/mpd.slice.52000-52999.json',\n",
              " 'data/mpd.slice.240000-240999.json',\n",
              " 'data/mpd.slice.816000-816999.json',\n",
              " 'data/mpd.slice.730000-730999.json',\n",
              " 'data/mpd.slice.93000-93999.json',\n",
              " 'data/mpd.slice.414000-414999.json',\n",
              " 'data/mpd.slice.792000-792999.json',\n",
              " 'data/mpd.slice.501000-501999.json',\n",
              " 'data/mpd.slice.218000-218999.json',\n",
              " 'data/mpd.slice.639000-639999.json',\n",
              " 'data/mpd.slice.627000-627999.json',\n",
              " 'data/mpd.slice.198000-198999.json',\n",
              " 'data/mpd.slice.517000-517999.json',\n",
              " 'data/mpd.slice.585000-585999.json',\n",
              " 'data/mpd.slice.273000-273999.json',\n",
              " 'data/mpd.slice.897000-897999.json',\n",
              " 'data/mpd.slice.888000-888999.json',\n",
              " 'data/mpd.slice.9000-9999.json',\n",
              " 'data/mpd.slice.708000-708999.json',\n",
              " 'data/mpd.slice.886000-886999.json',\n",
              " 'data/mpd.slice.262000-262999.json',\n",
              " 'data/mpd.slice.444000-444999.json',\n",
              " 'data/mpd.slice.431000-431999.json',\n",
              " 'data/mpd.slice.405000-405999.json']"
            ]
          },
          "metadata": {},
          "execution_count": 290
        }
      ]
    },
    {
      "cell_type": "code",
      "source": [
        "while len(files_done_so_far) != sz:\n",
        "  next_files = extract_data(zip_files, artists, 10, files_done_so_far)\n",
        "  files_done_so_far.append(next_files)"
      ],
      "metadata": {
        "colab": {
          "base_uri": "https://localhost:8080/",
          "height": 415
        },
        "id": "x-VwXHF0Cpx0",
        "outputId": "8a6af8d8-9a43-451d-91d5-002523b0920a"
      },
      "execution_count": 293,
      "outputs": [
        {
          "output_type": "stream",
          "name": "stdout",
          "text": [
            "file data/mpd.slice.834000-834999.json done, chunk 9\n",
            "file data/mpd.slice.439000-439999.json done, chunk 8\n",
            "file data/mpd.slice.931000-931999.json done, chunk 7\n",
            "file data/mpd.slice.586000-586999.json done, chunk 6\n"
          ]
        },
        {
          "output_type": "error",
          "ename": "KeyboardInterrupt",
          "evalue": "ignored",
          "traceback": [
            "\u001b[0;31m---------------------------------------------------------------------------\u001b[0m",
            "\u001b[0;31mKeyboardInterrupt\u001b[0m                         Traceback (most recent call last)",
            "\u001b[0;32m<ipython-input-293-55c2ce2d5a4f>\u001b[0m in \u001b[0;36m<module>\u001b[0;34m\u001b[0m\n\u001b[1;32m      1\u001b[0m \u001b[0;32mwhile\u001b[0m \u001b[0mlen\u001b[0m\u001b[0;34m(\u001b[0m\u001b[0mfiles_done_so_far\u001b[0m\u001b[0;34m)\u001b[0m \u001b[0;34m!=\u001b[0m \u001b[0msz\u001b[0m\u001b[0;34m:\u001b[0m\u001b[0;34m\u001b[0m\u001b[0;34m\u001b[0m\u001b[0m\n\u001b[0;32m----> 2\u001b[0;31m   \u001b[0mnext_files\u001b[0m \u001b[0;34m=\u001b[0m \u001b[0mextract_data\u001b[0m\u001b[0;34m(\u001b[0m\u001b[0mzip_files\u001b[0m\u001b[0;34m,\u001b[0m \u001b[0martists\u001b[0m\u001b[0;34m,\u001b[0m \u001b[0;36m10\u001b[0m\u001b[0;34m,\u001b[0m \u001b[0mfiles_done_so_far\u001b[0m\u001b[0;34m)\u001b[0m\u001b[0;34m\u001b[0m\u001b[0;34m\u001b[0m\u001b[0m\n\u001b[0m\u001b[1;32m      3\u001b[0m   \u001b[0mfiles_done_so_far\u001b[0m\u001b[0;34m.\u001b[0m\u001b[0mappend\u001b[0m\u001b[0;34m(\u001b[0m\u001b[0mnext_files\u001b[0m\u001b[0;34m)\u001b[0m\u001b[0;34m\u001b[0m\u001b[0;34m\u001b[0m\u001b[0m\n",
            "\u001b[0;32m<ipython-input-286-9611fc8f0aa1>\u001b[0m in \u001b[0;36mextract_data\u001b[0;34m(zip_files, artists, chunk_size, files_done_so_far)\u001b[0m\n\u001b[1;32m      8\u001b[0m      \u001b[0;32mif\u001b[0m \u001b[0mf\u001b[0m \u001b[0;32mnot\u001b[0m \u001b[0;32min\u001b[0m \u001b[0mfiles_done_so_far\u001b[0m\u001b[0;34m:\u001b[0m\u001b[0;34m\u001b[0m\u001b[0;34m\u001b[0m\u001b[0m\n\u001b[1;32m      9\u001b[0m            \u001b[0;32mwith\u001b[0m \u001b[0mzip_file\u001b[0m\u001b[0;34m.\u001b[0m\u001b[0mopen\u001b[0m\u001b[0;34m(\u001b[0m\u001b[0mf\u001b[0m\u001b[0;34m)\u001b[0m \u001b[0;32mas\u001b[0m \u001b[0mfile\u001b[0m\u001b[0;34m:\u001b[0m\u001b[0;34m\u001b[0m\u001b[0;34m\u001b[0m\u001b[0m\n\u001b[0;32m---> 10\u001b[0;31m              \u001b[0mjs_file\u001b[0m \u001b[0;34m=\u001b[0m \u001b[0mfile\u001b[0m\u001b[0;34m.\u001b[0m\u001b[0mread\u001b[0m\u001b[0;34m(\u001b[0m\u001b[0;34m)\u001b[0m\u001b[0;34m\u001b[0m\u001b[0;34m\u001b[0m\u001b[0m\n\u001b[0m\u001b[1;32m     11\u001b[0m              \u001b[0mdata\u001b[0m \u001b[0;34m=\u001b[0m \u001b[0mjs\u001b[0m\u001b[0;34m.\u001b[0m\u001b[0mloads\u001b[0m\u001b[0;34m(\u001b[0m\u001b[0mjs_file\u001b[0m\u001b[0;34m)\u001b[0m\u001b[0;34m\u001b[0m\u001b[0;34m\u001b[0m\u001b[0m\n\u001b[1;32m     12\u001b[0m \u001b[0;34m\u001b[0m\u001b[0m\n",
            "\u001b[0;32m/usr/lib/python3.7/zipfile.py\u001b[0m in \u001b[0;36mread\u001b[0;34m(self, n)\u001b[0m\n\u001b[1;32m    914\u001b[0m             \u001b[0mself\u001b[0m\u001b[0;34m.\u001b[0m\u001b[0m_offset\u001b[0m \u001b[0;34m=\u001b[0m \u001b[0;36m0\u001b[0m\u001b[0;34m\u001b[0m\u001b[0;34m\u001b[0m\u001b[0m\n\u001b[1;32m    915\u001b[0m             \u001b[0;32mwhile\u001b[0m \u001b[0;32mnot\u001b[0m \u001b[0mself\u001b[0m\u001b[0;34m.\u001b[0m\u001b[0m_eof\u001b[0m\u001b[0;34m:\u001b[0m\u001b[0;34m\u001b[0m\u001b[0;34m\u001b[0m\u001b[0m\n\u001b[0;32m--> 916\u001b[0;31m                 \u001b[0mbuf\u001b[0m \u001b[0;34m+=\u001b[0m \u001b[0mself\u001b[0m\u001b[0;34m.\u001b[0m\u001b[0m_read1\u001b[0m\u001b[0;34m(\u001b[0m\u001b[0mself\u001b[0m\u001b[0;34m.\u001b[0m\u001b[0mMAX_N\u001b[0m\u001b[0;34m)\u001b[0m\u001b[0;34m\u001b[0m\u001b[0;34m\u001b[0m\u001b[0m\n\u001b[0m\u001b[1;32m    917\u001b[0m             \u001b[0;32mreturn\u001b[0m \u001b[0mbuf\u001b[0m\u001b[0;34m\u001b[0m\u001b[0;34m\u001b[0m\u001b[0m\n\u001b[1;32m    918\u001b[0m \u001b[0;34m\u001b[0m\u001b[0m\n",
            "\u001b[0;32m/usr/lib/python3.7/zipfile.py\u001b[0m in \u001b[0;36m_read1\u001b[0;34m(self, n)\u001b[0m\n\u001b[1;32m   1004\u001b[0m         \u001b[0;32melif\u001b[0m \u001b[0mself\u001b[0m\u001b[0;34m.\u001b[0m\u001b[0m_compress_type\u001b[0m \u001b[0;34m==\u001b[0m \u001b[0mZIP_DEFLATED\u001b[0m\u001b[0;34m:\u001b[0m\u001b[0;34m\u001b[0m\u001b[0;34m\u001b[0m\u001b[0m\n\u001b[1;32m   1005\u001b[0m             \u001b[0mn\u001b[0m \u001b[0;34m=\u001b[0m \u001b[0mmax\u001b[0m\u001b[0;34m(\u001b[0m\u001b[0mn\u001b[0m\u001b[0;34m,\u001b[0m \u001b[0mself\u001b[0m\u001b[0;34m.\u001b[0m\u001b[0mMIN_READ_SIZE\u001b[0m\u001b[0;34m)\u001b[0m\u001b[0;34m\u001b[0m\u001b[0;34m\u001b[0m\u001b[0m\n\u001b[0;32m-> 1006\u001b[0;31m             \u001b[0mdata\u001b[0m \u001b[0;34m=\u001b[0m \u001b[0mself\u001b[0m\u001b[0;34m.\u001b[0m\u001b[0m_decompressor\u001b[0m\u001b[0;34m.\u001b[0m\u001b[0mdecompress\u001b[0m\u001b[0;34m(\u001b[0m\u001b[0mdata\u001b[0m\u001b[0;34m,\u001b[0m \u001b[0mn\u001b[0m\u001b[0;34m)\u001b[0m\u001b[0;34m\u001b[0m\u001b[0;34m\u001b[0m\u001b[0m\n\u001b[0m\u001b[1;32m   1007\u001b[0m             self._eof = (self._decompressor.eof or\n\u001b[1;32m   1008\u001b[0m                          \u001b[0mself\u001b[0m\u001b[0;34m.\u001b[0m\u001b[0m_compress_left\u001b[0m \u001b[0;34m<=\u001b[0m \u001b[0;36m0\u001b[0m \u001b[0;32mand\u001b[0m\u001b[0;34m\u001b[0m\u001b[0;34m\u001b[0m\u001b[0m\n",
            "\u001b[0;31mKeyboardInterrupt\u001b[0m: "
          ]
        }
      ]
    }
  ],
  "metadata": {
    "colab": {
      "collapsed_sections": [],
      "provenance": []
    },
    "kernelspec": {
      "display_name": "Python 3",
      "name": "python3"
    },
    "language_info": {
      "name": "python"
    }
  },
  "nbformat": 4,
  "nbformat_minor": 0
}