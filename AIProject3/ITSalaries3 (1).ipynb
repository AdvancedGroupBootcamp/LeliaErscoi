{
  "nbformat": 4,
  "nbformat_minor": 0,
  "metadata": {
    "colab": {
      "provenance": [],
      "collapsed_sections": []
    },
    "kernelspec": {
      "name": "python3",
      "display_name": "Python 3"
    },
    "language_info": {
      "name": "python"
    }
  },
  "cells": [
    {
      "cell_type": "code",
      "execution_count": 1,
      "metadata": {
        "id": "3U1bXBlgLmjN"
      },
      "outputs": [],
      "source": [
        "import numpy as np\n",
        "import pandas as pd\n",
        "import matplotlib.pyplot as plt\n",
        "import matplotlib as mat\n",
        "%matplotlib inline\n",
        "import seaborn as sns\n",
        "import sklearn.metrics as metrics\n",
        "\n",
        "from heapq import nlargest"
      ]
    },
    {
      "cell_type": "code",
      "source": [
        "!pip install --upgrade category_encoders"
      ],
      "metadata": {
        "colab": {
          "base_uri": "https://localhost:8080/"
        },
        "id": "IRS_fVNhaTOr",
        "outputId": "5a65ebf7-3652-49f6-cb02-c794d0edf56e"
      },
      "execution_count": 2,
      "outputs": [
        {
          "output_type": "stream",
          "name": "stdout",
          "text": [
            "Looking in indexes: https://pypi.org/simple, https://us-python.pkg.dev/colab-wheels/public/simple/\n",
            "Collecting category_encoders\n",
            "  Downloading category_encoders-2.5.1.post0-py2.py3-none-any.whl (72 kB)\n",
            "\u001b[K     |████████████████████████████████| 72 kB 875 kB/s \n",
            "\u001b[?25hRequirement already satisfied: numpy>=1.14.0 in /usr/local/lib/python3.7/dist-packages (from category_encoders) (1.21.6)\n",
            "Requirement already satisfied: scikit-learn>=0.20.0 in /usr/local/lib/python3.7/dist-packages (from category_encoders) (1.0.2)\n",
            "Requirement already satisfied: statsmodels>=0.9.0 in /usr/local/lib/python3.7/dist-packages (from category_encoders) (0.12.2)\n",
            "Requirement already satisfied: scipy>=1.0.0 in /usr/local/lib/python3.7/dist-packages (from category_encoders) (1.7.3)\n",
            "Requirement already satisfied: patsy>=0.5.1 in /usr/local/lib/python3.7/dist-packages (from category_encoders) (0.5.3)\n",
            "Requirement already satisfied: pandas>=1.0.5 in /usr/local/lib/python3.7/dist-packages (from category_encoders) (1.3.5)\n",
            "Requirement already satisfied: python-dateutil>=2.7.3 in /usr/local/lib/python3.7/dist-packages (from pandas>=1.0.5->category_encoders) (2.8.2)\n",
            "Requirement already satisfied: pytz>=2017.3 in /usr/local/lib/python3.7/dist-packages (from pandas>=1.0.5->category_encoders) (2022.4)\n",
            "Requirement already satisfied: six in /usr/local/lib/python3.7/dist-packages (from patsy>=0.5.1->category_encoders) (1.15.0)\n",
            "Requirement already satisfied: threadpoolctl>=2.0.0 in /usr/local/lib/python3.7/dist-packages (from scikit-learn>=0.20.0->category_encoders) (3.1.0)\n",
            "Requirement already satisfied: joblib>=0.11 in /usr/local/lib/python3.7/dist-packages (from scikit-learn>=0.20.0->category_encoders) (1.2.0)\n",
            "Installing collected packages: category-encoders\n",
            "Successfully installed category-encoders-2.5.1.post0\n"
          ]
        }
      ]
    },
    {
      "cell_type": "code",
      "source": [
        "from category_encoders import TargetEncoder\n",
        "from sklearn.preprocessing import LabelBinarizer"
      ],
      "metadata": {
        "id": "ia_2cBwWaWh1"
      },
      "execution_count": 3,
      "outputs": []
    },
    {
      "cell_type": "code",
      "source": [
        "from sklearn.model_selection import train_test_split\n",
        "from sklearn.neighbors import KNeighborsClassifier\n",
        "from sklearn.metrics import accuracy_score\n",
        "from sklearn.metrics import confusion_matrix\n",
        "from sklearn.model_selection import KFold, cross_val_score\n",
        "from sklearn.preprocessing import StandardScaler\n",
        "from sklearn.discriminant_analysis import LinearDiscriminantAnalysis as LDA\n",
        "from sklearn.ensemble import RandomForestClassifier\n",
        "from sklearn.linear_model import LogisticRegression"
      ],
      "metadata": {
        "id": "DLn6aAq75OmD"
      },
      "execution_count": 4,
      "outputs": []
    },
    {
      "cell_type": "code",
      "source": [
        "from google.colab import files\n",
        "uploaded = files.upload()"
      ],
      "metadata": {
        "colab": {
          "base_uri": "https://localhost:8080/",
          "height": 74
        },
        "id": "9n3IcZXBLsyo",
        "outputId": "75fd65b9-2c79-42ae-dd71-e291dcdc7a76"
      },
      "execution_count": 5,
      "outputs": [
        {
          "output_type": "display_data",
          "data": {
            "text/plain": [
              "<IPython.core.display.HTML object>"
            ],
            "text/html": [
              "\n",
              "     <input type=\"file\" id=\"files-adad3071-dca5-42d0-af29-20d5aa76b41c\" name=\"files[]\" multiple disabled\n",
              "        style=\"border:none\" />\n",
              "     <output id=\"result-adad3071-dca5-42d0-af29-20d5aa76b41c\">\n",
              "      Upload widget is only available when the cell has been executed in the\n",
              "      current browser session. Please rerun this cell to enable.\n",
              "      </output>\n",
              "      <script>// Copyright 2017 Google LLC\n",
              "//\n",
              "// Licensed under the Apache License, Version 2.0 (the \"License\");\n",
              "// you may not use this file except in compliance with the License.\n",
              "// You may obtain a copy of the License at\n",
              "//\n",
              "//      http://www.apache.org/licenses/LICENSE-2.0\n",
              "//\n",
              "// Unless required by applicable law or agreed to in writing, software\n",
              "// distributed under the License is distributed on an \"AS IS\" BASIS,\n",
              "// WITHOUT WARRANTIES OR CONDITIONS OF ANY KIND, either express or implied.\n",
              "// See the License for the specific language governing permissions and\n",
              "// limitations under the License.\n",
              "\n",
              "/**\n",
              " * @fileoverview Helpers for google.colab Python module.\n",
              " */\n",
              "(function(scope) {\n",
              "function span(text, styleAttributes = {}) {\n",
              "  const element = document.createElement('span');\n",
              "  element.textContent = text;\n",
              "  for (const key of Object.keys(styleAttributes)) {\n",
              "    element.style[key] = styleAttributes[key];\n",
              "  }\n",
              "  return element;\n",
              "}\n",
              "\n",
              "// Max number of bytes which will be uploaded at a time.\n",
              "const MAX_PAYLOAD_SIZE = 100 * 1024;\n",
              "\n",
              "function _uploadFiles(inputId, outputId) {\n",
              "  const steps = uploadFilesStep(inputId, outputId);\n",
              "  const outputElement = document.getElementById(outputId);\n",
              "  // Cache steps on the outputElement to make it available for the next call\n",
              "  // to uploadFilesContinue from Python.\n",
              "  outputElement.steps = steps;\n",
              "\n",
              "  return _uploadFilesContinue(outputId);\n",
              "}\n",
              "\n",
              "// This is roughly an async generator (not supported in the browser yet),\n",
              "// where there are multiple asynchronous steps and the Python side is going\n",
              "// to poll for completion of each step.\n",
              "// This uses a Promise to block the python side on completion of each step,\n",
              "// then passes the result of the previous step as the input to the next step.\n",
              "function _uploadFilesContinue(outputId) {\n",
              "  const outputElement = document.getElementById(outputId);\n",
              "  const steps = outputElement.steps;\n",
              "\n",
              "  const next = steps.next(outputElement.lastPromiseValue);\n",
              "  return Promise.resolve(next.value.promise).then((value) => {\n",
              "    // Cache the last promise value to make it available to the next\n",
              "    // step of the generator.\n",
              "    outputElement.lastPromiseValue = value;\n",
              "    return next.value.response;\n",
              "  });\n",
              "}\n",
              "\n",
              "/**\n",
              " * Generator function which is called between each async step of the upload\n",
              " * process.\n",
              " * @param {string} inputId Element ID of the input file picker element.\n",
              " * @param {string} outputId Element ID of the output display.\n",
              " * @return {!Iterable<!Object>} Iterable of next steps.\n",
              " */\n",
              "function* uploadFilesStep(inputId, outputId) {\n",
              "  const inputElement = document.getElementById(inputId);\n",
              "  inputElement.disabled = false;\n",
              "\n",
              "  const outputElement = document.getElementById(outputId);\n",
              "  outputElement.innerHTML = '';\n",
              "\n",
              "  const pickedPromise = new Promise((resolve) => {\n",
              "    inputElement.addEventListener('change', (e) => {\n",
              "      resolve(e.target.files);\n",
              "    });\n",
              "  });\n",
              "\n",
              "  const cancel = document.createElement('button');\n",
              "  inputElement.parentElement.appendChild(cancel);\n",
              "  cancel.textContent = 'Cancel upload';\n",
              "  const cancelPromise = new Promise((resolve) => {\n",
              "    cancel.onclick = () => {\n",
              "      resolve(null);\n",
              "    };\n",
              "  });\n",
              "\n",
              "  // Wait for the user to pick the files.\n",
              "  const files = yield {\n",
              "    promise: Promise.race([pickedPromise, cancelPromise]),\n",
              "    response: {\n",
              "      action: 'starting',\n",
              "    }\n",
              "  };\n",
              "\n",
              "  cancel.remove();\n",
              "\n",
              "  // Disable the input element since further picks are not allowed.\n",
              "  inputElement.disabled = true;\n",
              "\n",
              "  if (!files) {\n",
              "    return {\n",
              "      response: {\n",
              "        action: 'complete',\n",
              "      }\n",
              "    };\n",
              "  }\n",
              "\n",
              "  for (const file of files) {\n",
              "    const li = document.createElement('li');\n",
              "    li.append(span(file.name, {fontWeight: 'bold'}));\n",
              "    li.append(span(\n",
              "        `(${file.type || 'n/a'}) - ${file.size} bytes, ` +\n",
              "        `last modified: ${\n",
              "            file.lastModifiedDate ? file.lastModifiedDate.toLocaleDateString() :\n",
              "                                    'n/a'} - `));\n",
              "    const percent = span('0% done');\n",
              "    li.appendChild(percent);\n",
              "\n",
              "    outputElement.appendChild(li);\n",
              "\n",
              "    const fileDataPromise = new Promise((resolve) => {\n",
              "      const reader = new FileReader();\n",
              "      reader.onload = (e) => {\n",
              "        resolve(e.target.result);\n",
              "      };\n",
              "      reader.readAsArrayBuffer(file);\n",
              "    });\n",
              "    // Wait for the data to be ready.\n",
              "    let fileData = yield {\n",
              "      promise: fileDataPromise,\n",
              "      response: {\n",
              "        action: 'continue',\n",
              "      }\n",
              "    };\n",
              "\n",
              "    // Use a chunked sending to avoid message size limits. See b/62115660.\n",
              "    let position = 0;\n",
              "    do {\n",
              "      const length = Math.min(fileData.byteLength - position, MAX_PAYLOAD_SIZE);\n",
              "      const chunk = new Uint8Array(fileData, position, length);\n",
              "      position += length;\n",
              "\n",
              "      const base64 = btoa(String.fromCharCode.apply(null, chunk));\n",
              "      yield {\n",
              "        response: {\n",
              "          action: 'append',\n",
              "          file: file.name,\n",
              "          data: base64,\n",
              "        },\n",
              "      };\n",
              "\n",
              "      let percentDone = fileData.byteLength === 0 ?\n",
              "          100 :\n",
              "          Math.round((position / fileData.byteLength) * 100);\n",
              "      percent.textContent = `${percentDone}% done`;\n",
              "\n",
              "    } while (position < fileData.byteLength);\n",
              "  }\n",
              "\n",
              "  // All done.\n",
              "  yield {\n",
              "    response: {\n",
              "      action: 'complete',\n",
              "    }\n",
              "  };\n",
              "}\n",
              "\n",
              "scope.google = scope.google || {};\n",
              "scope.google.colab = scope.google.colab || {};\n",
              "scope.google.colab._files = {\n",
              "  _uploadFiles,\n",
              "  _uploadFilesContinue,\n",
              "};\n",
              "})(self);\n",
              "</script> "
            ]
          },
          "metadata": {}
        },
        {
          "output_type": "stream",
          "name": "stdout",
          "text": [
            "Saving ITSalaries3.csv to ITSalaries3.csv\n"
          ]
        }
      ]
    },
    {
      "cell_type": "code",
      "source": [
        "df = pd.read_csv('ITSalaries3.csv')\n",
        "df.head()"
      ],
      "metadata": {
        "colab": {
          "base_uri": "https://localhost:8080/",
          "height": 438
        },
        "id": "-SPjxHjqL1ue",
        "outputId": "072d1a6d-7d04-4281-8cc8-53c9a5798228"
      },
      "execution_count": 181,
      "outputs": [
        {
          "output_type": "execute_result",
          "data": {
            "text/plain": [
              "   Unnamed: 0   Age Gender            Position  TotalYearsExperience  \\\n",
              "0           0  26.0   Male   Software Engineer                   5.0   \n",
              "1           1  26.0   Male   Backend Developer                   7.0   \n",
              "2           2  28.0   Male  Frontend Developer                   4.0   \n",
              "3           3  37.0   Male   Backend Developer                  17.0   \n",
              "4           4  32.0   Male              DevOps                   5.0   \n",
              "\n",
              "   YearsExperienceGermany Seniority             MainSkill  \\\n",
              "0                     3.0    Senior            TypeScript   \n",
              "1                     4.0    Senior                  Ruby   \n",
              "2                     1.0    Junior            Javascript   \n",
              "3                     6.0    Senior               C# .NET   \n",
              "4                     1.0    Senior  AWS, GCP, Python,K8s   \n",
              "\n",
              "                                 SecondarySkills  BrutSalary  ...  \\\n",
              "0                Kotlin, Javascript / Typescript     80000.0  ...   \n",
              "1                                            NaN     80000.0  ...   \n",
              "2                                            NaN     54000.0  ...   \n",
              "3                         .NET, SQL, AWS, Docker     62000.0  ...   \n",
              "4  Python, AWS, Google Cloud, Kubernetes, Docker     76000.0  ...   \n",
              "\n",
              "     ContractDuration  CompanySize  CompanyType LossOfJobCorona  \\\n",
              "0  Unlimited contract       51-100      Product              No   \n",
              "1  Unlimited contract     101-1000      Product              No   \n",
              "2  Unlimited contract       51-100      Startup              No   \n",
              "3  Unlimited contract     101-1000      Product              No   \n",
              "4  Unlimited contract        11-50      Startup              No   \n",
              "\n",
              "  HoursIfShorterWeek AdditionalMonetarySupport SeniorityLevel EmploymentType  \\\n",
              "0          13.566568                     250.0              3              4   \n",
              "1          13.566568                     250.0              3              4   \n",
              "2          13.566568                     250.0              1              4   \n",
              "3          13.566568                     250.0              3              4   \n",
              "4          13.566568                     250.0              3              4   \n",
              "\n",
              "  Female  Male  \n",
              "0      0     1  \n",
              "1      0     1  \n",
              "2      0     1  \n",
              "3      0     1  \n",
              "4      0     1  \n",
              "\n",
              "[5 rows x 25 columns]"
            ],
            "text/html": [
              "\n",
              "  <div id=\"df-9b8a7e87-46a7-440f-9504-608903204794\">\n",
              "    <div class=\"colab-df-container\">\n",
              "      <div>\n",
              "<style scoped>\n",
              "    .dataframe tbody tr th:only-of-type {\n",
              "        vertical-align: middle;\n",
              "    }\n",
              "\n",
              "    .dataframe tbody tr th {\n",
              "        vertical-align: top;\n",
              "    }\n",
              "\n",
              "    .dataframe thead th {\n",
              "        text-align: right;\n",
              "    }\n",
              "</style>\n",
              "<table border=\"1\" class=\"dataframe\">\n",
              "  <thead>\n",
              "    <tr style=\"text-align: right;\">\n",
              "      <th></th>\n",
              "      <th>Unnamed: 0</th>\n",
              "      <th>Age</th>\n",
              "      <th>Gender</th>\n",
              "      <th>Position</th>\n",
              "      <th>TotalYearsExperience</th>\n",
              "      <th>YearsExperienceGermany</th>\n",
              "      <th>Seniority</th>\n",
              "      <th>MainSkill</th>\n",
              "      <th>SecondarySkills</th>\n",
              "      <th>BrutSalary</th>\n",
              "      <th>...</th>\n",
              "      <th>ContractDuration</th>\n",
              "      <th>CompanySize</th>\n",
              "      <th>CompanyType</th>\n",
              "      <th>LossOfJobCorona</th>\n",
              "      <th>HoursIfShorterWeek</th>\n",
              "      <th>AdditionalMonetarySupport</th>\n",
              "      <th>SeniorityLevel</th>\n",
              "      <th>EmploymentType</th>\n",
              "      <th>Female</th>\n",
              "      <th>Male</th>\n",
              "    </tr>\n",
              "  </thead>\n",
              "  <tbody>\n",
              "    <tr>\n",
              "      <th>0</th>\n",
              "      <td>0</td>\n",
              "      <td>26.0</td>\n",
              "      <td>Male</td>\n",
              "      <td>Software Engineer</td>\n",
              "      <td>5.0</td>\n",
              "      <td>3.0</td>\n",
              "      <td>Senior</td>\n",
              "      <td>TypeScript</td>\n",
              "      <td>Kotlin, Javascript / Typescript</td>\n",
              "      <td>80000.0</td>\n",
              "      <td>...</td>\n",
              "      <td>Unlimited contract</td>\n",
              "      <td>51-100</td>\n",
              "      <td>Product</td>\n",
              "      <td>No</td>\n",
              "      <td>13.566568</td>\n",
              "      <td>250.0</td>\n",
              "      <td>3</td>\n",
              "      <td>4</td>\n",
              "      <td>0</td>\n",
              "      <td>1</td>\n",
              "    </tr>\n",
              "    <tr>\n",
              "      <th>1</th>\n",
              "      <td>1</td>\n",
              "      <td>26.0</td>\n",
              "      <td>Male</td>\n",
              "      <td>Backend Developer</td>\n",
              "      <td>7.0</td>\n",
              "      <td>4.0</td>\n",
              "      <td>Senior</td>\n",
              "      <td>Ruby</td>\n",
              "      <td>NaN</td>\n",
              "      <td>80000.0</td>\n",
              "      <td>...</td>\n",
              "      <td>Unlimited contract</td>\n",
              "      <td>101-1000</td>\n",
              "      <td>Product</td>\n",
              "      <td>No</td>\n",
              "      <td>13.566568</td>\n",
              "      <td>250.0</td>\n",
              "      <td>3</td>\n",
              "      <td>4</td>\n",
              "      <td>0</td>\n",
              "      <td>1</td>\n",
              "    </tr>\n",
              "    <tr>\n",
              "      <th>2</th>\n",
              "      <td>2</td>\n",
              "      <td>28.0</td>\n",
              "      <td>Male</td>\n",
              "      <td>Frontend Developer</td>\n",
              "      <td>4.0</td>\n",
              "      <td>1.0</td>\n",
              "      <td>Junior</td>\n",
              "      <td>Javascript</td>\n",
              "      <td>NaN</td>\n",
              "      <td>54000.0</td>\n",
              "      <td>...</td>\n",
              "      <td>Unlimited contract</td>\n",
              "      <td>51-100</td>\n",
              "      <td>Startup</td>\n",
              "      <td>No</td>\n",
              "      <td>13.566568</td>\n",
              "      <td>250.0</td>\n",
              "      <td>1</td>\n",
              "      <td>4</td>\n",
              "      <td>0</td>\n",
              "      <td>1</td>\n",
              "    </tr>\n",
              "    <tr>\n",
              "      <th>3</th>\n",
              "      <td>3</td>\n",
              "      <td>37.0</td>\n",
              "      <td>Male</td>\n",
              "      <td>Backend Developer</td>\n",
              "      <td>17.0</td>\n",
              "      <td>6.0</td>\n",
              "      <td>Senior</td>\n",
              "      <td>C# .NET</td>\n",
              "      <td>.NET, SQL, AWS, Docker</td>\n",
              "      <td>62000.0</td>\n",
              "      <td>...</td>\n",
              "      <td>Unlimited contract</td>\n",
              "      <td>101-1000</td>\n",
              "      <td>Product</td>\n",
              "      <td>No</td>\n",
              "      <td>13.566568</td>\n",
              "      <td>250.0</td>\n",
              "      <td>3</td>\n",
              "      <td>4</td>\n",
              "      <td>0</td>\n",
              "      <td>1</td>\n",
              "    </tr>\n",
              "    <tr>\n",
              "      <th>4</th>\n",
              "      <td>4</td>\n",
              "      <td>32.0</td>\n",
              "      <td>Male</td>\n",
              "      <td>DevOps</td>\n",
              "      <td>5.0</td>\n",
              "      <td>1.0</td>\n",
              "      <td>Senior</td>\n",
              "      <td>AWS, GCP, Python,K8s</td>\n",
              "      <td>Python, AWS, Google Cloud, Kubernetes, Docker</td>\n",
              "      <td>76000.0</td>\n",
              "      <td>...</td>\n",
              "      <td>Unlimited contract</td>\n",
              "      <td>11-50</td>\n",
              "      <td>Startup</td>\n",
              "      <td>No</td>\n",
              "      <td>13.566568</td>\n",
              "      <td>250.0</td>\n",
              "      <td>3</td>\n",
              "      <td>4</td>\n",
              "      <td>0</td>\n",
              "      <td>1</td>\n",
              "    </tr>\n",
              "  </tbody>\n",
              "</table>\n",
              "<p>5 rows × 25 columns</p>\n",
              "</div>\n",
              "      <button class=\"colab-df-convert\" onclick=\"convertToInteractive('df-9b8a7e87-46a7-440f-9504-608903204794')\"\n",
              "              title=\"Convert this dataframe to an interactive table.\"\n",
              "              style=\"display:none;\">\n",
              "        \n",
              "  <svg xmlns=\"http://www.w3.org/2000/svg\" height=\"24px\"viewBox=\"0 0 24 24\"\n",
              "       width=\"24px\">\n",
              "    <path d=\"M0 0h24v24H0V0z\" fill=\"none\"/>\n",
              "    <path d=\"M18.56 5.44l.94 2.06.94-2.06 2.06-.94-2.06-.94-.94-2.06-.94 2.06-2.06.94zm-11 1L8.5 8.5l.94-2.06 2.06-.94-2.06-.94L8.5 2.5l-.94 2.06-2.06.94zm10 10l.94 2.06.94-2.06 2.06-.94-2.06-.94-.94-2.06-.94 2.06-2.06.94z\"/><path d=\"M17.41 7.96l-1.37-1.37c-.4-.4-.92-.59-1.43-.59-.52 0-1.04.2-1.43.59L10.3 9.45l-7.72 7.72c-.78.78-.78 2.05 0 2.83L4 21.41c.39.39.9.59 1.41.59.51 0 1.02-.2 1.41-.59l7.78-7.78 2.81-2.81c.8-.78.8-2.07 0-2.86zM5.41 20L4 18.59l7.72-7.72 1.47 1.35L5.41 20z\"/>\n",
              "  </svg>\n",
              "      </button>\n",
              "      \n",
              "  <style>\n",
              "    .colab-df-container {\n",
              "      display:flex;\n",
              "      flex-wrap:wrap;\n",
              "      gap: 12px;\n",
              "    }\n",
              "\n",
              "    .colab-df-convert {\n",
              "      background-color: #E8F0FE;\n",
              "      border: none;\n",
              "      border-radius: 50%;\n",
              "      cursor: pointer;\n",
              "      display: none;\n",
              "      fill: #1967D2;\n",
              "      height: 32px;\n",
              "      padding: 0 0 0 0;\n",
              "      width: 32px;\n",
              "    }\n",
              "\n",
              "    .colab-df-convert:hover {\n",
              "      background-color: #E2EBFA;\n",
              "      box-shadow: 0px 1px 2px rgba(60, 64, 67, 0.3), 0px 1px 3px 1px rgba(60, 64, 67, 0.15);\n",
              "      fill: #174EA6;\n",
              "    }\n",
              "\n",
              "    [theme=dark] .colab-df-convert {\n",
              "      background-color: #3B4455;\n",
              "      fill: #D2E3FC;\n",
              "    }\n",
              "\n",
              "    [theme=dark] .colab-df-convert:hover {\n",
              "      background-color: #434B5C;\n",
              "      box-shadow: 0px 1px 3px 1px rgba(0, 0, 0, 0.15);\n",
              "      filter: drop-shadow(0px 1px 2px rgba(0, 0, 0, 0.3));\n",
              "      fill: #FFFFFF;\n",
              "    }\n",
              "  </style>\n",
              "\n",
              "      <script>\n",
              "        const buttonEl =\n",
              "          document.querySelector('#df-9b8a7e87-46a7-440f-9504-608903204794 button.colab-df-convert');\n",
              "        buttonEl.style.display =\n",
              "          google.colab.kernel.accessAllowed ? 'block' : 'none';\n",
              "\n",
              "        async function convertToInteractive(key) {\n",
              "          const element = document.querySelector('#df-9b8a7e87-46a7-440f-9504-608903204794');\n",
              "          const dataTable =\n",
              "            await google.colab.kernel.invokeFunction('convertToInteractive',\n",
              "                                                     [key], {});\n",
              "          if (!dataTable) return;\n",
              "\n",
              "          const docLinkHtml = 'Like what you see? Visit the ' +\n",
              "            '<a target=\"_blank\" href=https://colab.research.google.com/notebooks/data_table.ipynb>data table notebook</a>'\n",
              "            + ' to learn more about interactive tables.';\n",
              "          element.innerHTML = '';\n",
              "          dataTable['output_type'] = 'display_data';\n",
              "          await google.colab.output.renderOutput(dataTable, element);\n",
              "          const docLink = document.createElement('div');\n",
              "          docLink.innerHTML = docLinkHtml;\n",
              "          element.appendChild(docLink);\n",
              "        }\n",
              "      </script>\n",
              "    </div>\n",
              "  </div>\n",
              "  "
            ]
          },
          "metadata": {},
          "execution_count": 181
        }
      ]
    },
    {
      "cell_type": "code",
      "source": [
        "df.select_dtypes(include=object).head(5)"
      ],
      "metadata": {
        "colab": {
          "base_uri": "https://localhost:8080/",
          "height": 337
        },
        "id": "rU3hTXnqmGZ4",
        "outputId": "9cf925a0-255b-423f-f2d2-58b90a7d821e"
      },
      "execution_count": 182,
      "outputs": [
        {
          "output_type": "execute_result",
          "data": {
            "text/plain": [
              "  Gender            Position Seniority             MainSkill  \\\n",
              "0   Male   Software Engineer    Senior            TypeScript   \n",
              "1   Male   Backend Developer    Senior                  Ruby   \n",
              "2   Male  Frontend Developer    Junior            Javascript   \n",
              "3   Male   Backend Developer    Senior               C# .NET   \n",
              "4   Male              DevOps    Senior  AWS, GCP, Python,K8s   \n",
              "\n",
              "                                 SecondarySkills VacationDays  \\\n",
              "0                Kotlin, Javascript / Typescript           30   \n",
              "1                                            NaN           28   \n",
              "2                                            NaN           24   \n",
              "3                         .NET, SQL, AWS, Docker           29   \n",
              "4  Python, AWS, Google Cloud, Kubernetes, Docker           30   \n",
              "\n",
              "           Employment    ContractDuration CompanySize CompanyType  \\\n",
              "0  Full-time employee  Unlimited contract      51-100     Product   \n",
              "1  Full-time employee  Unlimited contract    101-1000     Product   \n",
              "2  Full-time employee  Unlimited contract      51-100     Startup   \n",
              "3  Full-time employee  Unlimited contract    101-1000     Product   \n",
              "4  Full-time employee  Unlimited contract       11-50     Startup   \n",
              "\n",
              "  LossOfJobCorona  \n",
              "0              No  \n",
              "1              No  \n",
              "2              No  \n",
              "3              No  \n",
              "4              No  "
            ],
            "text/html": [
              "\n",
              "  <div id=\"df-6e674b02-713c-4680-90a2-f76d2cf56c15\">\n",
              "    <div class=\"colab-df-container\">\n",
              "      <div>\n",
              "<style scoped>\n",
              "    .dataframe tbody tr th:only-of-type {\n",
              "        vertical-align: middle;\n",
              "    }\n",
              "\n",
              "    .dataframe tbody tr th {\n",
              "        vertical-align: top;\n",
              "    }\n",
              "\n",
              "    .dataframe thead th {\n",
              "        text-align: right;\n",
              "    }\n",
              "</style>\n",
              "<table border=\"1\" class=\"dataframe\">\n",
              "  <thead>\n",
              "    <tr style=\"text-align: right;\">\n",
              "      <th></th>\n",
              "      <th>Gender</th>\n",
              "      <th>Position</th>\n",
              "      <th>Seniority</th>\n",
              "      <th>MainSkill</th>\n",
              "      <th>SecondarySkills</th>\n",
              "      <th>VacationDays</th>\n",
              "      <th>Employment</th>\n",
              "      <th>ContractDuration</th>\n",
              "      <th>CompanySize</th>\n",
              "      <th>CompanyType</th>\n",
              "      <th>LossOfJobCorona</th>\n",
              "    </tr>\n",
              "  </thead>\n",
              "  <tbody>\n",
              "    <tr>\n",
              "      <th>0</th>\n",
              "      <td>Male</td>\n",
              "      <td>Software Engineer</td>\n",
              "      <td>Senior</td>\n",
              "      <td>TypeScript</td>\n",
              "      <td>Kotlin, Javascript / Typescript</td>\n",
              "      <td>30</td>\n",
              "      <td>Full-time employee</td>\n",
              "      <td>Unlimited contract</td>\n",
              "      <td>51-100</td>\n",
              "      <td>Product</td>\n",
              "      <td>No</td>\n",
              "    </tr>\n",
              "    <tr>\n",
              "      <th>1</th>\n",
              "      <td>Male</td>\n",
              "      <td>Backend Developer</td>\n",
              "      <td>Senior</td>\n",
              "      <td>Ruby</td>\n",
              "      <td>NaN</td>\n",
              "      <td>28</td>\n",
              "      <td>Full-time employee</td>\n",
              "      <td>Unlimited contract</td>\n",
              "      <td>101-1000</td>\n",
              "      <td>Product</td>\n",
              "      <td>No</td>\n",
              "    </tr>\n",
              "    <tr>\n",
              "      <th>2</th>\n",
              "      <td>Male</td>\n",
              "      <td>Frontend Developer</td>\n",
              "      <td>Junior</td>\n",
              "      <td>Javascript</td>\n",
              "      <td>NaN</td>\n",
              "      <td>24</td>\n",
              "      <td>Full-time employee</td>\n",
              "      <td>Unlimited contract</td>\n",
              "      <td>51-100</td>\n",
              "      <td>Startup</td>\n",
              "      <td>No</td>\n",
              "    </tr>\n",
              "    <tr>\n",
              "      <th>3</th>\n",
              "      <td>Male</td>\n",
              "      <td>Backend Developer</td>\n",
              "      <td>Senior</td>\n",
              "      <td>C# .NET</td>\n",
              "      <td>.NET, SQL, AWS, Docker</td>\n",
              "      <td>29</td>\n",
              "      <td>Full-time employee</td>\n",
              "      <td>Unlimited contract</td>\n",
              "      <td>101-1000</td>\n",
              "      <td>Product</td>\n",
              "      <td>No</td>\n",
              "    </tr>\n",
              "    <tr>\n",
              "      <th>4</th>\n",
              "      <td>Male</td>\n",
              "      <td>DevOps</td>\n",
              "      <td>Senior</td>\n",
              "      <td>AWS, GCP, Python,K8s</td>\n",
              "      <td>Python, AWS, Google Cloud, Kubernetes, Docker</td>\n",
              "      <td>30</td>\n",
              "      <td>Full-time employee</td>\n",
              "      <td>Unlimited contract</td>\n",
              "      <td>11-50</td>\n",
              "      <td>Startup</td>\n",
              "      <td>No</td>\n",
              "    </tr>\n",
              "  </tbody>\n",
              "</table>\n",
              "</div>\n",
              "      <button class=\"colab-df-convert\" onclick=\"convertToInteractive('df-6e674b02-713c-4680-90a2-f76d2cf56c15')\"\n",
              "              title=\"Convert this dataframe to an interactive table.\"\n",
              "              style=\"display:none;\">\n",
              "        \n",
              "  <svg xmlns=\"http://www.w3.org/2000/svg\" height=\"24px\"viewBox=\"0 0 24 24\"\n",
              "       width=\"24px\">\n",
              "    <path d=\"M0 0h24v24H0V0z\" fill=\"none\"/>\n",
              "    <path d=\"M18.56 5.44l.94 2.06.94-2.06 2.06-.94-2.06-.94-.94-2.06-.94 2.06-2.06.94zm-11 1L8.5 8.5l.94-2.06 2.06-.94-2.06-.94L8.5 2.5l-.94 2.06-2.06.94zm10 10l.94 2.06.94-2.06 2.06-.94-2.06-.94-.94-2.06-.94 2.06-2.06.94z\"/><path d=\"M17.41 7.96l-1.37-1.37c-.4-.4-.92-.59-1.43-.59-.52 0-1.04.2-1.43.59L10.3 9.45l-7.72 7.72c-.78.78-.78 2.05 0 2.83L4 21.41c.39.39.9.59 1.41.59.51 0 1.02-.2 1.41-.59l7.78-7.78 2.81-2.81c.8-.78.8-2.07 0-2.86zM5.41 20L4 18.59l7.72-7.72 1.47 1.35L5.41 20z\"/>\n",
              "  </svg>\n",
              "      </button>\n",
              "      \n",
              "  <style>\n",
              "    .colab-df-container {\n",
              "      display:flex;\n",
              "      flex-wrap:wrap;\n",
              "      gap: 12px;\n",
              "    }\n",
              "\n",
              "    .colab-df-convert {\n",
              "      background-color: #E8F0FE;\n",
              "      border: none;\n",
              "      border-radius: 50%;\n",
              "      cursor: pointer;\n",
              "      display: none;\n",
              "      fill: #1967D2;\n",
              "      height: 32px;\n",
              "      padding: 0 0 0 0;\n",
              "      width: 32px;\n",
              "    }\n",
              "\n",
              "    .colab-df-convert:hover {\n",
              "      background-color: #E2EBFA;\n",
              "      box-shadow: 0px 1px 2px rgba(60, 64, 67, 0.3), 0px 1px 3px 1px rgba(60, 64, 67, 0.15);\n",
              "      fill: #174EA6;\n",
              "    }\n",
              "\n",
              "    [theme=dark] .colab-df-convert {\n",
              "      background-color: #3B4455;\n",
              "      fill: #D2E3FC;\n",
              "    }\n",
              "\n",
              "    [theme=dark] .colab-df-convert:hover {\n",
              "      background-color: #434B5C;\n",
              "      box-shadow: 0px 1px 3px 1px rgba(0, 0, 0, 0.15);\n",
              "      filter: drop-shadow(0px 1px 2px rgba(0, 0, 0, 0.3));\n",
              "      fill: #FFFFFF;\n",
              "    }\n",
              "  </style>\n",
              "\n",
              "      <script>\n",
              "        const buttonEl =\n",
              "          document.querySelector('#df-6e674b02-713c-4680-90a2-f76d2cf56c15 button.colab-df-convert');\n",
              "        buttonEl.style.display =\n",
              "          google.colab.kernel.accessAllowed ? 'block' : 'none';\n",
              "\n",
              "        async function convertToInteractive(key) {\n",
              "          const element = document.querySelector('#df-6e674b02-713c-4680-90a2-f76d2cf56c15');\n",
              "          const dataTable =\n",
              "            await google.colab.kernel.invokeFunction('convertToInteractive',\n",
              "                                                     [key], {});\n",
              "          if (!dataTable) return;\n",
              "\n",
              "          const docLinkHtml = 'Like what you see? Visit the ' +\n",
              "            '<a target=\"_blank\" href=https://colab.research.google.com/notebooks/data_table.ipynb>data table notebook</a>'\n",
              "            + ' to learn more about interactive tables.';\n",
              "          element.innerHTML = '';\n",
              "          dataTable['output_type'] = 'display_data';\n",
              "          await google.colab.output.renderOutput(dataTable, element);\n",
              "          const docLink = document.createElement('div');\n",
              "          docLink.innerHTML = docLinkHtml;\n",
              "          element.appendChild(docLink);\n",
              "        }\n",
              "      </script>\n",
              "    </div>\n",
              "  </div>\n",
              "  "
            ]
          },
          "metadata": {},
          "execution_count": 182
        }
      ]
    },
    {
      "cell_type": "code",
      "source": [
        "# Seems like the index got messed up when we exported our dataframe\n",
        "df = df.reset_index(drop=True)\n",
        "df = df.iloc[: , 1:]"
      ],
      "metadata": {
        "id": "SJNzQV75MAnS"
      },
      "execution_count": 183,
      "outputs": []
    },
    {
      "cell_type": "code",
      "source": [
        "df.columns"
      ],
      "metadata": {
        "colab": {
          "base_uri": "https://localhost:8080/"
        },
        "id": "ClDnkCIxS-D4",
        "outputId": "ad156ee5-085f-4246-e587-6369e0ee0359"
      },
      "execution_count": 184,
      "outputs": [
        {
          "output_type": "execute_result",
          "data": {
            "text/plain": [
              "Index(['Age', 'Gender', 'Position', 'TotalYearsExperience',\n",
              "       'YearsExperienceGermany', 'Seniority', 'MainSkill', 'SecondarySkills',\n",
              "       'BrutSalary', 'BrutSalaryAndStocks', 'AnnualBrutLastYear',\n",
              "       'AnnualBrutAndStocksLastYear', 'VacationDays', 'Employment',\n",
              "       'ContractDuration', 'CompanySize', 'CompanyType', 'LossOfJobCorona',\n",
              "       'HoursIfShorterWeek', 'AdditionalMonetarySupport', 'SeniorityLevel',\n",
              "       'EmploymentType', 'Female', 'Male'],\n",
              "      dtype='object')"
            ]
          },
          "metadata": {},
          "execution_count": 184
        }
      ]
    },
    {
      "cell_type": "code",
      "source": [
        "df = df.drop(['Gender', 'Seniority', 'Employment'], axis=1)"
      ],
      "metadata": {
        "id": "zhlQidvRYr67"
      },
      "execution_count": 185,
      "outputs": []
    },
    {
      "cell_type": "code",
      "source": [
        "# Let's fix the last of our categorical columns\n",
        "df.select_dtypes(include=['object'])"
      ],
      "metadata": {
        "colab": {
          "base_uri": "https://localhost:8080/",
          "height": 424
        },
        "id": "Af7qtpdjY3R8",
        "outputId": "468b59b6-6324-4f70-90a4-53ccf3f002f5"
      },
      "execution_count": 186,
      "outputs": [
        {
          "output_type": "execute_result",
          "data": {
            "text/plain": [
              "                                    Position             MainSkill  \\\n",
              "0                          Software Engineer            TypeScript   \n",
              "1                          Backend Developer                  Ruby   \n",
              "2                         Frontend Developer            Javascript   \n",
              "3                          Backend Developer               C# .NET   \n",
              "4                                     DevOps  AWS, GCP, Python,K8s   \n",
              "...                                      ...                   ...   \n",
              "1081                       Backend Developer                  Java   \n",
              "1082  Researcher/ Consumer Insights Analyst      consumer analysis   \n",
              "1083                   IT Operations Manager                   PHP   \n",
              "1084                      Frontend Developer            JavaScript   \n",
              "1085                                  DevOps                  yaml   \n",
              "\n",
              "                                        SecondarySkills VacationDays  \\\n",
              "0                       Kotlin, Javascript / Typescript           30   \n",
              "1                                                   NaN           28   \n",
              "2                                                   NaN           24   \n",
              "3                                .NET, SQL, AWS, Docker           29   \n",
              "4         Python, AWS, Google Cloud, Kubernetes, Docker           30   \n",
              "...                                                 ...          ...   \n",
              "1081  Python, Javascript / Typescript, Java / Scala,...           26   \n",
              "1082                                                NaN   unlimited    \n",
              "1083  Python, C/C++, Javascript / Typescript, Java /...           28   \n",
              "1084  Javascript / Typescript, Docker, HTML, CSS; Ad...           27   \n",
              "1085  Python, AWS, Kubernetes, Docker, terraform, an...           30   \n",
              "\n",
              "        ContractDuration CompanySize CompanyType LossOfJobCorona  \n",
              "0     Unlimited contract      51-100     Product              No  \n",
              "1     Unlimited contract    101-1000     Product              No  \n",
              "2     Unlimited contract      51-100     Startup              No  \n",
              "3     Unlimited contract    101-1000     Product              No  \n",
              "4     Unlimited contract       11-50     Startup              No  \n",
              "...                  ...         ...         ...             ...  \n",
              "1081  Unlimited contract      51-100     Product             Yes  \n",
              "1082  Unlimited contract       1000+     Product              No  \n",
              "1083  Unlimited contract    101-1000   eCommerce              No  \n",
              "1084  Unlimited contract    101-1000     Product              No  \n",
              "1085  Unlimited contract      51-100     Startup              No  \n",
              "\n",
              "[1086 rows x 8 columns]"
            ],
            "text/html": [
              "\n",
              "  <div id=\"df-ca8d3435-5af2-4b9c-803d-2ad43e35b719\">\n",
              "    <div class=\"colab-df-container\">\n",
              "      <div>\n",
              "<style scoped>\n",
              "    .dataframe tbody tr th:only-of-type {\n",
              "        vertical-align: middle;\n",
              "    }\n",
              "\n",
              "    .dataframe tbody tr th {\n",
              "        vertical-align: top;\n",
              "    }\n",
              "\n",
              "    .dataframe thead th {\n",
              "        text-align: right;\n",
              "    }\n",
              "</style>\n",
              "<table border=\"1\" class=\"dataframe\">\n",
              "  <thead>\n",
              "    <tr style=\"text-align: right;\">\n",
              "      <th></th>\n",
              "      <th>Position</th>\n",
              "      <th>MainSkill</th>\n",
              "      <th>SecondarySkills</th>\n",
              "      <th>VacationDays</th>\n",
              "      <th>ContractDuration</th>\n",
              "      <th>CompanySize</th>\n",
              "      <th>CompanyType</th>\n",
              "      <th>LossOfJobCorona</th>\n",
              "    </tr>\n",
              "  </thead>\n",
              "  <tbody>\n",
              "    <tr>\n",
              "      <th>0</th>\n",
              "      <td>Software Engineer</td>\n",
              "      <td>TypeScript</td>\n",
              "      <td>Kotlin, Javascript / Typescript</td>\n",
              "      <td>30</td>\n",
              "      <td>Unlimited contract</td>\n",
              "      <td>51-100</td>\n",
              "      <td>Product</td>\n",
              "      <td>No</td>\n",
              "    </tr>\n",
              "    <tr>\n",
              "      <th>1</th>\n",
              "      <td>Backend Developer</td>\n",
              "      <td>Ruby</td>\n",
              "      <td>NaN</td>\n",
              "      <td>28</td>\n",
              "      <td>Unlimited contract</td>\n",
              "      <td>101-1000</td>\n",
              "      <td>Product</td>\n",
              "      <td>No</td>\n",
              "    </tr>\n",
              "    <tr>\n",
              "      <th>2</th>\n",
              "      <td>Frontend Developer</td>\n",
              "      <td>Javascript</td>\n",
              "      <td>NaN</td>\n",
              "      <td>24</td>\n",
              "      <td>Unlimited contract</td>\n",
              "      <td>51-100</td>\n",
              "      <td>Startup</td>\n",
              "      <td>No</td>\n",
              "    </tr>\n",
              "    <tr>\n",
              "      <th>3</th>\n",
              "      <td>Backend Developer</td>\n",
              "      <td>C# .NET</td>\n",
              "      <td>.NET, SQL, AWS, Docker</td>\n",
              "      <td>29</td>\n",
              "      <td>Unlimited contract</td>\n",
              "      <td>101-1000</td>\n",
              "      <td>Product</td>\n",
              "      <td>No</td>\n",
              "    </tr>\n",
              "    <tr>\n",
              "      <th>4</th>\n",
              "      <td>DevOps</td>\n",
              "      <td>AWS, GCP, Python,K8s</td>\n",
              "      <td>Python, AWS, Google Cloud, Kubernetes, Docker</td>\n",
              "      <td>30</td>\n",
              "      <td>Unlimited contract</td>\n",
              "      <td>11-50</td>\n",
              "      <td>Startup</td>\n",
              "      <td>No</td>\n",
              "    </tr>\n",
              "    <tr>\n",
              "      <th>...</th>\n",
              "      <td>...</td>\n",
              "      <td>...</td>\n",
              "      <td>...</td>\n",
              "      <td>...</td>\n",
              "      <td>...</td>\n",
              "      <td>...</td>\n",
              "      <td>...</td>\n",
              "      <td>...</td>\n",
              "    </tr>\n",
              "    <tr>\n",
              "      <th>1081</th>\n",
              "      <td>Backend Developer</td>\n",
              "      <td>Java</td>\n",
              "      <td>Python, Javascript / Typescript, Java / Scala,...</td>\n",
              "      <td>26</td>\n",
              "      <td>Unlimited contract</td>\n",
              "      <td>51-100</td>\n",
              "      <td>Product</td>\n",
              "      <td>Yes</td>\n",
              "    </tr>\n",
              "    <tr>\n",
              "      <th>1082</th>\n",
              "      <td>Researcher/ Consumer Insights Analyst</td>\n",
              "      <td>consumer analysis</td>\n",
              "      <td>NaN</td>\n",
              "      <td>unlimited</td>\n",
              "      <td>Unlimited contract</td>\n",
              "      <td>1000+</td>\n",
              "      <td>Product</td>\n",
              "      <td>No</td>\n",
              "    </tr>\n",
              "    <tr>\n",
              "      <th>1083</th>\n",
              "      <td>IT Operations Manager</td>\n",
              "      <td>PHP</td>\n",
              "      <td>Python, C/C++, Javascript / Typescript, Java /...</td>\n",
              "      <td>28</td>\n",
              "      <td>Unlimited contract</td>\n",
              "      <td>101-1000</td>\n",
              "      <td>eCommerce</td>\n",
              "      <td>No</td>\n",
              "    </tr>\n",
              "    <tr>\n",
              "      <th>1084</th>\n",
              "      <td>Frontend Developer</td>\n",
              "      <td>JavaScript</td>\n",
              "      <td>Javascript / Typescript, Docker, HTML, CSS; Ad...</td>\n",
              "      <td>27</td>\n",
              "      <td>Unlimited contract</td>\n",
              "      <td>101-1000</td>\n",
              "      <td>Product</td>\n",
              "      <td>No</td>\n",
              "    </tr>\n",
              "    <tr>\n",
              "      <th>1085</th>\n",
              "      <td>DevOps</td>\n",
              "      <td>yaml</td>\n",
              "      <td>Python, AWS, Kubernetes, Docker, terraform, an...</td>\n",
              "      <td>30</td>\n",
              "      <td>Unlimited contract</td>\n",
              "      <td>51-100</td>\n",
              "      <td>Startup</td>\n",
              "      <td>No</td>\n",
              "    </tr>\n",
              "  </tbody>\n",
              "</table>\n",
              "<p>1086 rows × 8 columns</p>\n",
              "</div>\n",
              "      <button class=\"colab-df-convert\" onclick=\"convertToInteractive('df-ca8d3435-5af2-4b9c-803d-2ad43e35b719')\"\n",
              "              title=\"Convert this dataframe to an interactive table.\"\n",
              "              style=\"display:none;\">\n",
              "        \n",
              "  <svg xmlns=\"http://www.w3.org/2000/svg\" height=\"24px\"viewBox=\"0 0 24 24\"\n",
              "       width=\"24px\">\n",
              "    <path d=\"M0 0h24v24H0V0z\" fill=\"none\"/>\n",
              "    <path d=\"M18.56 5.44l.94 2.06.94-2.06 2.06-.94-2.06-.94-.94-2.06-.94 2.06-2.06.94zm-11 1L8.5 8.5l.94-2.06 2.06-.94-2.06-.94L8.5 2.5l-.94 2.06-2.06.94zm10 10l.94 2.06.94-2.06 2.06-.94-2.06-.94-.94-2.06-.94 2.06-2.06.94z\"/><path d=\"M17.41 7.96l-1.37-1.37c-.4-.4-.92-.59-1.43-.59-.52 0-1.04.2-1.43.59L10.3 9.45l-7.72 7.72c-.78.78-.78 2.05 0 2.83L4 21.41c.39.39.9.59 1.41.59.51 0 1.02-.2 1.41-.59l7.78-7.78 2.81-2.81c.8-.78.8-2.07 0-2.86zM5.41 20L4 18.59l7.72-7.72 1.47 1.35L5.41 20z\"/>\n",
              "  </svg>\n",
              "      </button>\n",
              "      \n",
              "  <style>\n",
              "    .colab-df-container {\n",
              "      display:flex;\n",
              "      flex-wrap:wrap;\n",
              "      gap: 12px;\n",
              "    }\n",
              "\n",
              "    .colab-df-convert {\n",
              "      background-color: #E8F0FE;\n",
              "      border: none;\n",
              "      border-radius: 50%;\n",
              "      cursor: pointer;\n",
              "      display: none;\n",
              "      fill: #1967D2;\n",
              "      height: 32px;\n",
              "      padding: 0 0 0 0;\n",
              "      width: 32px;\n",
              "    }\n",
              "\n",
              "    .colab-df-convert:hover {\n",
              "      background-color: #E2EBFA;\n",
              "      box-shadow: 0px 1px 2px rgba(60, 64, 67, 0.3), 0px 1px 3px 1px rgba(60, 64, 67, 0.15);\n",
              "      fill: #174EA6;\n",
              "    }\n",
              "\n",
              "    [theme=dark] .colab-df-convert {\n",
              "      background-color: #3B4455;\n",
              "      fill: #D2E3FC;\n",
              "    }\n",
              "\n",
              "    [theme=dark] .colab-df-convert:hover {\n",
              "      background-color: #434B5C;\n",
              "      box-shadow: 0px 1px 3px 1px rgba(0, 0, 0, 0.15);\n",
              "      filter: drop-shadow(0px 1px 2px rgba(0, 0, 0, 0.3));\n",
              "      fill: #FFFFFF;\n",
              "    }\n",
              "  </style>\n",
              "\n",
              "      <script>\n",
              "        const buttonEl =\n",
              "          document.querySelector('#df-ca8d3435-5af2-4b9c-803d-2ad43e35b719 button.colab-df-convert');\n",
              "        buttonEl.style.display =\n",
              "          google.colab.kernel.accessAllowed ? 'block' : 'none';\n",
              "\n",
              "        async function convertToInteractive(key) {\n",
              "          const element = document.querySelector('#df-ca8d3435-5af2-4b9c-803d-2ad43e35b719');\n",
              "          const dataTable =\n",
              "            await google.colab.kernel.invokeFunction('convertToInteractive',\n",
              "                                                     [key], {});\n",
              "          if (!dataTable) return;\n",
              "\n",
              "          const docLinkHtml = 'Like what you see? Visit the ' +\n",
              "            '<a target=\"_blank\" href=https://colab.research.google.com/notebooks/data_table.ipynb>data table notebook</a>'\n",
              "            + ' to learn more about interactive tables.';\n",
              "          element.innerHTML = '';\n",
              "          dataTable['output_type'] = 'display_data';\n",
              "          await google.colab.output.renderOutput(dataTable, element);\n",
              "          const docLink = document.createElement('div');\n",
              "          docLink.innerHTML = docLinkHtml;\n",
              "          element.appendChild(docLink);\n",
              "        }\n",
              "      </script>\n",
              "    </div>\n",
              "  </div>\n",
              "  "
            ]
          },
          "metadata": {},
          "execution_count": 186
        }
      ]
    },
    {
      "cell_type": "markdown",
      "source": [
        "### Position"
      ],
      "metadata": {
        "id": "hQ5Rm5wy184G"
      }
    },
    {
      "cell_type": "code",
      "source": [
        "# How many unique positions are there?\n",
        "df[\"Position\"].nunique()"
      ],
      "metadata": {
        "colab": {
          "base_uri": "https://localhost:8080/"
        },
        "id": "pLbFSeE9T4tM",
        "outputId": "42376a41-d6ea-4c19-ce01-10c958d216f3"
      },
      "execution_count": 187,
      "outputs": [
        {
          "output_type": "execute_result",
          "data": {
            "text/plain": [
              "124"
            ]
          },
          "metadata": {},
          "execution_count": 187
        }
      ]
    },
    {
      "cell_type": "code",
      "source": [
        "# Top Positions\n",
        "df[\"Position\"].value_counts()[:10]"
      ],
      "metadata": {
        "colab": {
          "base_uri": "https://localhost:8080/"
        },
        "id": "DCtYYcSiVzyd",
        "outputId": "8e6f9ed0-55eb-421a-91b0-62844aee24a1"
      },
      "execution_count": 188,
      "outputs": [
        {
          "output_type": "execute_result",
          "data": {
            "text/plain": [
              "Software Engineer     344\n",
              "Backend Developer     160\n",
              "Data Scientist         91\n",
              "Frontend Developer     78\n",
              "QA Engineer            60\n",
              "DevOps                 52\n",
              "Mobile Developer       47\n",
              "ML Engineer            36\n",
              "Product Manager        30\n",
              "Data Engineer          22\n",
              "Name: Position, dtype: int64"
            ]
          },
          "metadata": {},
          "execution_count": 188
        }
      ]
    },
    {
      "cell_type": "code",
      "source": [
        "encoder = TargetEncoder()\n",
        "df['Position'] = encoder.fit_transform(df['Position'], df['BrutSalary'])"
      ],
      "metadata": {
        "colab": {
          "base_uri": "https://localhost:8080/"
        },
        "id": "XGkrNDzzUHVe",
        "outputId": "18fc1d90-ff83-408a-fc0d-0582df1bcf34"
      },
      "execution_count": 189,
      "outputs": [
        {
          "output_type": "stream",
          "name": "stderr",
          "text": [
            "/usr/local/lib/python3.7/dist-packages/category_encoders/target_encoder.py:124: FutureWarning: Default parameter min_samples_leaf will change in version 2.6.See https://github.com/scikit-learn-contrib/category_encoders/issues/327\n",
            "  category=FutureWarning)\n",
            "/usr/local/lib/python3.7/dist-packages/category_encoders/target_encoder.py:129: FutureWarning: Default parameter smoothing will change in version 2.6.See https://github.com/scikit-learn-contrib/category_encoders/issues/327\n",
            "  category=FutureWarning)\n"
          ]
        }
      ]
    },
    {
      "cell_type": "markdown",
      "source": [
        "### Main and Secondary Skill"
      ],
      "metadata": {
        "id": "iTDTU7Ln2AOq"
      }
    },
    {
      "cell_type": "code",
      "source": [
        "# Top Skills\n",
        "df[\"MainSkill\"].value_counts()[:10]"
      ],
      "metadata": {
        "colab": {
          "base_uri": "https://localhost:8080/"
        },
        "id": "yFNV0I4sTn9o",
        "outputId": "c17ad7af-a602-471d-a1f4-a6b04c67ab40"
      },
      "execution_count": 190,
      "outputs": [
        {
          "output_type": "execute_result",
          "data": {
            "text/plain": [
              "Java          165\n",
              "Python        137\n",
              "PHP            52\n",
              "C++            35\n",
              "JavaScript     31\n",
              "Javascript     30\n",
              "C#             27\n",
              "python         21\n",
              "Swift          20\n",
              "Scala          20\n",
              "Name: MainSkill, dtype: int64"
            ]
          },
          "metadata": {},
          "execution_count": 190
        }
      ]
    },
    {
      "cell_type": "code",
      "source": [
        "df['MainSkill'] = encoder.fit_transform(df['MainSkill'], df['BrutSalary'])\n",
        "df['SecondarySkills'] = encoder.fit_transform(df['SecondarySkills'], df['BrutSalary'])"
      ],
      "metadata": {
        "id": "VS49ejFYaqIL"
      },
      "execution_count": 191,
      "outputs": []
    },
    {
      "cell_type": "markdown",
      "source": [
        "### Vacation Days"
      ],
      "metadata": {
        "id": "PLK2rlVH2FOp"
      }
    },
    {
      "cell_type": "code",
      "source": [
        "for x in df['VacationDays']:\n",
        "  try:\n",
        "    x = float(x)\n",
        "  except:\n",
        "    print(x)"
      ],
      "metadata": {
        "colab": {
          "base_uri": "https://localhost:8080/"
        },
        "id": "wLIZ35upbPOJ",
        "outputId": "6d8efe86-cbd4-4766-ca2f-22c30eee0f23"
      },
      "execution_count": 192,
      "outputs": [
        {
          "output_type": "stream",
          "name": "stdout",
          "text": [
            "unlimited \n",
            "30 in contract (but theoretically unlimited)\n",
            "~25\n",
            "unlimited\n",
            "23+\n",
            "Unlimited\n",
            "24 labour days\n",
            "Unlimited\n",
            "unlimited\n",
            "unlimited \n"
          ]
        }
      ]
    },
    {
      "cell_type": "code",
      "source": [
        "df = df.replace({'VacationDays' : { \"30 in contract (but theoretically unlimited)\" : 30, \"~25\" : 25,\n",
        "                                   \"23+\": 23, \"unlimited\": np.Inf, \"24 labour days\": 24, 'unlimited ': np.Inf,\n",
        "                                   \"Unlimited\": np.Inf, \"Unlimited \": np.Inf, \"NaN\": 0}})\n",
        "df['VacationDays'] = df['VacationDays'].astype(float)"
      ],
      "metadata": {
        "id": "_hj9_S37aw9w"
      },
      "execution_count": 193,
      "outputs": []
    },
    {
      "cell_type": "markdown",
      "source": [
        "### Contract Duration"
      ],
      "metadata": {
        "id": "ALde1xNJ2ICe"
      }
    },
    {
      "cell_type": "code",
      "source": [
        "df[\"ContractDuration\"].nunique()"
      ],
      "metadata": {
        "colab": {
          "base_uri": "https://localhost:8080/"
        },
        "id": "QI1P_7xic1D2",
        "outputId": "828829e1-59c7-4271-e7f9-2b5dbd117cc4"
      },
      "execution_count": 194,
      "outputs": [
        {
          "output_type": "execute_result",
          "data": {
            "text/plain": [
              "2"
            ]
          },
          "metadata": {},
          "execution_count": 194
        }
      ]
    },
    {
      "cell_type": "code",
      "source": [
        "fill = df['ContractDuration'].mode()\n",
        "fill"
      ],
      "metadata": {
        "colab": {
          "base_uri": "https://localhost:8080/"
        },
        "id": "n7eib2qHhfeP",
        "outputId": "73cc5a08-d5c7-4b54-a674-ed58daca7ed1"
      },
      "execution_count": 195,
      "outputs": [
        {
          "output_type": "execute_result",
          "data": {
            "text/plain": [
              "0    Unlimited contract\n",
              "dtype: object"
            ]
          },
          "metadata": {},
          "execution_count": 195
        }
      ]
    },
    {
      "cell_type": "code",
      "source": [
        "df['ContractDuration'] = df['ContractDuration'].fillna(fill)"
      ],
      "metadata": {
        "id": "cmNwMXFPdy8S"
      },
      "execution_count": 196,
      "outputs": []
    },
    {
      "cell_type": "code",
      "source": [
        "y = pd.get_dummies(df['ContractDuration'], prefix='Type')"
      ],
      "metadata": {
        "id": "iuaUA0yudU14"
      },
      "execution_count": 197,
      "outputs": []
    },
    {
      "cell_type": "code",
      "source": [
        "df = pd.concat([df, y], axis=1)"
      ],
      "metadata": {
        "id": "IcnX9tR4eFlR"
      },
      "execution_count": 198,
      "outputs": []
    },
    {
      "cell_type": "code",
      "source": [
        "df.head()"
      ],
      "metadata": {
        "colab": {
          "base_uri": "https://localhost:8080/",
          "height": 317
        },
        "id": "hHWqim51iO0R",
        "outputId": "0b8dbfcb-2cce-48a0-9ec7-30ab0b671e1f"
      },
      "execution_count": 199,
      "outputs": [
        {
          "output_type": "execute_result",
          "data": {
            "text/plain": [
              "    Age      Position  TotalYearsExperience  YearsExperienceGermany  \\\n",
              "0  26.0  71777.000000                   5.0                     3.0   \n",
              "1  26.0  69657.018750                   7.0                     4.0   \n",
              "2  28.0  64336.602564                   4.0                     1.0   \n",
              "3  37.0  69657.018750                  17.0                     6.0   \n",
              "4  32.0  73111.538462                   5.0                     1.0   \n",
              "\n",
              "      MainSkill  SecondarySkills  BrutSalary  BrutSalaryAndStocks  \\\n",
              "0  76840.582037     72892.687548     80000.0               5000.0   \n",
              "1  70149.999992     65895.882353     80000.0               5000.0   \n",
              "2  65788.666667     65895.882353     54000.0               5000.0   \n",
              "3  69636.731123     69636.731123     62000.0               5000.0   \n",
              "4  69636.731123     70250.296314     76000.0               5000.0   \n",
              "\n",
              "   AnnualBrutLastYear  AnnualBrutAndStocksLastYear  ...  CompanyType  \\\n",
              "0             75000.0                      10000.0  ...      Product   \n",
              "1             82000.0                       5000.0  ...      Product   \n",
              "2             65000.0                       5000.0  ...      Startup   \n",
              "3             62000.0                       5000.0  ...      Product   \n",
              "4             76000.0                       5000.0  ...      Startup   \n",
              "\n",
              "  LossOfJobCorona HoursIfShorterWeek AdditionalMonetarySupport SeniorityLevel  \\\n",
              "0              No          13.566568                     250.0              3   \n",
              "1              No          13.566568                     250.0              3   \n",
              "2              No          13.566568                     250.0              1   \n",
              "3              No          13.566568                     250.0              3   \n",
              "4              No          13.566568                     250.0              3   \n",
              "\n",
              "   EmploymentType  Female  Male  Type_Temporary contract  \\\n",
              "0               4       0     1                        0   \n",
              "1               4       0     1                        0   \n",
              "2               4       0     1                        0   \n",
              "3               4       0     1                        0   \n",
              "4               4       0     1                        0   \n",
              "\n",
              "   Type_Unlimited contract  \n",
              "0                        1  \n",
              "1                        1  \n",
              "2                        1  \n",
              "3                        1  \n",
              "4                        1  \n",
              "\n",
              "[5 rows x 23 columns]"
            ],
            "text/html": [
              "\n",
              "  <div id=\"df-4cb6fe35-70a2-4aec-ad5f-45eaa0a3b91a\">\n",
              "    <div class=\"colab-df-container\">\n",
              "      <div>\n",
              "<style scoped>\n",
              "    .dataframe tbody tr th:only-of-type {\n",
              "        vertical-align: middle;\n",
              "    }\n",
              "\n",
              "    .dataframe tbody tr th {\n",
              "        vertical-align: top;\n",
              "    }\n",
              "\n",
              "    .dataframe thead th {\n",
              "        text-align: right;\n",
              "    }\n",
              "</style>\n",
              "<table border=\"1\" class=\"dataframe\">\n",
              "  <thead>\n",
              "    <tr style=\"text-align: right;\">\n",
              "      <th></th>\n",
              "      <th>Age</th>\n",
              "      <th>Position</th>\n",
              "      <th>TotalYearsExperience</th>\n",
              "      <th>YearsExperienceGermany</th>\n",
              "      <th>MainSkill</th>\n",
              "      <th>SecondarySkills</th>\n",
              "      <th>BrutSalary</th>\n",
              "      <th>BrutSalaryAndStocks</th>\n",
              "      <th>AnnualBrutLastYear</th>\n",
              "      <th>AnnualBrutAndStocksLastYear</th>\n",
              "      <th>...</th>\n",
              "      <th>CompanyType</th>\n",
              "      <th>LossOfJobCorona</th>\n",
              "      <th>HoursIfShorterWeek</th>\n",
              "      <th>AdditionalMonetarySupport</th>\n",
              "      <th>SeniorityLevel</th>\n",
              "      <th>EmploymentType</th>\n",
              "      <th>Female</th>\n",
              "      <th>Male</th>\n",
              "      <th>Type_Temporary contract</th>\n",
              "      <th>Type_Unlimited contract</th>\n",
              "    </tr>\n",
              "  </thead>\n",
              "  <tbody>\n",
              "    <tr>\n",
              "      <th>0</th>\n",
              "      <td>26.0</td>\n",
              "      <td>71777.000000</td>\n",
              "      <td>5.0</td>\n",
              "      <td>3.0</td>\n",
              "      <td>76840.582037</td>\n",
              "      <td>72892.687548</td>\n",
              "      <td>80000.0</td>\n",
              "      <td>5000.0</td>\n",
              "      <td>75000.0</td>\n",
              "      <td>10000.0</td>\n",
              "      <td>...</td>\n",
              "      <td>Product</td>\n",
              "      <td>No</td>\n",
              "      <td>13.566568</td>\n",
              "      <td>250.0</td>\n",
              "      <td>3</td>\n",
              "      <td>4</td>\n",
              "      <td>0</td>\n",
              "      <td>1</td>\n",
              "      <td>0</td>\n",
              "      <td>1</td>\n",
              "    </tr>\n",
              "    <tr>\n",
              "      <th>1</th>\n",
              "      <td>26.0</td>\n",
              "      <td>69657.018750</td>\n",
              "      <td>7.0</td>\n",
              "      <td>4.0</td>\n",
              "      <td>70149.999992</td>\n",
              "      <td>65895.882353</td>\n",
              "      <td>80000.0</td>\n",
              "      <td>5000.0</td>\n",
              "      <td>82000.0</td>\n",
              "      <td>5000.0</td>\n",
              "      <td>...</td>\n",
              "      <td>Product</td>\n",
              "      <td>No</td>\n",
              "      <td>13.566568</td>\n",
              "      <td>250.0</td>\n",
              "      <td>3</td>\n",
              "      <td>4</td>\n",
              "      <td>0</td>\n",
              "      <td>1</td>\n",
              "      <td>0</td>\n",
              "      <td>1</td>\n",
              "    </tr>\n",
              "    <tr>\n",
              "      <th>2</th>\n",
              "      <td>28.0</td>\n",
              "      <td>64336.602564</td>\n",
              "      <td>4.0</td>\n",
              "      <td>1.0</td>\n",
              "      <td>65788.666667</td>\n",
              "      <td>65895.882353</td>\n",
              "      <td>54000.0</td>\n",
              "      <td>5000.0</td>\n",
              "      <td>65000.0</td>\n",
              "      <td>5000.0</td>\n",
              "      <td>...</td>\n",
              "      <td>Startup</td>\n",
              "      <td>No</td>\n",
              "      <td>13.566568</td>\n",
              "      <td>250.0</td>\n",
              "      <td>1</td>\n",
              "      <td>4</td>\n",
              "      <td>0</td>\n",
              "      <td>1</td>\n",
              "      <td>0</td>\n",
              "      <td>1</td>\n",
              "    </tr>\n",
              "    <tr>\n",
              "      <th>3</th>\n",
              "      <td>37.0</td>\n",
              "      <td>69657.018750</td>\n",
              "      <td>17.0</td>\n",
              "      <td>6.0</td>\n",
              "      <td>69636.731123</td>\n",
              "      <td>69636.731123</td>\n",
              "      <td>62000.0</td>\n",
              "      <td>5000.0</td>\n",
              "      <td>62000.0</td>\n",
              "      <td>5000.0</td>\n",
              "      <td>...</td>\n",
              "      <td>Product</td>\n",
              "      <td>No</td>\n",
              "      <td>13.566568</td>\n",
              "      <td>250.0</td>\n",
              "      <td>3</td>\n",
              "      <td>4</td>\n",
              "      <td>0</td>\n",
              "      <td>1</td>\n",
              "      <td>0</td>\n",
              "      <td>1</td>\n",
              "    </tr>\n",
              "    <tr>\n",
              "      <th>4</th>\n",
              "      <td>32.0</td>\n",
              "      <td>73111.538462</td>\n",
              "      <td>5.0</td>\n",
              "      <td>1.0</td>\n",
              "      <td>69636.731123</td>\n",
              "      <td>70250.296314</td>\n",
              "      <td>76000.0</td>\n",
              "      <td>5000.0</td>\n",
              "      <td>76000.0</td>\n",
              "      <td>5000.0</td>\n",
              "      <td>...</td>\n",
              "      <td>Startup</td>\n",
              "      <td>No</td>\n",
              "      <td>13.566568</td>\n",
              "      <td>250.0</td>\n",
              "      <td>3</td>\n",
              "      <td>4</td>\n",
              "      <td>0</td>\n",
              "      <td>1</td>\n",
              "      <td>0</td>\n",
              "      <td>1</td>\n",
              "    </tr>\n",
              "  </tbody>\n",
              "</table>\n",
              "<p>5 rows × 23 columns</p>\n",
              "</div>\n",
              "      <button class=\"colab-df-convert\" onclick=\"convertToInteractive('df-4cb6fe35-70a2-4aec-ad5f-45eaa0a3b91a')\"\n",
              "              title=\"Convert this dataframe to an interactive table.\"\n",
              "              style=\"display:none;\">\n",
              "        \n",
              "  <svg xmlns=\"http://www.w3.org/2000/svg\" height=\"24px\"viewBox=\"0 0 24 24\"\n",
              "       width=\"24px\">\n",
              "    <path d=\"M0 0h24v24H0V0z\" fill=\"none\"/>\n",
              "    <path d=\"M18.56 5.44l.94 2.06.94-2.06 2.06-.94-2.06-.94-.94-2.06-.94 2.06-2.06.94zm-11 1L8.5 8.5l.94-2.06 2.06-.94-2.06-.94L8.5 2.5l-.94 2.06-2.06.94zm10 10l.94 2.06.94-2.06 2.06-.94-2.06-.94-.94-2.06-.94 2.06-2.06.94z\"/><path d=\"M17.41 7.96l-1.37-1.37c-.4-.4-.92-.59-1.43-.59-.52 0-1.04.2-1.43.59L10.3 9.45l-7.72 7.72c-.78.78-.78 2.05 0 2.83L4 21.41c.39.39.9.59 1.41.59.51 0 1.02-.2 1.41-.59l7.78-7.78 2.81-2.81c.8-.78.8-2.07 0-2.86zM5.41 20L4 18.59l7.72-7.72 1.47 1.35L5.41 20z\"/>\n",
              "  </svg>\n",
              "      </button>\n",
              "      \n",
              "  <style>\n",
              "    .colab-df-container {\n",
              "      display:flex;\n",
              "      flex-wrap:wrap;\n",
              "      gap: 12px;\n",
              "    }\n",
              "\n",
              "    .colab-df-convert {\n",
              "      background-color: #E8F0FE;\n",
              "      border: none;\n",
              "      border-radius: 50%;\n",
              "      cursor: pointer;\n",
              "      display: none;\n",
              "      fill: #1967D2;\n",
              "      height: 32px;\n",
              "      padding: 0 0 0 0;\n",
              "      width: 32px;\n",
              "    }\n",
              "\n",
              "    .colab-df-convert:hover {\n",
              "      background-color: #E2EBFA;\n",
              "      box-shadow: 0px 1px 2px rgba(60, 64, 67, 0.3), 0px 1px 3px 1px rgba(60, 64, 67, 0.15);\n",
              "      fill: #174EA6;\n",
              "    }\n",
              "\n",
              "    [theme=dark] .colab-df-convert {\n",
              "      background-color: #3B4455;\n",
              "      fill: #D2E3FC;\n",
              "    }\n",
              "\n",
              "    [theme=dark] .colab-df-convert:hover {\n",
              "      background-color: #434B5C;\n",
              "      box-shadow: 0px 1px 3px 1px rgba(0, 0, 0, 0.15);\n",
              "      filter: drop-shadow(0px 1px 2px rgba(0, 0, 0, 0.3));\n",
              "      fill: #FFFFFF;\n",
              "    }\n",
              "  </style>\n",
              "\n",
              "      <script>\n",
              "        const buttonEl =\n",
              "          document.querySelector('#df-4cb6fe35-70a2-4aec-ad5f-45eaa0a3b91a button.colab-df-convert');\n",
              "        buttonEl.style.display =\n",
              "          google.colab.kernel.accessAllowed ? 'block' : 'none';\n",
              "\n",
              "        async function convertToInteractive(key) {\n",
              "          const element = document.querySelector('#df-4cb6fe35-70a2-4aec-ad5f-45eaa0a3b91a');\n",
              "          const dataTable =\n",
              "            await google.colab.kernel.invokeFunction('convertToInteractive',\n",
              "                                                     [key], {});\n",
              "          if (!dataTable) return;\n",
              "\n",
              "          const docLinkHtml = 'Like what you see? Visit the ' +\n",
              "            '<a target=\"_blank\" href=https://colab.research.google.com/notebooks/data_table.ipynb>data table notebook</a>'\n",
              "            + ' to learn more about interactive tables.';\n",
              "          element.innerHTML = '';\n",
              "          dataTable['output_type'] = 'display_data';\n",
              "          await google.colab.output.renderOutput(dataTable, element);\n",
              "          const docLink = document.createElement('div');\n",
              "          docLink.innerHTML = docLinkHtml;\n",
              "          element.appendChild(docLink);\n",
              "        }\n",
              "      </script>\n",
              "    </div>\n",
              "  </div>\n",
              "  "
            ]
          },
          "metadata": {},
          "execution_count": 199
        }
      ]
    },
    {
      "cell_type": "markdown",
      "source": [
        "### Company Type"
      ],
      "metadata": {
        "id": "l8t91INa2XZd"
      }
    },
    {
      "cell_type": "code",
      "source": [
        "df[\"CompanyType\"].unique()"
      ],
      "metadata": {
        "colab": {
          "base_uri": "https://localhost:8080/"
        },
        "id": "_huKXVf5iXWG",
        "outputId": "0419faf0-4e1d-41d6-b253-1569eca94426"
      },
      "execution_count": 200,
      "outputs": [
        {
          "output_type": "execute_result",
          "data": {
            "text/plain": [
              "array(['Product', 'Startup', 'Consulting / Agency', 'Media', nan,\n",
              "       'Personal Ltd', 'Cloud', 'Behörde', 'Construction',\n",
              "       'Big commercial', 'Outsorce', 'Bank ', 'Automotive', 'Bank',\n",
              "       'IT Department of established business', 'Telecommunications',\n",
              "       'Systemhaus', 'University', 'IT-Outsourcing', 'Game Company',\n",
              "       'Financial ', 'E-commerce', 'Corporation',\n",
              "       'Publishing and Technology', 'Market Research ', 'e-commerce',\n",
              "       'SaaS', 'Publisher', 'Energy ', 'Enterprise', 'Bloody enterprise',\n",
              "       'service', 'Utilities', 'Insurance', 'Research institute',\n",
              "       'Retail', 'Ecommerce', 'E-Commerce', 'Semiconductor',\n",
              "       'Automotive ', 'Institute', 'Finance', 'Fintech', 'Handel ',\n",
              "       'Consulting and Product', 'Education', 'Pharma',\n",
              "       'Transport & Logistics', 'Biergarten ', 'Research',\n",
              "       'Multinational ', 'Industry', 'FAANG', 'Old industry', 'Outsourse',\n",
              "       'eCommerce'], dtype=object)"
            ]
          },
          "metadata": {},
          "execution_count": 200
        }
      ]
    },
    {
      "cell_type": "code",
      "source": [
        "df[\"CompanyType\"] = encoder.fit_transform(df[\"CompanyType\"], df['BrutSalary'])"
      ],
      "metadata": {
        "id": "WG-kudBkie8R"
      },
      "execution_count": 201,
      "outputs": []
    },
    {
      "cell_type": "markdown",
      "source": [
        "### Loss of Jobs"
      ],
      "metadata": {
        "id": "46IRpfdL2caP"
      }
    },
    {
      "cell_type": "code",
      "source": [
        "df[\"LossOfJobCorona\"].unique()"
      ],
      "metadata": {
        "colab": {
          "base_uri": "https://localhost:8080/"
        },
        "id": "I7xKQq7Cijip",
        "outputId": "33687144-dbb7-4f80-abda-7446c7c9134d"
      },
      "execution_count": 202,
      "outputs": [
        {
          "output_type": "execute_result",
          "data": {
            "text/plain": [
              "array(['No', 'Yes',\n",
              "       \"i didn't but will be looking for new one because of covid\", nan,\n",
              "       'kurzarbeitzeit for 1.5 months',\n",
              "       'No, but there was a salary cut at 10% for 3 months and then at 5% for further 3 months',\n",
              "       'Lost the job but for different reason',\n",
              "       'yes but found a new one with better pay / perks'], dtype=object)"
            ]
          },
          "metadata": {},
          "execution_count": 202
        }
      ]
    },
    {
      "cell_type": "code",
      "source": [
        "keep = ['No', 'Yes']\n",
        "fill = df['LossOfJobCorona'].mode()\n",
        "df.loc[~df['LossOfJobCorona'].isin(keep), 'LossOfJobCorona'] = df['LossOfJobCorona'].mode()\n",
        "df['LossOfJobCorona'] = df['LossOfJobCorona'].fillna(fill)"
      ],
      "metadata": {
        "id": "oYM_5yIWjMI0"
      },
      "execution_count": 203,
      "outputs": []
    },
    {
      "cell_type": "code",
      "source": [
        "y = pd.get_dummies(df['LossOfJobCorona'], prefix='LossOfJobCorona')"
      ],
      "metadata": {
        "id": "o6LDtH5zjW6Y"
      },
      "execution_count": 204,
      "outputs": []
    },
    {
      "cell_type": "code",
      "source": [
        "df = pd.concat([df, y], axis=1)\n",
        "df.head()"
      ],
      "metadata": {
        "colab": {
          "base_uri": "https://localhost:8080/",
          "height": 317
        },
        "id": "E5HPN4lYkBED",
        "outputId": "51b9544b-eb35-4440-f324-d3ec9de7adb5"
      },
      "execution_count": 205,
      "outputs": [
        {
          "output_type": "execute_result",
          "data": {
            "text/plain": [
              "    Age      Position  TotalYearsExperience  YearsExperienceGermany  \\\n",
              "0  26.0  71777.000000                   5.0                     3.0   \n",
              "1  26.0  69657.018750                   7.0                     4.0   \n",
              "2  28.0  64336.602564                   4.0                     1.0   \n",
              "3  37.0  69657.018750                  17.0                     6.0   \n",
              "4  32.0  73111.538462                   5.0                     1.0   \n",
              "\n",
              "      MainSkill  SecondarySkills  BrutSalary  BrutSalaryAndStocks  \\\n",
              "0  76840.582037     72892.687548     80000.0               5000.0   \n",
              "1  70149.999992     65895.882353     80000.0               5000.0   \n",
              "2  65788.666667     65895.882353     54000.0               5000.0   \n",
              "3  69636.731123     69636.731123     62000.0               5000.0   \n",
              "4  69636.731123     70250.296314     76000.0               5000.0   \n",
              "\n",
              "   AnnualBrutLastYear  AnnualBrutAndStocksLastYear  ...  HoursIfShorterWeek  \\\n",
              "0             75000.0                      10000.0  ...           13.566568   \n",
              "1             82000.0                       5000.0  ...           13.566568   \n",
              "2             65000.0                       5000.0  ...           13.566568   \n",
              "3             62000.0                       5000.0  ...           13.566568   \n",
              "4             76000.0                       5000.0  ...           13.566568   \n",
              "\n",
              "  AdditionalMonetarySupport SeniorityLevel  EmploymentType Female  Male  \\\n",
              "0                     250.0              3               4      0     1   \n",
              "1                     250.0              3               4      0     1   \n",
              "2                     250.0              1               4      0     1   \n",
              "3                     250.0              3               4      0     1   \n",
              "4                     250.0              3               4      0     1   \n",
              "\n",
              "   Type_Temporary contract  Type_Unlimited contract  LossOfJobCorona_No  \\\n",
              "0                        0                        1                   1   \n",
              "1                        0                        1                   1   \n",
              "2                        0                        1                   1   \n",
              "3                        0                        1                   1   \n",
              "4                        0                        1                   1   \n",
              "\n",
              "   LossOfJobCorona_Yes  \n",
              "0                    0  \n",
              "1                    0  \n",
              "2                    0  \n",
              "3                    0  \n",
              "4                    0  \n",
              "\n",
              "[5 rows x 25 columns]"
            ],
            "text/html": [
              "\n",
              "  <div id=\"df-80f88bb9-f214-48a2-a553-6b9e0fadd05b\">\n",
              "    <div class=\"colab-df-container\">\n",
              "      <div>\n",
              "<style scoped>\n",
              "    .dataframe tbody tr th:only-of-type {\n",
              "        vertical-align: middle;\n",
              "    }\n",
              "\n",
              "    .dataframe tbody tr th {\n",
              "        vertical-align: top;\n",
              "    }\n",
              "\n",
              "    .dataframe thead th {\n",
              "        text-align: right;\n",
              "    }\n",
              "</style>\n",
              "<table border=\"1\" class=\"dataframe\">\n",
              "  <thead>\n",
              "    <tr style=\"text-align: right;\">\n",
              "      <th></th>\n",
              "      <th>Age</th>\n",
              "      <th>Position</th>\n",
              "      <th>TotalYearsExperience</th>\n",
              "      <th>YearsExperienceGermany</th>\n",
              "      <th>MainSkill</th>\n",
              "      <th>SecondarySkills</th>\n",
              "      <th>BrutSalary</th>\n",
              "      <th>BrutSalaryAndStocks</th>\n",
              "      <th>AnnualBrutLastYear</th>\n",
              "      <th>AnnualBrutAndStocksLastYear</th>\n",
              "      <th>...</th>\n",
              "      <th>HoursIfShorterWeek</th>\n",
              "      <th>AdditionalMonetarySupport</th>\n",
              "      <th>SeniorityLevel</th>\n",
              "      <th>EmploymentType</th>\n",
              "      <th>Female</th>\n",
              "      <th>Male</th>\n",
              "      <th>Type_Temporary contract</th>\n",
              "      <th>Type_Unlimited contract</th>\n",
              "      <th>LossOfJobCorona_No</th>\n",
              "      <th>LossOfJobCorona_Yes</th>\n",
              "    </tr>\n",
              "  </thead>\n",
              "  <tbody>\n",
              "    <tr>\n",
              "      <th>0</th>\n",
              "      <td>26.0</td>\n",
              "      <td>71777.000000</td>\n",
              "      <td>5.0</td>\n",
              "      <td>3.0</td>\n",
              "      <td>76840.582037</td>\n",
              "      <td>72892.687548</td>\n",
              "      <td>80000.0</td>\n",
              "      <td>5000.0</td>\n",
              "      <td>75000.0</td>\n",
              "      <td>10000.0</td>\n",
              "      <td>...</td>\n",
              "      <td>13.566568</td>\n",
              "      <td>250.0</td>\n",
              "      <td>3</td>\n",
              "      <td>4</td>\n",
              "      <td>0</td>\n",
              "      <td>1</td>\n",
              "      <td>0</td>\n",
              "      <td>1</td>\n",
              "      <td>1</td>\n",
              "      <td>0</td>\n",
              "    </tr>\n",
              "    <tr>\n",
              "      <th>1</th>\n",
              "      <td>26.0</td>\n",
              "      <td>69657.018750</td>\n",
              "      <td>7.0</td>\n",
              "      <td>4.0</td>\n",
              "      <td>70149.999992</td>\n",
              "      <td>65895.882353</td>\n",
              "      <td>80000.0</td>\n",
              "      <td>5000.0</td>\n",
              "      <td>82000.0</td>\n",
              "      <td>5000.0</td>\n",
              "      <td>...</td>\n",
              "      <td>13.566568</td>\n",
              "      <td>250.0</td>\n",
              "      <td>3</td>\n",
              "      <td>4</td>\n",
              "      <td>0</td>\n",
              "      <td>1</td>\n",
              "      <td>0</td>\n",
              "      <td>1</td>\n",
              "      <td>1</td>\n",
              "      <td>0</td>\n",
              "    </tr>\n",
              "    <tr>\n",
              "      <th>2</th>\n",
              "      <td>28.0</td>\n",
              "      <td>64336.602564</td>\n",
              "      <td>4.0</td>\n",
              "      <td>1.0</td>\n",
              "      <td>65788.666667</td>\n",
              "      <td>65895.882353</td>\n",
              "      <td>54000.0</td>\n",
              "      <td>5000.0</td>\n",
              "      <td>65000.0</td>\n",
              "      <td>5000.0</td>\n",
              "      <td>...</td>\n",
              "      <td>13.566568</td>\n",
              "      <td>250.0</td>\n",
              "      <td>1</td>\n",
              "      <td>4</td>\n",
              "      <td>0</td>\n",
              "      <td>1</td>\n",
              "      <td>0</td>\n",
              "      <td>1</td>\n",
              "      <td>1</td>\n",
              "      <td>0</td>\n",
              "    </tr>\n",
              "    <tr>\n",
              "      <th>3</th>\n",
              "      <td>37.0</td>\n",
              "      <td>69657.018750</td>\n",
              "      <td>17.0</td>\n",
              "      <td>6.0</td>\n",
              "      <td>69636.731123</td>\n",
              "      <td>69636.731123</td>\n",
              "      <td>62000.0</td>\n",
              "      <td>5000.0</td>\n",
              "      <td>62000.0</td>\n",
              "      <td>5000.0</td>\n",
              "      <td>...</td>\n",
              "      <td>13.566568</td>\n",
              "      <td>250.0</td>\n",
              "      <td>3</td>\n",
              "      <td>4</td>\n",
              "      <td>0</td>\n",
              "      <td>1</td>\n",
              "      <td>0</td>\n",
              "      <td>1</td>\n",
              "      <td>1</td>\n",
              "      <td>0</td>\n",
              "    </tr>\n",
              "    <tr>\n",
              "      <th>4</th>\n",
              "      <td>32.0</td>\n",
              "      <td>73111.538462</td>\n",
              "      <td>5.0</td>\n",
              "      <td>1.0</td>\n",
              "      <td>69636.731123</td>\n",
              "      <td>70250.296314</td>\n",
              "      <td>76000.0</td>\n",
              "      <td>5000.0</td>\n",
              "      <td>76000.0</td>\n",
              "      <td>5000.0</td>\n",
              "      <td>...</td>\n",
              "      <td>13.566568</td>\n",
              "      <td>250.0</td>\n",
              "      <td>3</td>\n",
              "      <td>4</td>\n",
              "      <td>0</td>\n",
              "      <td>1</td>\n",
              "      <td>0</td>\n",
              "      <td>1</td>\n",
              "      <td>1</td>\n",
              "      <td>0</td>\n",
              "    </tr>\n",
              "  </tbody>\n",
              "</table>\n",
              "<p>5 rows × 25 columns</p>\n",
              "</div>\n",
              "      <button class=\"colab-df-convert\" onclick=\"convertToInteractive('df-80f88bb9-f214-48a2-a553-6b9e0fadd05b')\"\n",
              "              title=\"Convert this dataframe to an interactive table.\"\n",
              "              style=\"display:none;\">\n",
              "        \n",
              "  <svg xmlns=\"http://www.w3.org/2000/svg\" height=\"24px\"viewBox=\"0 0 24 24\"\n",
              "       width=\"24px\">\n",
              "    <path d=\"M0 0h24v24H0V0z\" fill=\"none\"/>\n",
              "    <path d=\"M18.56 5.44l.94 2.06.94-2.06 2.06-.94-2.06-.94-.94-2.06-.94 2.06-2.06.94zm-11 1L8.5 8.5l.94-2.06 2.06-.94-2.06-.94L8.5 2.5l-.94 2.06-2.06.94zm10 10l.94 2.06.94-2.06 2.06-.94-2.06-.94-.94-2.06-.94 2.06-2.06.94z\"/><path d=\"M17.41 7.96l-1.37-1.37c-.4-.4-.92-.59-1.43-.59-.52 0-1.04.2-1.43.59L10.3 9.45l-7.72 7.72c-.78.78-.78 2.05 0 2.83L4 21.41c.39.39.9.59 1.41.59.51 0 1.02-.2 1.41-.59l7.78-7.78 2.81-2.81c.8-.78.8-2.07 0-2.86zM5.41 20L4 18.59l7.72-7.72 1.47 1.35L5.41 20z\"/>\n",
              "  </svg>\n",
              "      </button>\n",
              "      \n",
              "  <style>\n",
              "    .colab-df-container {\n",
              "      display:flex;\n",
              "      flex-wrap:wrap;\n",
              "      gap: 12px;\n",
              "    }\n",
              "\n",
              "    .colab-df-convert {\n",
              "      background-color: #E8F0FE;\n",
              "      border: none;\n",
              "      border-radius: 50%;\n",
              "      cursor: pointer;\n",
              "      display: none;\n",
              "      fill: #1967D2;\n",
              "      height: 32px;\n",
              "      padding: 0 0 0 0;\n",
              "      width: 32px;\n",
              "    }\n",
              "\n",
              "    .colab-df-convert:hover {\n",
              "      background-color: #E2EBFA;\n",
              "      box-shadow: 0px 1px 2px rgba(60, 64, 67, 0.3), 0px 1px 3px 1px rgba(60, 64, 67, 0.15);\n",
              "      fill: #174EA6;\n",
              "    }\n",
              "\n",
              "    [theme=dark] .colab-df-convert {\n",
              "      background-color: #3B4455;\n",
              "      fill: #D2E3FC;\n",
              "    }\n",
              "\n",
              "    [theme=dark] .colab-df-convert:hover {\n",
              "      background-color: #434B5C;\n",
              "      box-shadow: 0px 1px 3px 1px rgba(0, 0, 0, 0.15);\n",
              "      filter: drop-shadow(0px 1px 2px rgba(0, 0, 0, 0.3));\n",
              "      fill: #FFFFFF;\n",
              "    }\n",
              "  </style>\n",
              "\n",
              "      <script>\n",
              "        const buttonEl =\n",
              "          document.querySelector('#df-80f88bb9-f214-48a2-a553-6b9e0fadd05b button.colab-df-convert');\n",
              "        buttonEl.style.display =\n",
              "          google.colab.kernel.accessAllowed ? 'block' : 'none';\n",
              "\n",
              "        async function convertToInteractive(key) {\n",
              "          const element = document.querySelector('#df-80f88bb9-f214-48a2-a553-6b9e0fadd05b');\n",
              "          const dataTable =\n",
              "            await google.colab.kernel.invokeFunction('convertToInteractive',\n",
              "                                                     [key], {});\n",
              "          if (!dataTable) return;\n",
              "\n",
              "          const docLinkHtml = 'Like what you see? Visit the ' +\n",
              "            '<a target=\"_blank\" href=https://colab.research.google.com/notebooks/data_table.ipynb>data table notebook</a>'\n",
              "            + ' to learn more about interactive tables.';\n",
              "          element.innerHTML = '';\n",
              "          dataTable['output_type'] = 'display_data';\n",
              "          await google.colab.output.renderOutput(dataTable, element);\n",
              "          const docLink = document.createElement('div');\n",
              "          docLink.innerHTML = docLinkHtml;\n",
              "          element.appendChild(docLink);\n",
              "        }\n",
              "      </script>\n",
              "    </div>\n",
              "  </div>\n",
              "  "
            ]
          },
          "metadata": {},
          "execution_count": 205
        }
      ]
    },
    {
      "cell_type": "markdown",
      "source": [
        "### Company Size"
      ],
      "metadata": {
        "id": "zeN1KfXu23oC"
      }
    },
    {
      "cell_type": "code",
      "source": [
        "df['CompanySize'].unique"
      ],
      "metadata": {
        "colab": {
          "base_uri": "https://localhost:8080/"
        },
        "id": "2ms922Xf2w3G",
        "outputId": "ae2fea48-0377-4acd-e3d3-ca7f1bc78a59"
      },
      "execution_count": 206,
      "outputs": [
        {
          "output_type": "execute_result",
          "data": {
            "text/plain": [
              "<bound method Series.unique of 0         51-100\n",
              "1       101-1000\n",
              "2         51-100\n",
              "3       101-1000\n",
              "4          11-50\n",
              "          ...   \n",
              "1081      51-100\n",
              "1082       1000+\n",
              "1083    101-1000\n",
              "1084    101-1000\n",
              "1085      51-100\n",
              "Name: CompanySize, Length: 1086, dtype: object>"
            ]
          },
          "metadata": {},
          "execution_count": 206
        }
      ]
    },
    {
      "cell_type": "code",
      "source": [
        "df['CompanySize'] = encoder.fit_transform(df['CompanySize'], df['BrutSalary'])"
      ],
      "metadata": {
        "id": "Duf7ZUC_3BoV"
      },
      "execution_count": 207,
      "outputs": []
    },
    {
      "cell_type": "code",
      "source": [
        "df.dtypes"
      ],
      "metadata": {
        "colab": {
          "base_uri": "https://localhost:8080/"
        },
        "id": "lZ-V98DQ3FNM",
        "outputId": "fa0db5a8-8d74-4e98-d8c8-4ba52ef8762c"
      },
      "execution_count": 208,
      "outputs": [
        {
          "output_type": "execute_result",
          "data": {
            "text/plain": [
              "Age                            float64\n",
              "Position                       float64\n",
              "TotalYearsExperience           float64\n",
              "YearsExperienceGermany         float64\n",
              "MainSkill                      float64\n",
              "SecondarySkills                float64\n",
              "BrutSalary                     float64\n",
              "BrutSalaryAndStocks            float64\n",
              "AnnualBrutLastYear             float64\n",
              "AnnualBrutAndStocksLastYear    float64\n",
              "VacationDays                   float64\n",
              "ContractDuration                object\n",
              "CompanySize                    float64\n",
              "CompanyType                    float64\n",
              "LossOfJobCorona                 object\n",
              "HoursIfShorterWeek             float64\n",
              "AdditionalMonetarySupport      float64\n",
              "SeniorityLevel                   int64\n",
              "EmploymentType                   int64\n",
              "Female                           int64\n",
              "Male                             int64\n",
              "Type_Temporary contract          uint8\n",
              "Type_Unlimited contract          uint8\n",
              "LossOfJobCorona_No               uint8\n",
              "LossOfJobCorona_Yes              uint8\n",
              "dtype: object"
            ]
          },
          "metadata": {},
          "execution_count": 208
        }
      ]
    },
    {
      "cell_type": "code",
      "source": [
        "df = df.drop(['ContractDuration', 'LossOfJobCorona'], axis=1)"
      ],
      "metadata": {
        "id": "2gBajhmK3Lfe"
      },
      "execution_count": 209,
      "outputs": []
    },
    {
      "cell_type": "code",
      "source": [
        "df[df.isin([np.Inf]).any(axis=1)]"
      ],
      "metadata": {
        "colab": {
          "base_uri": "https://localhost:8080/",
          "height": 348
        },
        "id": "XW0EUtNt8kp1",
        "outputId": "4b023b2c-f166-4447-a46f-ee1dee167219"
      },
      "execution_count": 210,
      "outputs": [
        {
          "output_type": "execute_result",
          "data": {
            "text/plain": [
              "            Age      Position  TotalYearsExperience  YearsExperienceGermany  \\\n",
              "336   31.000000  71777.000000                  11.0                     1.0   \n",
              "677   39.000000  71777.000000                  19.0                     7.0   \n",
              "799   38.000000  71777.000000                  12.0                     6.0   \n",
              "834   31.000000  69636.731123                  10.0                     2.0   \n",
              "845   32.568935  66232.417582                   4.0                     4.0   \n",
              "1082  33.000000  69636.731123                  10.0                     1.5   \n",
              "\n",
              "         MainSkill  SecondarySkills  BrutSalary  BrutSalaryAndStocks  \\\n",
              "336   67670.905109     68772.489878     75000.0               5000.0   \n",
              "677   80819.861250     69636.731123     87000.0              97000.0   \n",
              "799   70612.933333     76197.651996     92000.0              40000.0   \n",
              "834   67670.905109     65895.882353     80000.0                  0.0   \n",
              "845   66380.952388     78079.651734    105000.0                  0.0   \n",
              "1082  69636.731123     65895.882353     60000.0               3000.0   \n",
              "\n",
              "      AnnualBrutLastYear  AnnualBrutAndStocksLastYear  ...  \\\n",
              "336              65000.0                       5000.0  ...   \n",
              "677              82000.0                      92000.0  ...   \n",
              "799              85000.0                      30000.0  ...   \n",
              "834              78000.0                       5000.0  ...   \n",
              "845              85000.0                          0.0  ...   \n",
              "1082             48000.0                       2500.0  ...   \n",
              "\n",
              "      HoursIfShorterWeek  AdditionalMonetarySupport  SeniorityLevel  \\\n",
              "336            13.566568                      250.0               2   \n",
              "677            40.000000                      500.0               3   \n",
              "799            13.566568                      250.0               3   \n",
              "834            13.566568                      250.0               2   \n",
              "845            13.566568                      250.0               2   \n",
              "1082           13.566568                        0.0               3   \n",
              "\n",
              "      EmploymentType  Female  Male  Type_Temporary contract  \\\n",
              "336                4       0     1                        0   \n",
              "677                4       0     1                        0   \n",
              "799                4       0     1                        0   \n",
              "834                4       0     1                        0   \n",
              "845                4       0     1                        0   \n",
              "1082               4       0     1                        0   \n",
              "\n",
              "      Type_Unlimited contract  LossOfJobCorona_No  LossOfJobCorona_Yes  \n",
              "336                         1                   1                    0  \n",
              "677                         1                   1                    0  \n",
              "799                         1                   1                    0  \n",
              "834                         1                   1                    0  \n",
              "845                         1                   1                    0  \n",
              "1082                        1                   1                    0  \n",
              "\n",
              "[6 rows x 23 columns]"
            ],
            "text/html": [
              "\n",
              "  <div id=\"df-27631f86-8e59-4b25-8941-125825a8e7b0\">\n",
              "    <div class=\"colab-df-container\">\n",
              "      <div>\n",
              "<style scoped>\n",
              "    .dataframe tbody tr th:only-of-type {\n",
              "        vertical-align: middle;\n",
              "    }\n",
              "\n",
              "    .dataframe tbody tr th {\n",
              "        vertical-align: top;\n",
              "    }\n",
              "\n",
              "    .dataframe thead th {\n",
              "        text-align: right;\n",
              "    }\n",
              "</style>\n",
              "<table border=\"1\" class=\"dataframe\">\n",
              "  <thead>\n",
              "    <tr style=\"text-align: right;\">\n",
              "      <th></th>\n",
              "      <th>Age</th>\n",
              "      <th>Position</th>\n",
              "      <th>TotalYearsExperience</th>\n",
              "      <th>YearsExperienceGermany</th>\n",
              "      <th>MainSkill</th>\n",
              "      <th>SecondarySkills</th>\n",
              "      <th>BrutSalary</th>\n",
              "      <th>BrutSalaryAndStocks</th>\n",
              "      <th>AnnualBrutLastYear</th>\n",
              "      <th>AnnualBrutAndStocksLastYear</th>\n",
              "      <th>...</th>\n",
              "      <th>HoursIfShorterWeek</th>\n",
              "      <th>AdditionalMonetarySupport</th>\n",
              "      <th>SeniorityLevel</th>\n",
              "      <th>EmploymentType</th>\n",
              "      <th>Female</th>\n",
              "      <th>Male</th>\n",
              "      <th>Type_Temporary contract</th>\n",
              "      <th>Type_Unlimited contract</th>\n",
              "      <th>LossOfJobCorona_No</th>\n",
              "      <th>LossOfJobCorona_Yes</th>\n",
              "    </tr>\n",
              "  </thead>\n",
              "  <tbody>\n",
              "    <tr>\n",
              "      <th>336</th>\n",
              "      <td>31.000000</td>\n",
              "      <td>71777.000000</td>\n",
              "      <td>11.0</td>\n",
              "      <td>1.0</td>\n",
              "      <td>67670.905109</td>\n",
              "      <td>68772.489878</td>\n",
              "      <td>75000.0</td>\n",
              "      <td>5000.0</td>\n",
              "      <td>65000.0</td>\n",
              "      <td>5000.0</td>\n",
              "      <td>...</td>\n",
              "      <td>13.566568</td>\n",
              "      <td>250.0</td>\n",
              "      <td>2</td>\n",
              "      <td>4</td>\n",
              "      <td>0</td>\n",
              "      <td>1</td>\n",
              "      <td>0</td>\n",
              "      <td>1</td>\n",
              "      <td>1</td>\n",
              "      <td>0</td>\n",
              "    </tr>\n",
              "    <tr>\n",
              "      <th>677</th>\n",
              "      <td>39.000000</td>\n",
              "      <td>71777.000000</td>\n",
              "      <td>19.0</td>\n",
              "      <td>7.0</td>\n",
              "      <td>80819.861250</td>\n",
              "      <td>69636.731123</td>\n",
              "      <td>87000.0</td>\n",
              "      <td>97000.0</td>\n",
              "      <td>82000.0</td>\n",
              "      <td>92000.0</td>\n",
              "      <td>...</td>\n",
              "      <td>40.000000</td>\n",
              "      <td>500.0</td>\n",
              "      <td>3</td>\n",
              "      <td>4</td>\n",
              "      <td>0</td>\n",
              "      <td>1</td>\n",
              "      <td>0</td>\n",
              "      <td>1</td>\n",
              "      <td>1</td>\n",
              "      <td>0</td>\n",
              "    </tr>\n",
              "    <tr>\n",
              "      <th>799</th>\n",
              "      <td>38.000000</td>\n",
              "      <td>71777.000000</td>\n",
              "      <td>12.0</td>\n",
              "      <td>6.0</td>\n",
              "      <td>70612.933333</td>\n",
              "      <td>76197.651996</td>\n",
              "      <td>92000.0</td>\n",
              "      <td>40000.0</td>\n",
              "      <td>85000.0</td>\n",
              "      <td>30000.0</td>\n",
              "      <td>...</td>\n",
              "      <td>13.566568</td>\n",
              "      <td>250.0</td>\n",
              "      <td>3</td>\n",
              "      <td>4</td>\n",
              "      <td>0</td>\n",
              "      <td>1</td>\n",
              "      <td>0</td>\n",
              "      <td>1</td>\n",
              "      <td>1</td>\n",
              "      <td>0</td>\n",
              "    </tr>\n",
              "    <tr>\n",
              "      <th>834</th>\n",
              "      <td>31.000000</td>\n",
              "      <td>69636.731123</td>\n",
              "      <td>10.0</td>\n",
              "      <td>2.0</td>\n",
              "      <td>67670.905109</td>\n",
              "      <td>65895.882353</td>\n",
              "      <td>80000.0</td>\n",
              "      <td>0.0</td>\n",
              "      <td>78000.0</td>\n",
              "      <td>5000.0</td>\n",
              "      <td>...</td>\n",
              "      <td>13.566568</td>\n",
              "      <td>250.0</td>\n",
              "      <td>2</td>\n",
              "      <td>4</td>\n",
              "      <td>0</td>\n",
              "      <td>1</td>\n",
              "      <td>0</td>\n",
              "      <td>1</td>\n",
              "      <td>1</td>\n",
              "      <td>0</td>\n",
              "    </tr>\n",
              "    <tr>\n",
              "      <th>845</th>\n",
              "      <td>32.568935</td>\n",
              "      <td>66232.417582</td>\n",
              "      <td>4.0</td>\n",
              "      <td>4.0</td>\n",
              "      <td>66380.952388</td>\n",
              "      <td>78079.651734</td>\n",
              "      <td>105000.0</td>\n",
              "      <td>0.0</td>\n",
              "      <td>85000.0</td>\n",
              "      <td>0.0</td>\n",
              "      <td>...</td>\n",
              "      <td>13.566568</td>\n",
              "      <td>250.0</td>\n",
              "      <td>2</td>\n",
              "      <td>4</td>\n",
              "      <td>0</td>\n",
              "      <td>1</td>\n",
              "      <td>0</td>\n",
              "      <td>1</td>\n",
              "      <td>1</td>\n",
              "      <td>0</td>\n",
              "    </tr>\n",
              "    <tr>\n",
              "      <th>1082</th>\n",
              "      <td>33.000000</td>\n",
              "      <td>69636.731123</td>\n",
              "      <td>10.0</td>\n",
              "      <td>1.5</td>\n",
              "      <td>69636.731123</td>\n",
              "      <td>65895.882353</td>\n",
              "      <td>60000.0</td>\n",
              "      <td>3000.0</td>\n",
              "      <td>48000.0</td>\n",
              "      <td>2500.0</td>\n",
              "      <td>...</td>\n",
              "      <td>13.566568</td>\n",
              "      <td>0.0</td>\n",
              "      <td>3</td>\n",
              "      <td>4</td>\n",
              "      <td>0</td>\n",
              "      <td>1</td>\n",
              "      <td>0</td>\n",
              "      <td>1</td>\n",
              "      <td>1</td>\n",
              "      <td>0</td>\n",
              "    </tr>\n",
              "  </tbody>\n",
              "</table>\n",
              "<p>6 rows × 23 columns</p>\n",
              "</div>\n",
              "      <button class=\"colab-df-convert\" onclick=\"convertToInteractive('df-27631f86-8e59-4b25-8941-125825a8e7b0')\"\n",
              "              title=\"Convert this dataframe to an interactive table.\"\n",
              "              style=\"display:none;\">\n",
              "        \n",
              "  <svg xmlns=\"http://www.w3.org/2000/svg\" height=\"24px\"viewBox=\"0 0 24 24\"\n",
              "       width=\"24px\">\n",
              "    <path d=\"M0 0h24v24H0V0z\" fill=\"none\"/>\n",
              "    <path d=\"M18.56 5.44l.94 2.06.94-2.06 2.06-.94-2.06-.94-.94-2.06-.94 2.06-2.06.94zm-11 1L8.5 8.5l.94-2.06 2.06-.94-2.06-.94L8.5 2.5l-.94 2.06-2.06.94zm10 10l.94 2.06.94-2.06 2.06-.94-2.06-.94-.94-2.06-.94 2.06-2.06.94z\"/><path d=\"M17.41 7.96l-1.37-1.37c-.4-.4-.92-.59-1.43-.59-.52 0-1.04.2-1.43.59L10.3 9.45l-7.72 7.72c-.78.78-.78 2.05 0 2.83L4 21.41c.39.39.9.59 1.41.59.51 0 1.02-.2 1.41-.59l7.78-7.78 2.81-2.81c.8-.78.8-2.07 0-2.86zM5.41 20L4 18.59l7.72-7.72 1.47 1.35L5.41 20z\"/>\n",
              "  </svg>\n",
              "      </button>\n",
              "      \n",
              "  <style>\n",
              "    .colab-df-container {\n",
              "      display:flex;\n",
              "      flex-wrap:wrap;\n",
              "      gap: 12px;\n",
              "    }\n",
              "\n",
              "    .colab-df-convert {\n",
              "      background-color: #E8F0FE;\n",
              "      border: none;\n",
              "      border-radius: 50%;\n",
              "      cursor: pointer;\n",
              "      display: none;\n",
              "      fill: #1967D2;\n",
              "      height: 32px;\n",
              "      padding: 0 0 0 0;\n",
              "      width: 32px;\n",
              "    }\n",
              "\n",
              "    .colab-df-convert:hover {\n",
              "      background-color: #E2EBFA;\n",
              "      box-shadow: 0px 1px 2px rgba(60, 64, 67, 0.3), 0px 1px 3px 1px rgba(60, 64, 67, 0.15);\n",
              "      fill: #174EA6;\n",
              "    }\n",
              "\n",
              "    [theme=dark] .colab-df-convert {\n",
              "      background-color: #3B4455;\n",
              "      fill: #D2E3FC;\n",
              "    }\n",
              "\n",
              "    [theme=dark] .colab-df-convert:hover {\n",
              "      background-color: #434B5C;\n",
              "      box-shadow: 0px 1px 3px 1px rgba(0, 0, 0, 0.15);\n",
              "      filter: drop-shadow(0px 1px 2px rgba(0, 0, 0, 0.3));\n",
              "      fill: #FFFFFF;\n",
              "    }\n",
              "  </style>\n",
              "\n",
              "      <script>\n",
              "        const buttonEl =\n",
              "          document.querySelector('#df-27631f86-8e59-4b25-8941-125825a8e7b0 button.colab-df-convert');\n",
              "        buttonEl.style.display =\n",
              "          google.colab.kernel.accessAllowed ? 'block' : 'none';\n",
              "\n",
              "        async function convertToInteractive(key) {\n",
              "          const element = document.querySelector('#df-27631f86-8e59-4b25-8941-125825a8e7b0');\n",
              "          const dataTable =\n",
              "            await google.colab.kernel.invokeFunction('convertToInteractive',\n",
              "                                                     [key], {});\n",
              "          if (!dataTable) return;\n",
              "\n",
              "          const docLinkHtml = 'Like what you see? Visit the ' +\n",
              "            '<a target=\"_blank\" href=https://colab.research.google.com/notebooks/data_table.ipynb>data table notebook</a>'\n",
              "            + ' to learn more about interactive tables.';\n",
              "          element.innerHTML = '';\n",
              "          dataTable['output_type'] = 'display_data';\n",
              "          await google.colab.output.renderOutput(dataTable, element);\n",
              "          const docLink = document.createElement('div');\n",
              "          docLink.innerHTML = docLinkHtml;\n",
              "          element.appendChild(docLink);\n",
              "        }\n",
              "      </script>\n",
              "    </div>\n",
              "  </div>\n",
              "  "
            ]
          },
          "metadata": {},
          "execution_count": 210
        }
      ]
    },
    {
      "cell_type": "code",
      "source": [
        "df = df.drop([df.index[336], df.index[677], df.index[799], df.index[834]\n",
        "         , df.index[845], df.index[1082]])\n",
        "df = df.reset_index(drop=True)\n",
        "df = df.iloc[: , 1:]"
      ],
      "metadata": {
        "id": "am2yOrOe9YN-"
      },
      "execution_count": 211,
      "outputs": []
    },
    {
      "cell_type": "code",
      "source": [
        "ind = df[df.isna().any(axis=1)].index\n",
        "df = df.drop(ind, axis = 0)"
      ],
      "metadata": {
        "id": "Aau4mJZ--M86"
      },
      "execution_count": 212,
      "outputs": []
    },
    {
      "cell_type": "code",
      "source": [
        "df = df.reset_index(drop=True)\n",
        "df = df.iloc[: , 1:]"
      ],
      "metadata": {
        "id": "wj3npUG5-3L_"
      },
      "execution_count": 213,
      "outputs": []
    },
    {
      "cell_type": "code",
      "source": [
        "df.shape"
      ],
      "metadata": {
        "colab": {
          "base_uri": "https://localhost:8080/"
        },
        "id": "6Rpvyd5ZqFgs",
        "outputId": "8c305b29-3b5e-4a7a-8ad9-1784bde8a4aa"
      },
      "execution_count": 214,
      "outputs": [
        {
          "output_type": "execute_result",
          "data": {
            "text/plain": [
              "(1031, 21)"
            ]
          },
          "metadata": {},
          "execution_count": 214
        }
      ]
    },
    {
      "cell_type": "code",
      "source": [
        "men = df[df['Male'] == 1].shape[0]\n",
        "men"
      ],
      "metadata": {
        "colab": {
          "base_uri": "https://localhost:8080/"
        },
        "id": "UrUYxgayphcw",
        "outputId": "016dca89-68ee-4d73-adc3-6f046b364ef8"
      },
      "execution_count": 215,
      "outputs": [
        {
          "output_type": "execute_result",
          "data": {
            "text/plain": [
              "890"
            ]
          },
          "metadata": {},
          "execution_count": 215
        }
      ]
    },
    {
      "cell_type": "code",
      "source": [
        "women = df[df['Female'] == 1].shape[0]\n",
        "women"
      ],
      "metadata": {
        "colab": {
          "base_uri": "https://localhost:8080/"
        },
        "id": "o4zDeU04p1tf",
        "outputId": "ac4cb771-adbf-4cac-fa31-8ff26f606242"
      },
      "execution_count": 216,
      "outputs": [
        {
          "output_type": "execute_result",
          "data": {
            "text/plain": [
              "141"
            ]
          },
          "metadata": {},
          "execution_count": 216
        }
      ]
    },
    {
      "cell_type": "markdown",
      "source": [
        "# MODELS\n",
        "##### We are now trying to predict salary!"
      ],
      "metadata": {
        "id": "R1fXYx_y3r2X"
      }
    },
    {
      "cell_type": "code",
      "source": [
        "correlations = df.corr()\n",
        "sns.heatmap(correlations, cmap = \"Greens\")"
      ],
      "metadata": {
        "colab": {
          "base_uri": "https://localhost:8080/",
          "height": 494
        },
        "id": "do-2HLwt30xz",
        "outputId": "bfcf3dac-2a7d-4d21-8c67-2ba58fa552c7"
      },
      "execution_count": 217,
      "outputs": [
        {
          "output_type": "execute_result",
          "data": {
            "text/plain": [
              "<matplotlib.axes._subplots.AxesSubplot at 0x7f4afb8721d0>"
            ]
          },
          "metadata": {},
          "execution_count": 217
        },
        {
          "output_type": "display_data",
          "data": {
            "text/plain": [
              "<Figure size 576x396 with 2 Axes>"
            ],
            "image/png": "[encoded data removed]"
          },
          "metadata": {}
        }
      ]
    },
    {
      "cell_type": "code",
      "source": [
        "# Selecting target and predictors\n",
        "X = df.drop(['Male', 'Female'], axis = 1).to_numpy()\n",
        "Y = df['Male'].to_numpy()"
      ],
      "metadata": {
        "id": "0YJfgr6l4QbO"
      },
      "execution_count": 218,
      "outputs": []
    },
    {
      "cell_type": "code",
      "source": [
        "plt.scatter(X[:,0],X[:,1],  c= df['Male'], cmap =  'Dark2')\n",
        "plt.title(\"IT Salaries Data, Predictor = Male\")\n",
        "plt.show()"
      ],
      "metadata": {
        "colab": {
          "base_uri": "https://localhost:8080/",
          "height": 362
        },
        "id": "JJMoFiTu38Mj",
        "outputId": "9ae748ca-9c54-447e-a213-826e46e877c3"
      },
      "execution_count": 219,
      "outputs": [
        {
          "output_type": "display_data",
          "data": {
            "text/plain": [
              "<Figure size 576x396 with 1 Axes>"
            ],
            "image/png": "[encoded data removed]"
          },
          "metadata": {}
        }
      ]
    },
    {
      "cell_type": "code",
      "source": [
        "males = df[df['Male'] == 1].shape[0]"
      ],
      "metadata": {
        "id": "rRigchIkGzyd"
      },
      "execution_count": 220,
      "outputs": []
    },
    {
      "cell_type": "code",
      "source": [
        "X = df.drop(['Male', 'Female'], axis = 1)\n",
        "Y = df['Male']"
      ],
      "metadata": {
        "id": "nvZCAnSrJ0vg"
      },
      "execution_count": 221,
      "outputs": []
    },
    {
      "cell_type": "markdown",
      "source": [
        "### Model Comparison"
      ],
      "metadata": {
        "id": "0XkA21pG3vox"
      }
    },
    {
      "cell_type": "code",
      "source": [
        "def model(X, y, n_splits, model, printing):\n",
        "  k_folds = KFold(n_splits = n_splits)\n",
        "  acc_score = []\n",
        "  cm = 0\n",
        "\n",
        "  for train_index , test_index in k_folds.split(X):\n",
        "      X_train , X_test = X.iloc[train_index,:],X.iloc[test_index,:]\n",
        "      y_train , y_test = y[train_index] , y[test_index]\n",
        "\n",
        "      if model == \"knn\":\n",
        "        error = []\n",
        "        fold = 1\n",
        "        for k in range(1,10):\n",
        "          knn = KNeighborsClassifier(n_neighbors = k)\n",
        "          knn.fit(X_train, y_train)\n",
        "          pred_values = knn.predict(X_test)\n",
        "          error.append(np.mean(pred_values != y_test))\n",
        "          \n",
        "        cm = confusion_matrix(y_test, pred_values)\n",
        "        plt.errorbar(y_test, pred_values, yerr=0.8, fmt='.k')\n",
        "        \n",
        "        if printing == 1:\n",
        "          print(\"Minimum error:-\",min(error),\"at K =\",error.index(min(error)))\n",
        "          \n",
        "      elif model == 'lda':\n",
        "        sc = StandardScaler()\n",
        "        X_train = sc.fit_transform(X_train)\n",
        "        X_test = sc.transform(X_test)\n",
        "        lda = LDA(n_components=1)\n",
        "        X_train = lda.fit_transform(X_train, y_train)\n",
        "        X_test = lda.transform(X_test)\n",
        "        \n",
        "        classifier = RandomForestClassifier(max_depth=2, random_state=0)\n",
        "        classifier.fit(X_train, y_train)\n",
        "        pred_values = classifier.predict(X_test)\n",
        "        cm = confusion_matrix(y_test, pred_values)\n",
        "        plt.errorbar(y_test, pred_values, yerr=0.8, fmt='.k');\n",
        "\n",
        "      elif model == 'reg':\n",
        "        sc = StandardScaler()\n",
        "        X_train = sc.fit_transform(X_train)\n",
        "        X_test = sc.transform(X_test)\n",
        "        logreg = LogisticRegression(solver='lbfgs', max_iter=100)\n",
        "        logreg.fit(X_train, y_train)\n",
        "        pred_values = logreg.predict(X_test)\n",
        "        cm = confusion_matrix(y_test, pred_values)\n",
        "        plt.errorbar(y_test, pred_values, yerr=0.8, fmt='.k')\n",
        "\n",
        "\n",
        "\n",
        "      acc = accuracy_score(pred_values , y_test)\n",
        "      acc_score.append(acc)\n",
        "     \n",
        "  avg_acc_score = sum(acc_score)/n_splits\n",
        "\n",
        "  if printing == 1:\n",
        "    report = metrics.classification_report(y_test, pred_values)\n",
        "    print(\"Model:\", model)\n",
        "    print('accuracy of each fold - {}'.format(acc_score))\n",
        "    print('Avg accuracy : {}'.format(avg_acc_score))\n",
        "    print(metrics.classification_report(y_test, pred_values))\n",
        "    return cm, report\n",
        "\n",
        "  else:\n",
        "    report = metrics.classification_report(y_test, pred_values)\n",
        "    return avg_acc_score, report, cm\n"
      ],
      "metadata": {
        "id": "cjLB-yy25IAn"
      },
      "execution_count": 222,
      "outputs": []
    },
    {
      "cell_type": "code",
      "source": [
        "cm, report = model(X, Y, 5, \"knn\", 1)"
      ],
      "metadata": {
        "colab": {
          "base_uri": "https://localhost:8080/",
          "height": 870
        },
        "id": "y5C1anXw726e",
        "outputId": "ae294fdb-c0a9-4948-a5e7-03b34f1f60a1"
      },
      "execution_count": 223,
      "outputs": [
        {
          "output_type": "stream",
          "name": "stdout",
          "text": [
            "Minimum error:- 0.15942028985507245 at K = 6\n",
            "Minimum error:- 0.13592233009708737 at K = 8\n",
            "Minimum error:- 0.15048543689320387 at K = 8\n",
            "Minimum error:- 0.14563106796116504 at K = 2\n",
            "Minimum error:- 0.1407766990291262 at K = 7\n",
            "Model: knn"
          ]
        },
        {
          "output_type": "stream",
          "name": "stderr",
          "text": [
            "/usr/local/lib/python3.7/dist-packages/sklearn/metrics/_classification.py:1318: UndefinedMetricWarning: Precision and F-score are ill-defined and being set to 0.0 in labels with no predicted samples. Use `zero_division` parameter to control this behavior.\n",
            "  _warn_prf(average, modifier, msg_start, len(result))\n",
            "/usr/local/lib/python3.7/dist-packages/sklearn/metrics/_classification.py:1318: UndefinedMetricWarning: Precision and F-score are ill-defined and being set to 0.0 in labels with no predicted samples. Use `zero_division` parameter to control this behavior.\n",
            "  _warn_prf(average, modifier, msg_start, len(result))\n",
            "/usr/local/lib/python3.7/dist-packages/sklearn/metrics/_classification.py:1318: UndefinedMetricWarning: Precision and F-score are ill-defined and being set to 0.0 in labels with no predicted samples. Use `zero_division` parameter to control this behavior.\n",
            "  _warn_prf(average, modifier, msg_start, len(result))\n",
            "/usr/local/lib/python3.7/dist-packages/sklearn/metrics/_classification.py:1318: UndefinedMetricWarning: Precision and F-score are ill-defined and being set to 0.0 in labels with no predicted samples. Use `zero_division` parameter to control this behavior.\n",
            "  _warn_prf(average, modifier, msg_start, len(result))\n",
            "/usr/local/lib/python3.7/dist-packages/sklearn/metrics/_classification.py:1318: UndefinedMetricWarning: Precision and F-score are ill-defined and being set to 0.0 in labels with no predicted samples. Use `zero_division` parameter to control this behavior.\n",
            "  _warn_prf(average, modifier, msg_start, len(result))\n",
            "/usr/local/lib/python3.7/dist-packages/sklearn/metrics/_classification.py:1318: UndefinedMetricWarning: Precision and F-score are ill-defined and being set to 0.0 in labels with no predicted samples. Use `zero_division` parameter to control this behavior.\n",
            "  _warn_prf(average, modifier, msg_start, len(result))\n"
          ]
        },
        {
          "output_type": "stream",
          "name": "stdout",
          "text": [
            "\n",
            "accuracy of each fold - [0.8357487922705314, 0.8640776699029126, 0.8495145631067961, 0.8495145631067961, 0.8592233009708737]\n",
            "Avg accuracy : 0.851615777871582\n",
            "              precision    recall  f1-score   support\n",
            "\n",
            "           0       0.00      0.00      0.00        29\n",
            "           1       0.86      1.00      0.92       177\n",
            "\n",
            "    accuracy                           0.86       206\n",
            "   macro avg       0.43      0.50      0.46       206\n",
            "weighted avg       0.74      0.86      0.79       206\n",
            "\n"
          ]
        },
        {
          "output_type": "display_data",
          "data": {
            "text/plain": [
              "<Figure size 576x396 with 1 Axes>"
            ],
            "image/png": "[encoded data removed]"
          },
          "metadata": {}
        }
      ]
    },
    {
      "cell_type": "code",
      "source": [
        "ax = sns.heatmap(cm/np.sum(cm), annot=True,  cmap=\"Greens\")\n",
        "ax.set_title('Confusion Matrix KNN, Male\\n\\n');\n",
        "ax.set_xlabel('\\nPredicted Values')\n",
        "ax.set_ylabel('Actual Values ');\n",
        "\n",
        "## Ticket labels - List must be in alphabetical order\n",
        "ax.xaxis.set_ticklabels(['False','True'])\n",
        "ax.yaxis.set_ticklabels(['False','True'])\n",
        "\n",
        "## Display the visualization of the Confusion Matrix.\n",
        "plt.show()"
      ],
      "metadata": {
        "colab": {
          "base_uri": "https://localhost:8080/",
          "height": 415
        },
        "id": "lBIxL04OgGYd",
        "outputId": "6396f292-2cc6-4575-d6f1-998f9ea1fddb"
      },
      "execution_count": 224,
      "outputs": [
        {
          "output_type": "display_data",
          "data": {
            "text/plain": [
              "<Figure size 576x396 with 2 Axes>"
            ],
            "image/png": "[encoded data removed]"
          },
          "metadata": {}
        }
      ]
    },
    {
      "cell_type": "code",
      "source": [
        "cmm_lda, rep = model(X, Y, 5, \"lda\", 1)"
      ],
      "metadata": {
        "colab": {
          "base_uri": "https://localhost:8080/",
          "height": 783
        },
        "id": "yDELU7aMB4PY",
        "outputId": "f9196f1d-ce91-42a9-d212-a79a1e7fe01a"
      },
      "execution_count": 225,
      "outputs": [
        {
          "output_type": "stream",
          "name": "stderr",
          "text": [
            "/usr/local/lib/python3.7/dist-packages/sklearn/metrics/_classification.py:1318: UndefinedMetricWarning: Precision and F-score are ill-defined and being set to 0.0 in labels with no predicted samples. Use `zero_division` parameter to control this behavior.\n",
            "  _warn_prf(average, modifier, msg_start, len(result))\n",
            "/usr/local/lib/python3.7/dist-packages/sklearn/metrics/_classification.py:1318: UndefinedMetricWarning: Precision and F-score are ill-defined and being set to 0.0 in labels with no predicted samples. Use `zero_division` parameter to control this behavior.\n",
            "  _warn_prf(average, modifier, msg_start, len(result))\n",
            "/usr/local/lib/python3.7/dist-packages/sklearn/metrics/_classification.py:1318: UndefinedMetricWarning: Precision and F-score are ill-defined and being set to 0.0 in labels with no predicted samples. Use `zero_division` parameter to control this behavior.\n",
            "  _warn_prf(average, modifier, msg_start, len(result))\n",
            "/usr/local/lib/python3.7/dist-packages/sklearn/metrics/_classification.py:1318: UndefinedMetricWarning: Precision and F-score are ill-defined and being set to 0.0 in labels with no predicted samples. Use `zero_division` parameter to control this behavior.\n",
            "  _warn_prf(average, modifier, msg_start, len(result))\n",
            "/usr/local/lib/python3.7/dist-packages/sklearn/metrics/_classification.py:1318: UndefinedMetricWarning: Precision and F-score are ill-defined and being set to 0.0 in labels with no predicted samples. Use `zero_division` parameter to control this behavior.\n",
            "  _warn_prf(average, modifier, msg_start, len(result))\n",
            "/usr/local/lib/python3.7/dist-packages/sklearn/metrics/_classification.py:1318: UndefinedMetricWarning: Precision and F-score are ill-defined and being set to 0.0 in labels with no predicted samples. Use `zero_division` parameter to control this behavior.\n",
            "  _warn_prf(average, modifier, msg_start, len(result))\n"
          ]
        },
        {
          "output_type": "stream",
          "name": "stdout",
          "text": [
            "Model: lda\n",
            "accuracy of each fold - [0.8454106280193237, 0.8737864077669902, 0.8640776699029126, 0.8737864077669902, 0.8592233009708737]\n",
            "Avg accuracy : 0.8632568828854181\n",
            "              precision    recall  f1-score   support\n",
            "\n",
            "           0       0.00      0.00      0.00        29\n",
            "           1       0.86      1.00      0.92       177\n",
            "\n",
            "    accuracy                           0.86       206\n",
            "   macro avg       0.43      0.50      0.46       206\n",
            "weighted avg       0.74      0.86      0.79       206\n",
            "\n"
          ]
        },
        {
          "output_type": "display_data",
          "data": {
            "text/plain": [
              "<Figure size 576x396 with 1 Axes>"
            ],
            "image/png": "[encoded data removed]"
          },
          "metadata": {}
        }
      ]
    },
    {
      "cell_type": "code",
      "source": [
        "ax = sns.heatmap(cmm_lda/np.sum(cmm_lda), annot=True,  cmap=\"Greens\")\n",
        "ax.set_title('Confusion LDA, Male\\n\\n');\n",
        "ax.set_xlabel('\\nPredicted Values')\n",
        "ax.set_ylabel('Actual Values ');\n",
        "\n",
        "## Ticket labels - List must be in alphabetical order\n",
        "ax.xaxis.set_ticklabels(['False','True'])\n",
        "ax.yaxis.set_ticklabels(['False','True'])\n",
        "\n",
        "## Display the visualization of the Confusion Matrix.\n",
        "plt.show()"
      ],
      "metadata": {
        "colab": {
          "base_uri": "https://localhost:8080/",
          "height": 415
        },
        "id": "UxVaL_8pgVeI",
        "outputId": "094973ae-465c-4b9f-e995-1fad11199219"
      },
      "execution_count": 226,
      "outputs": [
        {
          "output_type": "display_data",
          "data": {
            "text/plain": [
              "<Figure size 576x396 with 2 Axes>"
            ],
            "image/png": "[encoded data removed]"
          },
          "metadata": {}
        }
      ]
    },
    {
      "cell_type": "code",
      "source": [
        "cmm_reg, rep = model(X, Y, 5, \"reg\", 1)"
      ],
      "metadata": {
        "colab": {
          "base_uri": "https://localhost:8080/",
          "height": 555
        },
        "id": "-4QZBgVnCt8X",
        "outputId": "0e4b392f-ae4f-4157-a667-47d3eb8a793a"
      },
      "execution_count": 227,
      "outputs": [
        {
          "output_type": "stream",
          "name": "stdout",
          "text": [
            "Model: reg\n",
            "accuracy of each fold - [0.8454106280193237, 0.8592233009708737, 0.8640776699029126, 0.8689320388349514, 0.8446601941747572]\n",
            "Avg accuracy : 0.8564607663805637\n",
            "              precision    recall  f1-score   support\n",
            "\n",
            "           0       0.29      0.07      0.11        29\n",
            "           1       0.86      0.97      0.91       177\n",
            "\n",
            "    accuracy                           0.84       206\n",
            "   macro avg       0.58      0.52      0.51       206\n",
            "weighted avg       0.78      0.84      0.80       206\n",
            "\n"
          ]
        },
        {
          "output_type": "display_data",
          "data": {
            "text/plain": [
              "<Figure size 576x396 with 1 Axes>"
            ],
            "image/png": "[encoded data removed]"
          },
          "metadata": {}
        }
      ]
    },
    {
      "cell_type": "code",
      "source": [
        "ax = sns.heatmap(cmm_reg/np.sum(cmm_reg), annot=True,  cmap=\"Greens\")\n",
        "ax.set_title('Confusion Matrix Logistic Regression, Male\\n\\n');\n",
        "ax.set_xlabel('\\nPredicted Values')\n",
        "ax.set_ylabel('Actual Values ');\n",
        "\n",
        "## Ticket labels - List must be in alphabetical order\n",
        "ax.xaxis.set_ticklabels(['False','True'])\n",
        "ax.yaxis.set_ticklabels(['False','True'])\n",
        "\n",
        "## Display the visualization of the Confusion Matrix.\n",
        "plt.show()"
      ],
      "metadata": {
        "colab": {
          "base_uri": "https://localhost:8080/",
          "height": 415
        },
        "id": "Kuygas_zgfxY",
        "outputId": "5c8702db-0753-474d-aa2c-3d0fa033c09f"
      },
      "execution_count": 228,
      "outputs": [
        {
          "output_type": "display_data",
          "data": {
            "text/plain": [
              "<Figure size 576x396 with 2 Axes>"
            ],
            "image/png": "[encoded data removed]"
          },
          "metadata": {}
        }
      ]
    },
    {
      "cell_type": "markdown",
      "source": [
        "### Leveling the data between men and women"
      ],
      "metadata": {
        "id": "AAPGWxu1EmLw"
      }
    },
    {
      "cell_type": "code",
      "source": [
        "deletion_rate = [100,200,300,400,500]\n",
        "model_name = ['knn','lda', 'cmm']\n",
        "cmms_knn_del = []\n",
        "cmms_lda_del = []\n",
        "cmms_reg_del = []\n",
        "\n",
        "for x in deletion_rate:\n",
        "  ind = df[df['Male'] == 1].sample(x).index\n",
        "  model_df = df.drop(ind, axis = 0)\n",
        "  model_df = model_df.reset_index(drop=True)\n",
        "  model_df = model_df.iloc[: , 1:]\n",
        "  X = model_df.drop(['Male', 'Female'], axis = 1)\n",
        "  y = model_df['Male']\n",
        "\n",
        "  #knn\n",
        "  cmm_knn_del = model(X, y, 5, \"knn\", 1)\n",
        "  cmms_knn_del.append(cmm_knn_del)\n",
        "\n",
        "  #lda\n",
        "  cmm_lda_del = model(X, y, 5, \"lda\", 1)\n",
        "  cmms_lda_del.append(cmm_lda_del)\n",
        "\n",
        "  #reg\n",
        "  cmm_reg_del = model(X, y, 5, \"reg\", 1)\n",
        "  cmms_reg_del.append(cmm_reg_del)\n"
      ],
      "metadata": {
        "colab": {
          "base_uri": "https://localhost:8080/",
          "height": 1000
        },
        "id": "Y6lB1D7qElIL",
        "outputId": "65964579-889e-4e68-d5d2-85d5487f7335"
      },
      "execution_count": 229,
      "outputs": [
        {
          "output_type": "stream",
          "name": "stdout",
          "text": [
            "Minimum error:- 0.1925133689839572 at K = 6\n",
            "Minimum error:- 0.15591397849462366 at K = 4\n",
            "Minimum error:- 0.1989247311827957 at K = 6\n",
            "Minimum error:- 0.16129032258064516 at K = 4\n",
            "Minimum error:- 0.15591397849462366 at K = 6\n",
            "Model: knn\n",
            "accuracy of each fold - [0.8021390374331551, 0.8387096774193549, 0.7956989247311828, 0.8333333333333334, 0.8440860215053764]\n",
            "Avg accuracy : 0.8227933988844806\n",
            "              precision    recall  f1-score   support\n",
            "\n",
            "           0       0.00      0.00      0.00        29\n",
            "           1       0.84      1.00      0.92       157\n",
            "\n",
            "    accuracy                           0.84       186\n",
            "   macro avg       0.42      0.50      0.46       186\n",
            "weighted avg       0.71      0.84      0.77       186\n",
            "\n"
          ]
        },
        {
          "output_type": "stream",
          "name": "stderr",
          "text": [
            "/usr/local/lib/python3.7/dist-packages/sklearn/metrics/_classification.py:1318: UndefinedMetricWarning: Precision and F-score are ill-defined and being set to 0.0 in labels with no predicted samples. Use `zero_division` parameter to control this behavior.\n",
            "  _warn_prf(average, modifier, msg_start, len(result))\n",
            "/usr/local/lib/python3.7/dist-packages/sklearn/metrics/_classification.py:1318: UndefinedMetricWarning: Precision and F-score are ill-defined and being set to 0.0 in labels with no predicted samples. Use `zero_division` parameter to control this behavior.\n",
            "  _warn_prf(average, modifier, msg_start, len(result))\n",
            "/usr/local/lib/python3.7/dist-packages/sklearn/metrics/_classification.py:1318: UndefinedMetricWarning: Precision and F-score are ill-defined and being set to 0.0 in labels with no predicted samples. Use `zero_division` parameter to control this behavior.\n",
            "  _warn_prf(average, modifier, msg_start, len(result))\n",
            "/usr/local/lib/python3.7/dist-packages/sklearn/metrics/_classification.py:1318: UndefinedMetricWarning: Precision and F-score are ill-defined and being set to 0.0 in labels with no predicted samples. Use `zero_division` parameter to control this behavior.\n",
            "  _warn_prf(average, modifier, msg_start, len(result))\n",
            "/usr/local/lib/python3.7/dist-packages/sklearn/metrics/_classification.py:1318: UndefinedMetricWarning: Precision and F-score are ill-defined and being set to 0.0 in labels with no predicted samples. Use `zero_division` parameter to control this behavior.\n",
            "  _warn_prf(average, modifier, msg_start, len(result))\n",
            "/usr/local/lib/python3.7/dist-packages/sklearn/metrics/_classification.py:1318: UndefinedMetricWarning: Precision and F-score are ill-defined and being set to 0.0 in labels with no predicted samples. Use `zero_division` parameter to control this behavior.\n",
            "  _warn_prf(average, modifier, msg_start, len(result))\n",
            "/usr/local/lib/python3.7/dist-packages/sklearn/metrics/_classification.py:1318: UndefinedMetricWarning: Precision and F-score are ill-defined and being set to 0.0 in labels with no predicted samples. Use `zero_division` parameter to control this behavior.\n",
            "  _warn_prf(average, modifier, msg_start, len(result))\n",
            "/usr/local/lib/python3.7/dist-packages/sklearn/metrics/_classification.py:1318: UndefinedMetricWarning: Precision and F-score are ill-defined and being set to 0.0 in labels with no predicted samples. Use `zero_division` parameter to control this behavior.\n",
            "  _warn_prf(average, modifier, msg_start, len(result))\n",
            "/usr/local/lib/python3.7/dist-packages/sklearn/metrics/_classification.py:1318: UndefinedMetricWarning: Precision and F-score are ill-defined and being set to 0.0 in labels with no predicted samples. Use `zero_division` parameter to control this behavior.\n",
            "  _warn_prf(average, modifier, msg_start, len(result))\n",
            "/usr/local/lib/python3.7/dist-packages/sklearn/metrics/_classification.py:1318: UndefinedMetricWarning: Precision and F-score are ill-defined and being set to 0.0 in labels with no predicted samples. Use `zero_division` parameter to control this behavior.\n",
            "  _warn_prf(average, modifier, msg_start, len(result))\n",
            "/usr/local/lib/python3.7/dist-packages/sklearn/metrics/_classification.py:1318: UndefinedMetricWarning: Precision and F-score are ill-defined and being set to 0.0 in labels with no predicted samples. Use `zero_division` parameter to control this behavior.\n",
            "  _warn_prf(average, modifier, msg_start, len(result))\n",
            "/usr/local/lib/python3.7/dist-packages/sklearn/metrics/_classification.py:1318: UndefinedMetricWarning: Precision and F-score are ill-defined and being set to 0.0 in labels with no predicted samples. Use `zero_division` parameter to control this behavior.\n",
            "  _warn_prf(average, modifier, msg_start, len(result))\n"
          ]
        },
        {
          "output_type": "stream",
          "name": "stdout",
          "text": [
            "Model: lda\n",
            "accuracy of each fold - [0.8128342245989305, 0.8655913978494624, 0.8387096774193549, 0.8709677419354839, 0.8440860215053764]\n",
            "Avg accuracy : 0.8464378126617216\n",
            "              precision    recall  f1-score   support\n",
            "\n",
            "           0       0.00      0.00      0.00        29\n",
            "           1       0.84      1.00      0.92       157\n",
            "\n",
            "    accuracy                           0.84       186\n",
            "   macro avg       0.42      0.50      0.46       186\n",
            "weighted avg       0.71      0.84      0.77       186\n",
            "\n",
            "Model: reg\n",
            "accuracy of each fold - [0.8288770053475936, 0.8494623655913979, 0.8387096774193549, 0.8548387096774194, 0.8279569892473119]\n",
            "Avg accuracy : 0.8399689494566156\n",
            "              precision    recall  f1-score   support\n",
            "\n",
            "           0       0.33      0.10      0.16        29\n",
            "           1       0.85      0.96      0.90       157\n",
            "\n",
            "    accuracy                           0.83       186\n",
            "   macro avg       0.59      0.53      0.53       186\n",
            "weighted avg       0.77      0.83      0.79       186\n",
            "\n",
            "Minimum error:- 0.20359281437125748 at K = 6\n",
            "Minimum error:- 0.18072289156626506 at K = 4\n",
            "Minimum error:- 0.19879518072289157 at K = 8\n",
            "Minimum error:- 0.1927710843373494 at K = 4\n",
            "Minimum error:- 0.1686746987951807 at K = 8\n",
            "Model: knn\n",
            "accuracy of each fold - [0.7784431137724551, 0.8072289156626506, 0.8012048192771084, 0.8012048192771084, 0.8313253012048193]\n",
            "Avg accuracy : 0.8038813938388284\n",
            "              precision    recall  f1-score   support\n",
            "\n",
            "           0       1.00      0.03      0.07        29\n",
            "           1       0.83      1.00      0.91       137\n",
            "\n",
            "    accuracy                           0.83       166\n",
            "   macro avg       0.92      0.52      0.49       166\n",
            "weighted avg       0.86      0.83      0.76       166\n",
            "\n"
          ]
        },
        {
          "output_type": "stream",
          "name": "stderr",
          "text": [
            "/usr/local/lib/python3.7/dist-packages/sklearn/metrics/_classification.py:1318: UndefinedMetricWarning: Precision and F-score are ill-defined and being set to 0.0 in labels with no predicted samples. Use `zero_division` parameter to control this behavior.\n",
            "  _warn_prf(average, modifier, msg_start, len(result))\n",
            "/usr/local/lib/python3.7/dist-packages/sklearn/metrics/_classification.py:1318: UndefinedMetricWarning: Precision and F-score are ill-defined and being set to 0.0 in labels with no predicted samples. Use `zero_division` parameter to control this behavior.\n",
            "  _warn_prf(average, modifier, msg_start, len(result))\n",
            "/usr/local/lib/python3.7/dist-packages/sklearn/metrics/_classification.py:1318: UndefinedMetricWarning: Precision and F-score are ill-defined and being set to 0.0 in labels with no predicted samples. Use `zero_division` parameter to control this behavior.\n",
            "  _warn_prf(average, modifier, msg_start, len(result))\n",
            "/usr/local/lib/python3.7/dist-packages/sklearn/metrics/_classification.py:1318: UndefinedMetricWarning: Precision and F-score are ill-defined and being set to 0.0 in labels with no predicted samples. Use `zero_division` parameter to control this behavior.\n",
            "  _warn_prf(average, modifier, msg_start, len(result))\n",
            "/usr/local/lib/python3.7/dist-packages/sklearn/metrics/_classification.py:1318: UndefinedMetricWarning: Precision and F-score are ill-defined and being set to 0.0 in labels with no predicted samples. Use `zero_division` parameter to control this behavior.\n",
            "  _warn_prf(average, modifier, msg_start, len(result))\n",
            "/usr/local/lib/python3.7/dist-packages/sklearn/metrics/_classification.py:1318: UndefinedMetricWarning: Precision and F-score are ill-defined and being set to 0.0 in labels with no predicted samples. Use `zero_division` parameter to control this behavior.\n",
            "  _warn_prf(average, modifier, msg_start, len(result))\n"
          ]
        },
        {
          "output_type": "stream",
          "name": "stdout",
          "text": [
            "Model: lda\n",
            "accuracy of each fold - [0.8083832335329342, 0.8313253012048193, 0.8253012048192772, 0.8433734939759037, 0.8253012048192772]\n",
            "Avg accuracy : 0.8267368876704424\n",
            "              precision    recall  f1-score   support\n",
            "\n",
            "           0       0.00      0.00      0.00        29\n",
            "           1       0.83      1.00      0.90       137\n",
            "\n",
            "    accuracy                           0.83       166\n",
            "   macro avg       0.41      0.50      0.45       166\n",
            "weighted avg       0.68      0.83      0.75       166\n",
            "\n",
            "Model: reg\n",
            "accuracy of each fold - [0.8203592814371258, 0.8192771084337349, 0.8192771084337349, 0.8313253012048193, 0.8192771084337349]\n",
            "Avg accuracy : 0.82190318158863\n",
            "              precision    recall  f1-score   support\n",
            "\n",
            "           0       0.43      0.10      0.17        29\n",
            "           1       0.84      0.97      0.90       137\n",
            "\n",
            "    accuracy                           0.82       166\n",
            "   macro avg       0.63      0.54      0.53       166\n",
            "weighted avg       0.77      0.82      0.77       166\n",
            "\n",
            "Minimum error:- 0.21768707482993196 at K = 4\n",
            "Minimum error:- 0.21232876712328766 at K = 4\n",
            "Minimum error:- 0.2465753424657534 at K = 6\n",
            "Minimum error:- 0.2054794520547945 at K = 2\n",
            "Minimum error:- 0.18493150684931506 at K = 8\n",
            "Model: knn\n",
            "accuracy of each fold - [0.7619047619047619, 0.7671232876712328, 0.7397260273972602, 0.7808219178082192, 0.815068493150685]\n",
            "Avg accuracy : 0.7729288975864318\n",
            "              precision    recall  f1-score   support\n",
            "\n",
            "           0       1.00      0.07      0.13        29\n",
            "           1       0.81      1.00      0.90       117\n",
            "\n",
            "    accuracy                           0.82       146\n",
            "   macro avg       0.91      0.53      0.51       146\n",
            "weighted avg       0.85      0.82      0.74       146\n",
            "\n",
            "Model: lda\n",
            "accuracy of each fold - [0.7755102040816326, 0.7945205479452054, 0.7808219178082192, 0.8424657534246576, 0.7876712328767124]\n",
            "Avg accuracy : 0.7961979312272854\n",
            "              precision    recall  f1-score   support\n",
            "\n",
            "           0       0.25      0.03      0.06        29\n",
            "           1       0.80      0.97      0.88       117\n",
            "\n",
            "    accuracy                           0.79       146\n",
            "   macro avg       0.53      0.50      0.47       146\n",
            "weighted avg       0.69      0.79      0.72       146\n",
            "\n",
            "Model: reg\n",
            "accuracy of each fold - [0.7891156462585034, 0.8013698630136986, 0.7602739726027398, 0.8287671232876712, 0.7945205479452054]\n",
            "Avg accuracy : 0.7948094306215637\n",
            "              precision    recall  f1-score   support\n",
            "\n",
            "           0       0.44      0.14      0.21        29\n",
            "           1       0.82      0.96      0.88       117\n",
            "\n",
            "    accuracy                           0.79       146\n",
            "   macro avg       0.63      0.55      0.55       146\n",
            "weighted avg       0.74      0.79      0.75       146\n",
            "\n",
            "Minimum error:- 0.2283464566929134 at K = 4\n",
            "Minimum error:- 0.24603174603174602 at K = 6\n",
            "Minimum error:- 0.2857142857142857 at K = 6\n",
            "Minimum error:- 0.23809523809523808 at K = 6\n",
            "Minimum error:- 0.18253968253968253 at K = 6\n",
            "Model: knn\n",
            "accuracy of each fold - [0.7480314960629921, 0.753968253968254, 0.7142857142857143, 0.746031746031746, 0.8095238095238095]\n",
            "Avg accuracy : 0.7543682039745032\n",
            "              precision    recall  f1-score   support\n",
            "\n",
            "           0       0.64      0.26      0.37        27\n",
            "           1       0.83      0.96      0.89        99\n",
            "\n",
            "    accuracy                           0.81       126\n",
            "   macro avg       0.73      0.61      0.63       126\n",
            "weighted avg       0.79      0.81      0.78       126\n",
            "\n"
          ]
        },
        {
          "output_type": "stream",
          "name": "stderr",
          "text": [
            "/usr/local/lib/python3.7/dist-packages/sklearn/metrics/_classification.py:1318: UndefinedMetricWarning: Precision and F-score are ill-defined and being set to 0.0 in labels with no predicted samples. Use `zero_division` parameter to control this behavior.\n",
            "  _warn_prf(average, modifier, msg_start, len(result))\n",
            "/usr/local/lib/python3.7/dist-packages/sklearn/metrics/_classification.py:1318: UndefinedMetricWarning: Precision and F-score are ill-defined and being set to 0.0 in labels with no predicted samples. Use `zero_division` parameter to control this behavior.\n",
            "  _warn_prf(average, modifier, msg_start, len(result))\n",
            "/usr/local/lib/python3.7/dist-packages/sklearn/metrics/_classification.py:1318: UndefinedMetricWarning: Precision and F-score are ill-defined and being set to 0.0 in labels with no predicted samples. Use `zero_division` parameter to control this behavior.\n",
            "  _warn_prf(average, modifier, msg_start, len(result))\n",
            "/usr/local/lib/python3.7/dist-packages/sklearn/metrics/_classification.py:1318: UndefinedMetricWarning: Precision and F-score are ill-defined and being set to 0.0 in labels with no predicted samples. Use `zero_division` parameter to control this behavior.\n",
            "  _warn_prf(average, modifier, msg_start, len(result))\n",
            "/usr/local/lib/python3.7/dist-packages/sklearn/metrics/_classification.py:1318: UndefinedMetricWarning: Precision and F-score are ill-defined and being set to 0.0 in labels with no predicted samples. Use `zero_division` parameter to control this behavior.\n",
            "  _warn_prf(average, modifier, msg_start, len(result))\n",
            "/usr/local/lib/python3.7/dist-packages/sklearn/metrics/_classification.py:1318: UndefinedMetricWarning: Precision and F-score are ill-defined and being set to 0.0 in labels with no predicted samples. Use `zero_division` parameter to control this behavior.\n",
            "  _warn_prf(average, modifier, msg_start, len(result))\n"
          ]
        },
        {
          "output_type": "stream",
          "name": "stdout",
          "text": [
            "Model: lda\n",
            "accuracy of each fold - [0.7637795275590551, 0.7777777777777778, 0.746031746031746, 0.7936507936507936, 0.7857142857142857]\n",
            "Avg accuracy : 0.7733908261467316\n",
            "              precision    recall  f1-score   support\n",
            "\n",
            "           0       0.00      0.00      0.00        27\n",
            "           1       0.79      1.00      0.88        99\n",
            "\n",
            "    accuracy                           0.79       126\n",
            "   macro avg       0.39      0.50      0.44       126\n",
            "weighted avg       0.62      0.79      0.69       126\n",
            "\n",
            "Model: reg\n",
            "accuracy of each fold - [0.7716535433070866, 0.7698412698412699, 0.7142857142857143, 0.7936507936507936, 0.7777777777777778]\n",
            "Avg accuracy : 0.7654418197725283\n",
            "              precision    recall  f1-score   support\n",
            "\n",
            "           0       0.43      0.11      0.18        27\n",
            "           1       0.80      0.96      0.87        99\n",
            "\n",
            "    accuracy                           0.78       126\n",
            "   macro avg       0.61      0.54      0.52       126\n",
            "weighted avg       0.72      0.78      0.72       126\n",
            "\n",
            "Minimum error:- 0.21495327102803738 at K = 4\n",
            "Minimum error:- 0.3018867924528302 at K = 5\n",
            "Minimum error:- 0.3490566037735849 at K = 2\n",
            "Minimum error:- 0.3113207547169811 at K = 6\n",
            "Minimum error:- 0.24528301886792453 at K = 7\n",
            "Model: knn\n",
            "accuracy of each fold - [0.7476635514018691, 0.6981132075471698, 0.6509433962264151, 0.660377358490566, 0.7358490566037735]\n",
            "Avg accuracy : 0.6985893140539587\n",
            "              precision    recall  f1-score   support\n",
            "\n",
            "           0       0.60      0.20      0.30        30\n",
            "           1       0.75      0.95      0.84        76\n",
            "\n",
            "    accuracy                           0.74       106\n",
            "   macro avg       0.68      0.57      0.57       106\n",
            "weighted avg       0.71      0.74      0.69       106\n",
            "\n",
            "Model: lda\n",
            "accuracy of each fold - [0.7383177570093458, 0.6886792452830188, 0.7075471698113207, 0.7264150943396226, 0.7264150943396226]\n",
            "Avg accuracy : 0.717474872156586\n",
            "              precision    recall  f1-score   support\n",
            "\n",
            "           0       0.53      0.30      0.38        30\n",
            "           1       0.76      0.89      0.82        76\n",
            "\n",
            "    accuracy                           0.73       106\n",
            "   macro avg       0.65      0.60      0.60       106\n",
            "weighted avg       0.70      0.73      0.70       106\n",
            "\n",
            "Model: reg\n",
            "accuracy of each fold - [0.7102803738317757, 0.7169811320754716, 0.7075471698113207, 0.7358490566037735, 0.6886792452830188]\n",
            "Avg accuracy : 0.711867395521072\n",
            "              precision    recall  f1-score   support\n",
            "\n",
            "           0       0.38      0.17      0.23        30\n",
            "           1       0.73      0.89      0.80        76\n",
            "\n",
            "    accuracy                           0.69       106\n",
            "   macro avg       0.56      0.53      0.52       106\n",
            "weighted avg       0.63      0.69      0.64       106\n",
            "\n"
          ]
        },
        {
          "output_type": "display_data",
          "data": {
            "text/plain": [
              "<Figure size 576x396 with 1 Axes>"
            ],
            "image/png": "[encoded data removed]"
          },
          "metadata": {}
        }
      ]
    },
    {
      "cell_type": "code",
      "source": [
        "att_acc = pd.DataFrame({'Accuracy' : accuracies_knn,\n",
        "                        'LDA' : accuracies_lda,\n",
        "                        'REG' : accuracies_reg})\n",
        "\n",
        "att_acc = att_acc.T\n",
        "att_acc.columns = attributes"
      ],
      "metadata": {
        "id": "-KA0IEd5kCPR"
      },
      "execution_count": 230,
      "outputs": []
    },
    {
      "cell_type": "markdown",
      "source": [
        "# ATTRIBUTES"
      ],
      "metadata": {
        "id": "hge-hgPnStOS"
      }
    },
    {
      "cell_type": "code",
      "source": [
        "# Keeping the dataset with the best gender distribution\n",
        "ind = df[df['Male'] == 1].sample(500).index\n",
        "model_df = df.drop(ind, axis = 0)\n",
        "model_df = model_df.reset_index(drop=True)\n",
        "model_df = model_df.iloc[: , 1:]\n",
        "X = model_df.drop(['Male', 'Female'], axis = 1)\n",
        "y = model_df['Male']\n",
        "print(\"For deletion rate\", 500/males)\n",
        "cm_knn_del, rep_knn_model = model(X, y, 5, \"knn\", 1)\n",
        "cm_lda_del, rep_lda_model = model(X, y, 5, \"lda\", 1)\n",
        "cm_reg_del,rep_reg_model = model(X, y, 5, \"reg\", 1)"
      ],
      "metadata": {
        "colab": {
          "base_uri": "https://localhost:8080/",
          "height": 1000
        },
        "id": "7zb261Z1Tair",
        "outputId": "b0625680-ce2e-4347-dff7-d89927d9a6f4"
      },
      "execution_count": 231,
      "outputs": [
        {
          "output_type": "stream",
          "name": "stdout",
          "text": [
            "For deletion rate 0.5617977528089888\n",
            "Minimum error:- 0.27102803738317754 at K = 6\n",
            "Minimum error:- 0.27358490566037735 at K = 7\n",
            "Minimum error:- 0.330188679245283 at K = 6\n",
            "Minimum error:- 0.29245283018867924 at K = 5\n",
            "Minimum error:- 0.19811320754716982 at K = 8\n",
            "Model: knn\n",
            "accuracy of each fold - [0.6915887850467289, 0.7264150943396226, 0.6698113207547169, 0.660377358490566, 0.8018867924528302]\n",
            "Avg accuracy : 0.7100158702168928\n",
            "              precision    recall  f1-score   support\n",
            "\n",
            "           0       0.65      0.48      0.55        27\n",
            "           1       0.84      0.91      0.87        79\n",
            "\n",
            "    accuracy                           0.80       106\n",
            "   macro avg       0.74      0.70      0.71       106\n",
            "weighted avg       0.79      0.80      0.79       106\n",
            "\n",
            "Model: lda\n",
            "accuracy of each fold - [0.7009345794392523, 0.7169811320754716, 0.7169811320754716, 0.7452830188679245, 0.6981132075471698]\n",
            "Avg accuracy : 0.715658614001058\n",
            "              precision    recall  f1-score   support\n",
            "\n",
            "           0       0.27      0.11      0.16        27\n",
            "           1       0.75      0.90      0.82        79\n",
            "\n",
            "    accuracy                           0.70       106\n",
            "   macro avg       0.51      0.50      0.49       106\n",
            "weighted avg       0.63      0.70      0.65       106\n",
            "\n",
            "Model: reg\n",
            "accuracy of each fold - [0.719626168224299, 0.7075471698113207, 0.7169811320754716, 0.7264150943396226, 0.7169811320754716]\n",
            "Avg accuracy : 0.7175101393052371\n",
            "              precision    recall  f1-score   support\n",
            "\n",
            "           0       0.38      0.19      0.25        27\n",
            "           1       0.76      0.90      0.83        79\n",
            "\n",
            "    accuracy                           0.72       106\n",
            "   macro avg       0.57      0.54      0.54       106\n",
            "weighted avg       0.67      0.72      0.68       106\n",
            "\n"
          ]
        },
        {
          "output_type": "display_data",
          "data": {
            "text/plain": [
              "<Figure size 576x396 with 1 Axes>"
            ],
            "image/png": "[encoded data removed]"
          },
          "metadata": {}
        }
      ]
    },
    {
      "cell_type": "code",
      "source": [
        "ax = sns.heatmap(cm_knn_del/np.sum(cm_knn_del), annot=True,  cmap=\"Greens\")\n",
        "ax.set_title('Confusion Matrix KNN, Male Label with Fewer Men \\n\\n');\n",
        "ax.set_xlabel('\\nPredicted Values')\n",
        "ax.set_ylabel('Actual Values ');\n",
        "\n",
        "## Ticket labels - List must be in alphabetical order\n",
        "ax.xaxis.set_ticklabels(['False','True'])\n",
        "ax.yaxis.set_ticklabels(['False','True'])\n",
        "\n",
        "## Display the visualization of the Confusion Matrix.\n",
        "plt.show()"
      ],
      "metadata": {
        "colab": {
          "base_uri": "https://localhost:8080/",
          "height": 415
        },
        "id": "XiS2-UsfxC4J",
        "outputId": "d52b808f-65a3-405d-8312-f9a4ce47db04"
      },
      "execution_count": 232,
      "outputs": [
        {
          "output_type": "display_data",
          "data": {
            "text/plain": [
              "<Figure size 576x396 with 2 Axes>"
            ],
            "image/png": "[encoded data removed]"
          },
          "metadata": {}
        }
      ]
    },
    {
      "cell_type": "code",
      "source": [
        "print(rep_knn_model)"
      ],
      "metadata": {
        "colab": {
          "base_uri": "https://localhost:8080/"
        },
        "id": "ImvrsJvixJWj",
        "outputId": "f5d63427-8e61-456c-e4cb-edd69ca37568"
      },
      "execution_count": 233,
      "outputs": [
        {
          "output_type": "stream",
          "name": "stdout",
          "text": [
            "              precision    recall  f1-score   support\n",
            "\n",
            "           0       0.65      0.48      0.55        27\n",
            "           1       0.84      0.91      0.87        79\n",
            "\n",
            "    accuracy                           0.80       106\n",
            "   macro avg       0.74      0.70      0.71       106\n",
            "weighted avg       0.79      0.80      0.79       106\n",
            "\n"
          ]
        }
      ]
    },
    {
      "cell_type": "code",
      "source": [
        "ax = sns.heatmap(cm_lda_del/np.sum(cm_lda_del), annot=True,  cmap=\"Greens\")\n",
        "ax.set_title('Confusion Matrix LDA, Male Label with Fewer Men \\n\\n');\n",
        "ax.set_xlabel('\\nPredicted Values')\n",
        "ax.set_ylabel('Actual Values ');\n",
        "\n",
        "## Ticket labels - List must be in alphabetical order\n",
        "ax.xaxis.set_ticklabels(['False','True'])\n",
        "ax.yaxis.set_ticklabels(['False','True'])\n",
        "\n",
        "## Display the visualization of the Confusion Matrix.\n",
        "plt.show()"
      ],
      "metadata": {
        "colab": {
          "base_uri": "https://localhost:8080/",
          "height": 415
        },
        "id": "14jMRnOlxN4A",
        "outputId": "af823d89-98cb-4d53-8102-3b30b2757932"
      },
      "execution_count": 234,
      "outputs": [
        {
          "output_type": "display_data",
          "data": {
            "text/plain": [
              "<Figure size 576x396 with 2 Axes>"
            ],
            "image/png": "[encoded data removed]"
          },
          "metadata": {}
        }
      ]
    },
    {
      "cell_type": "code",
      "source": [
        "print(rep_lda_model)"
      ],
      "metadata": {
        "colab": {
          "base_uri": "https://localhost:8080/"
        },
        "id": "lbea0mwYa_ub",
        "outputId": "41e08525-cee0-4f30-9b33-bfefa9765982"
      },
      "execution_count": 235,
      "outputs": [
        {
          "output_type": "stream",
          "name": "stdout",
          "text": [
            "              precision    recall  f1-score   support\n",
            "\n",
            "           0       0.27      0.11      0.16        27\n",
            "           1       0.75      0.90      0.82        79\n",
            "\n",
            "    accuracy                           0.70       106\n",
            "   macro avg       0.51      0.50      0.49       106\n",
            "weighted avg       0.63      0.70      0.65       106\n",
            "\n"
          ]
        }
      ]
    },
    {
      "cell_type": "code",
      "source": [
        "ax = sns.heatmap(cm_reg_del/np.sum(cm_reg_del), annot=True,  cmap=\"Greens\")\n",
        "ax.set_title('Confusion Matrix Logistic Regression, Male Label with Fewer Men \\n\\n');\n",
        "ax.set_xlabel('\\nPredicted Values')\n",
        "ax.set_ylabel('Actual Values ');\n",
        "\n",
        "## Ticket labels - List must be in alphabetical order\n",
        "ax.xaxis.set_ticklabels(['False','True'])\n",
        "ax.yaxis.set_ticklabels(['False','True'])\n",
        "\n",
        "## Display the visualization of the Confusion Matrix.\n",
        "plt.show()"
      ],
      "metadata": {
        "colab": {
          "base_uri": "https://localhost:8080/",
          "height": 415
        },
        "id": "PEGP1SKmxVQC",
        "outputId": "ebe8ed14-898b-4570-8764-ac18b1058d25"
      },
      "execution_count": 236,
      "outputs": [
        {
          "output_type": "display_data",
          "data": {
            "text/plain": [
              "<Figure size 576x396 with 2 Axes>"
            ],
            "image/png": "[encoded data removed]"
          },
          "metadata": {}
        }
      ]
    },
    {
      "cell_type": "code",
      "source": [
        "print(rep_reg_model)"
      ],
      "metadata": {
        "colab": {
          "base_uri": "https://localhost:8080/"
        },
        "id": "gz0wwTqFa_2V",
        "outputId": "af8047ff-2757-450e-d714-60b9719fd476"
      },
      "execution_count": 237,
      "outputs": [
        {
          "output_type": "stream",
          "name": "stdout",
          "text": [
            "              precision    recall  f1-score   support\n",
            "\n",
            "           0       0.38      0.19      0.25        27\n",
            "           1       0.76      0.90      0.83        79\n",
            "\n",
            "    accuracy                           0.72       106\n",
            "   macro avg       0.57      0.54      0.54       106\n",
            "weighted avg       0.67      0.72      0.68       106\n",
            "\n"
          ]
        }
      ]
    },
    {
      "cell_type": "code",
      "source": [
        "accuracies_knn  = []\n",
        "accuracies_lda  = []\n",
        "accuracies_reg  = []\n",
        "\n",
        "attributes = list(X.columns.values)\n",
        "X = model_df.drop(['Male', 'Female'], axis = 1)\n",
        "y = model_df['Male']\n",
        "for x in attributes:\n",
        "  dummy_df = X.drop(x, axis = 1)\n",
        "  #print(\"For feature \", x)\n",
        "  # knn\n",
        "  acc_knn, rep_knn, cm_knn = model(dummy_df, y, 5, \"knn\",0)\n",
        "  accuracies_knn.append(acc_knn)\n",
        "\n",
        "  #lda\n",
        "  acc_lda, rep_lda, cm_lda = model(dummy_df, y, 5, \"lda\",0)\n",
        "  accuracies_lda.append(acc_lda)\n",
        "\n",
        "  #reg\n",
        "  acc_reg, rep_reg, cm_reg = model(dummy_df, y, 5, \"reg\",0)\n",
        "  accuracies_reg.append(acc_reg)"
      ],
      "metadata": {
        "colab": {
          "base_uri": "https://localhost:8080/",
          "height": 575
        },
        "id": "TEW7i2LzSwBC",
        "outputId": "aa82a3e9-7d4f-4978-c9e2-e4a9c2053c90"
      },
      "execution_count": 238,
      "outputs": [
        {
          "output_type": "stream",
          "name": "stderr",
          "text": [
            "/usr/local/lib/python3.7/dist-packages/sklearn/metrics/_classification.py:1318: UndefinedMetricWarning: Precision and F-score are ill-defined and being set to 0.0 in labels with no predicted samples. Use `zero_division` parameter to control this behavior.\n",
            "  _warn_prf(average, modifier, msg_start, len(result))\n",
            "/usr/local/lib/python3.7/dist-packages/sklearn/metrics/_classification.py:1318: UndefinedMetricWarning: Precision and F-score are ill-defined and being set to 0.0 in labels with no predicted samples. Use `zero_division` parameter to control this behavior.\n",
            "  _warn_prf(average, modifier, msg_start, len(result))\n",
            "/usr/local/lib/python3.7/dist-packages/sklearn/metrics/_classification.py:1318: UndefinedMetricWarning: Precision and F-score are ill-defined and being set to 0.0 in labels with no predicted samples. Use `zero_division` parameter to control this behavior.\n",
            "  _warn_prf(average, modifier, msg_start, len(result))\n",
            "/usr/local/lib/python3.7/dist-packages/sklearn/metrics/_classification.py:1318: UndefinedMetricWarning: Precision and F-score are ill-defined and being set to 0.0 in labels with no predicted samples. Use `zero_division` parameter to control this behavior.\n",
            "  _warn_prf(average, modifier, msg_start, len(result))\n",
            "/usr/local/lib/python3.7/dist-packages/sklearn/metrics/_classification.py:1318: UndefinedMetricWarning: Precision and F-score are ill-defined and being set to 0.0 in labels with no predicted samples. Use `zero_division` parameter to control this behavior.\n",
            "  _warn_prf(average, modifier, msg_start, len(result))\n",
            "/usr/local/lib/python3.7/dist-packages/sklearn/metrics/_classification.py:1318: UndefinedMetricWarning: Precision and F-score are ill-defined and being set to 0.0 in labels with no predicted samples. Use `zero_division` parameter to control this behavior.\n",
            "  _warn_prf(average, modifier, msg_start, len(result))\n"
          ]
        },
        {
          "output_type": "display_data",
          "data": {
            "text/plain": [
              "<Figure size 576x396 with 1 Axes>"
            ],
            "image/png": "[encoded data removed]"
          },
          "metadata": {}
        }
      ]
    },
    {
      "cell_type": "code",
      "source": [
        "accuracies_knn = [x - acc_knn for x in accuracies_knn]\n",
        "accuracies_lda = [x - acc_lda for x in accuracies_lda]\n",
        "accuracies_reg = [x - acc_reg for x in accuracies_reg]"
      ],
      "metadata": {
        "id": "9T2hCDyUb39H"
      },
      "execution_count": 239,
      "outputs": []
    },
    {
      "cell_type": "code",
      "source": [
        "att_acc = pd.DataFrame({'Knn' : accuracies_knn,\n",
        "                        'LDA' : accuracies_lda,\n",
        "                        'REG' : accuracies_reg})\n",
        "\n",
        "att_acc = att_acc.T\n",
        "att_acc.columns = attributes"
      ],
      "metadata": {
        "id": "hRDh6CGeZIqL"
      },
      "execution_count": 240,
      "outputs": []
    },
    {
      "cell_type": "code",
      "source": [
        "att_acc = att_acc.T"
      ],
      "metadata": {
        "id": "dVDx15o1Zgte"
      },
      "execution_count": 241,
      "outputs": []
    },
    {
      "cell_type": "code",
      "source": [
        "att_acc"
      ],
      "metadata": {
        "colab": {
          "base_uri": "https://localhost:8080/",
          "height": 614
        },
        "id": "AtS-4V_Hd5NB",
        "outputId": "ec28188d-1c7f-4d46-e489-3789e2d1d20f"
      },
      "execution_count": 242,
      "outputs": [
        {
          "output_type": "execute_result",
          "data": {
            "text/plain": [
              "                                  Knn       LDA           REG\n",
              "YearsExperienceGermany       0.000000  0.005660 -3.773585e-03\n",
              "MainSkill                   -0.001940  0.000000 -3.738318e-03\n",
              "SecondarySkills              0.007565  0.013208  0.000000e+00\n",
              "BrutSalary                   0.011321 -0.003774  1.110223e-16\n",
              "BrutSalaryAndStocks         -0.005660  0.018868  1.886792e-03\n",
              "AnnualBrutLastYear           0.022536  0.015094 -3.773585e-03\n",
              "AnnualBrutAndStocksLastYear  0.016963  0.007547 -1.886792e-03\n",
              "VacationDays                 0.000000  0.011321  1.886792e-03\n",
              "CompanySize                  0.024458  0.005660 -9.433962e-03\n",
              "CompanyType                  0.018780  0.007547  1.110223e-16\n",
              "HoursIfShorterWeek           0.000000 -0.001887  3.773585e-03\n",
              "AdditionalMonetarySupport    0.000000  0.005660  0.000000e+00\n",
              "SeniorityLevel               0.000000  0.013208 -5.660377e-03\n",
              "EmploymentType               0.000000  0.013208  1.886792e-03\n",
              "Type_Temporary contract      0.000000  0.016981 -1.886792e-03\n",
              "Type_Unlimited contract      0.000000  0.011321 -1.886792e-03\n",
              "LossOfJobCorona_No           0.000000  0.001887 -1.886792e-03\n",
              "LossOfJobCorona_Yes          0.000000  0.000000  0.000000e+00"
            ],
            "text/html": [
              "\n",
              "  <div id=\"df-4bd9d9ef-578e-4770-8af7-08b0efa65280\">\n",
              "    <div class=\"colab-df-container\">\n",
              "      <div>\n",
              "<style scoped>\n",
              "    .dataframe tbody tr th:only-of-type {\n",
              "        vertical-align: middle;\n",
              "    }\n",
              "\n",
              "    .dataframe tbody tr th {\n",
              "        vertical-align: top;\n",
              "    }\n",
              "\n",
              "    .dataframe thead th {\n",
              "        text-align: right;\n",
              "    }\n",
              "</style>\n",
              "<table border=\"1\" class=\"dataframe\">\n",
              "  <thead>\n",
              "    <tr style=\"text-align: right;\">\n",
              "      <th></th>\n",
              "      <th>Knn</th>\n",
              "      <th>LDA</th>\n",
              "      <th>REG</th>\n",
              "    </tr>\n",
              "  </thead>\n",
              "  <tbody>\n",
              "    <tr>\n",
              "      <th>YearsExperienceGermany</th>\n",
              "      <td>0.000000</td>\n",
              "      <td>0.005660</td>\n",
              "      <td>-3.773585e-03</td>\n",
              "    </tr>\n",
              "    <tr>\n",
              "      <th>MainSkill</th>\n",
              "      <td>-0.001940</td>\n",
              "      <td>0.000000</td>\n",
              "      <td>-3.738318e-03</td>\n",
              "    </tr>\n",
              "    <tr>\n",
              "      <th>SecondarySkills</th>\n",
              "      <td>0.007565</td>\n",
              "      <td>0.013208</td>\n",
              "      <td>0.000000e+00</td>\n",
              "    </tr>\n",
              "    <tr>\n",
              "      <th>BrutSalary</th>\n",
              "      <td>0.011321</td>\n",
              "      <td>-0.003774</td>\n",
              "      <td>1.110223e-16</td>\n",
              "    </tr>\n",
              "    <tr>\n",
              "      <th>BrutSalaryAndStocks</th>\n",
              "      <td>-0.005660</td>\n",
              "      <td>0.018868</td>\n",
              "      <td>1.886792e-03</td>\n",
              "    </tr>\n",
              "    <tr>\n",
              "      <th>AnnualBrutLastYear</th>\n",
              "      <td>0.022536</td>\n",
              "      <td>0.015094</td>\n",
              "      <td>-3.773585e-03</td>\n",
              "    </tr>\n",
              "    <tr>\n",
              "      <th>AnnualBrutAndStocksLastYear</th>\n",
              "      <td>0.016963</td>\n",
              "      <td>0.007547</td>\n",
              "      <td>-1.886792e-03</td>\n",
              "    </tr>\n",
              "    <tr>\n",
              "      <th>VacationDays</th>\n",
              "      <td>0.000000</td>\n",
              "      <td>0.011321</td>\n",
              "      <td>1.886792e-03</td>\n",
              "    </tr>\n",
              "    <tr>\n",
              "      <th>CompanySize</th>\n",
              "      <td>0.024458</td>\n",
              "      <td>0.005660</td>\n",
              "      <td>-9.433962e-03</td>\n",
              "    </tr>\n",
              "    <tr>\n",
              "      <th>CompanyType</th>\n",
              "      <td>0.018780</td>\n",
              "      <td>0.007547</td>\n",
              "      <td>1.110223e-16</td>\n",
              "    </tr>\n",
              "    <tr>\n",
              "      <th>HoursIfShorterWeek</th>\n",
              "      <td>0.000000</td>\n",
              "      <td>-0.001887</td>\n",
              "      <td>3.773585e-03</td>\n",
              "    </tr>\n",
              "    <tr>\n",
              "      <th>AdditionalMonetarySupport</th>\n",
              "      <td>0.000000</td>\n",
              "      <td>0.005660</td>\n",
              "      <td>0.000000e+00</td>\n",
              "    </tr>\n",
              "    <tr>\n",
              "      <th>SeniorityLevel</th>\n",
              "      <td>0.000000</td>\n",
              "      <td>0.013208</td>\n",
              "      <td>-5.660377e-03</td>\n",
              "    </tr>\n",
              "    <tr>\n",
              "      <th>EmploymentType</th>\n",
              "      <td>0.000000</td>\n",
              "      <td>0.013208</td>\n",
              "      <td>1.886792e-03</td>\n",
              "    </tr>\n",
              "    <tr>\n",
              "      <th>Type_Temporary contract</th>\n",
              "      <td>0.000000</td>\n",
              "      <td>0.016981</td>\n",
              "      <td>-1.886792e-03</td>\n",
              "    </tr>\n",
              "    <tr>\n",
              "      <th>Type_Unlimited contract</th>\n",
              "      <td>0.000000</td>\n",
              "      <td>0.011321</td>\n",
              "      <td>-1.886792e-03</td>\n",
              "    </tr>\n",
              "    <tr>\n",
              "      <th>LossOfJobCorona_No</th>\n",
              "      <td>0.000000</td>\n",
              "      <td>0.001887</td>\n",
              "      <td>-1.886792e-03</td>\n",
              "    </tr>\n",
              "    <tr>\n",
              "      <th>LossOfJobCorona_Yes</th>\n",
              "      <td>0.000000</td>\n",
              "      <td>0.000000</td>\n",
              "      <td>0.000000e+00</td>\n",
              "    </tr>\n",
              "  </tbody>\n",
              "</table>\n",
              "</div>\n",
              "      <button class=\"colab-df-convert\" onclick=\"convertToInteractive('df-4bd9d9ef-578e-4770-8af7-08b0efa65280')\"\n",
              "              title=\"Convert this dataframe to an interactive table.\"\n",
              "              style=\"display:none;\">\n",
              "        \n",
              "  <svg xmlns=\"http://www.w3.org/2000/svg\" height=\"24px\"viewBox=\"0 0 24 24\"\n",
              "       width=\"24px\">\n",
              "    <path d=\"M0 0h24v24H0V0z\" fill=\"none\"/>\n",
              "    <path d=\"M18.56 5.44l.94 2.06.94-2.06 2.06-.94-2.06-.94-.94-2.06-.94 2.06-2.06.94zm-11 1L8.5 8.5l.94-2.06 2.06-.94-2.06-.94L8.5 2.5l-.94 2.06-2.06.94zm10 10l.94 2.06.94-2.06 2.06-.94-2.06-.94-.94-2.06-.94 2.06-2.06.94z\"/><path d=\"M17.41 7.96l-1.37-1.37c-.4-.4-.92-.59-1.43-.59-.52 0-1.04.2-1.43.59L10.3 9.45l-7.72 7.72c-.78.78-.78 2.05 0 2.83L4 21.41c.39.39.9.59 1.41.59.51 0 1.02-.2 1.41-.59l7.78-7.78 2.81-2.81c.8-.78.8-2.07 0-2.86zM5.41 20L4 18.59l7.72-7.72 1.47 1.35L5.41 20z\"/>\n",
              "  </svg>\n",
              "      </button>\n",
              "      \n",
              "  <style>\n",
              "    .colab-df-container {\n",
              "      display:flex;\n",
              "      flex-wrap:wrap;\n",
              "      gap: 12px;\n",
              "    }\n",
              "\n",
              "    .colab-df-convert {\n",
              "      background-color: #E8F0FE;\n",
              "      border: none;\n",
              "      border-radius: 50%;\n",
              "      cursor: pointer;\n",
              "      display: none;\n",
              "      fill: #1967D2;\n",
              "      height: 32px;\n",
              "      padding: 0 0 0 0;\n",
              "      width: 32px;\n",
              "    }\n",
              "\n",
              "    .colab-df-convert:hover {\n",
              "      background-color: #E2EBFA;\n",
              "      box-shadow: 0px 1px 2px rgba(60, 64, 67, 0.3), 0px 1px 3px 1px rgba(60, 64, 67, 0.15);\n",
              "      fill: #174EA6;\n",
              "    }\n",
              "\n",
              "    [theme=dark] .colab-df-convert {\n",
              "      background-color: #3B4455;\n",
              "      fill: #D2E3FC;\n",
              "    }\n",
              "\n",
              "    [theme=dark] .colab-df-convert:hover {\n",
              "      background-color: #434B5C;\n",
              "      box-shadow: 0px 1px 3px 1px rgba(0, 0, 0, 0.15);\n",
              "      filter: drop-shadow(0px 1px 2px rgba(0, 0, 0, 0.3));\n",
              "      fill: #FFFFFF;\n",
              "    }\n",
              "  </style>\n",
              "\n",
              "      <script>\n",
              "        const buttonEl =\n",
              "          document.querySelector('#df-4bd9d9ef-578e-4770-8af7-08b0efa65280 button.colab-df-convert');\n",
              "        buttonEl.style.display =\n",
              "          google.colab.kernel.accessAllowed ? 'block' : 'none';\n",
              "\n",
              "        async function convertToInteractive(key) {\n",
              "          const element = document.querySelector('#df-4bd9d9ef-578e-4770-8af7-08b0efa65280');\n",
              "          const dataTable =\n",
              "            await google.colab.kernel.invokeFunction('convertToInteractive',\n",
              "                                                     [key], {});\n",
              "          if (!dataTable) return;\n",
              "\n",
              "          const docLinkHtml = 'Like what you see? Visit the ' +\n",
              "            '<a target=\"_blank\" href=https://colab.research.google.com/notebooks/data_table.ipynb>data table notebook</a>'\n",
              "            + ' to learn more about interactive tables.';\n",
              "          element.innerHTML = '';\n",
              "          dataTable['output_type'] = 'display_data';\n",
              "          await google.colab.output.renderOutput(dataTable, element);\n",
              "          const docLink = document.createElement('div');\n",
              "          docLink.innerHTML = docLinkHtml;\n",
              "          element.appendChild(docLink);\n",
              "        }\n",
              "      </script>\n",
              "    </div>\n",
              "  </div>\n",
              "  "
            ]
          },
          "metadata": {},
          "execution_count": 242
        }
      ]
    },
    {
      "cell_type": "code",
      "source": [
        "att_acc_knn = att_acc['Knn']\n",
        "att_acc_knn = att_acc_knn.reindex(att_acc_knn.sort_values(ascending=False).index)\n",
        "ax = att_acc_knn.plot(kind='barh', figsize=(6, 5), color='green')\n",
        "plt.title('KNN Margins')\n",
        "plt.xlim(-0.04, 0.04)\n",
        "plt.axvline(x=0, color='.5')"
      ],
      "metadata": {
        "colab": {
          "base_uri": "https://localhost:8080/",
          "height": 352
        },
        "id": "tdPlGKCpduCr",
        "outputId": "7fcd8115-04e5-4d61-a29f-a4444b369cb4"
      },
      "execution_count": 243,
      "outputs": [
        {
          "output_type": "execute_result",
          "data": {
            "text/plain": [
              "<matplotlib.lines.Line2D at 0x7f4af66255d0>"
            ]
          },
          "metadata": {},
          "execution_count": 243
        },
        {
          "output_type": "display_data",
          "data": {
            "text/plain": [
              "<Figure size 432x360 with 1 Axes>"
            ],
            "image/png": "[encoded data removed]"
          },
          "metadata": {}
        }
      ]
    },
    {
      "cell_type": "code",
      "source": [
        "att_acc_lda = att_acc['LDA']\n",
        "att_acc_lda = att_acc_lda.reindex(att_acc_lda.sort_values(ascending=False).index)\n",
        "ax = att_acc_lda.plot(kind='barh', figsize=(6, 5), color='green')\n",
        "plt.title('LDA Margins')\n",
        "plt.xlim(-0.04, 0.04)\n",
        "plt.axvline(x=0, color='.5')"
      ],
      "metadata": {
        "colab": {
          "base_uri": "https://localhost:8080/",
          "height": 352
        },
        "id": "SanlHzbfeMj4",
        "outputId": "7b75e10c-66d8-414d-8796-29d78f12bf26"
      },
      "execution_count": 244,
      "outputs": [
        {
          "output_type": "execute_result",
          "data": {
            "text/plain": [
              "<matplotlib.lines.Line2D at 0x7f4af5fe14d0>"
            ]
          },
          "metadata": {},
          "execution_count": 244
        },
        {
          "output_type": "display_data",
          "data": {
            "text/plain": [
              "<Figure size 432x360 with 1 Axes>"
            ],
            "image/png": "[encoded data removed]"
          },
          "metadata": {}
        }
      ]
    },
    {
      "cell_type": "code",
      "source": [
        "att_acc_reg = att_acc['LDA']\n",
        "att_acc_reg = att_acc_reg.reindex(att_acc_reg.sort_values(ascending=False).index)\n",
        "ax = att_acc_reg.plot(kind='barh', figsize=(6, 5), color='green')\n",
        "plt.title('REG Margins')\n",
        "plt.xlim(-0.04, 0.04)\n",
        "plt.axvline(x=0, color='.5')"
      ],
      "metadata": {
        "colab": {
          "base_uri": "https://localhost:8080/",
          "height": 352
        },
        "id": "vCbGRbgCeWZ2",
        "outputId": "212b257c-2911-4144-eb9a-096e0d537802"
      },
      "execution_count": 245,
      "outputs": [
        {
          "output_type": "execute_result",
          "data": {
            "text/plain": [
              "<matplotlib.lines.Line2D at 0x7f4af5ae2f10>"
            ]
          },
          "metadata": {},
          "execution_count": 245
        },
        {
          "output_type": "display_data",
          "data": {
            "text/plain": [
              "<Figure size 432x360 with 1 Axes>"
            ],
            "image/png": "[encoded data removed]"
          },
          "metadata": {}
        }
      ]
    },
    {
      "cell_type": "code",
      "source": [
        "#Evaluate importance of variables\n",
        "from sklearn.tree import DecisionTreeClassifier\n",
        "clf = DecisionTreeClassifier()\n",
        "\n",
        "X = df.drop(['Male', 'Female'], axis = 1)\n",
        "Y = df['Male']\n",
        "clf.fit(X, Y)\n",
        "importances = list(clf.feature_importances_)\n",
        "indices = np.argsort(importances)[::-1]\n",
        "feature_names = list(X.columns)\n",
        "\n",
        "\n",
        "imp = pd.DataFrame(zip(feature_names,importances), columns =['Feature', 'Relevance'])\n",
        "\n",
        "p = sns.set_color_codes(\"muted\")\n",
        "p = sns.barplot(x='Relevance', y='Feature', data=imp, color=\"g\")"
      ],
      "metadata": {
        "colab": {
          "base_uri": "https://localhost:8080/",
          "height": 361
        },
        "id": "CuuuXNgXKpDE",
        "outputId": "b4c4a344-bb0f-43ee-d079-fd1a264e0eaa"
      },
      "execution_count": 246,
      "outputs": [
        {
          "output_type": "display_data",
          "data": {
            "text/plain": [
              "<Figure size 576x396 with 1 Axes>"
            ],
            "image/png": "[encoded data removed]"
          },
          "metadata": {}
        }
      ]
    },
    {
      "cell_type": "code",
      "source": [
        "from sklearn.ensemble import RandomForestClassifier\n",
        "from sklearn.model_selection import StratifiedKFold\n",
        "from yellowbrick.model_selection import RFECV\n",
        "\n",
        "\n",
        "cv = StratifiedKFold(5)\n",
        "visualizer = RFECV(RandomForestClassifier(), cv=cv, scoring='f1_weighted')\n",
        "\n",
        "visualizer.fit(X, Y)        # Fit the data to the visualizer\n",
        "visualizer.show()           # Finalize and render the figure"
      ],
      "metadata": {
        "colab": {
          "base_uri": "https://localhost:8080/",
          "height": 393
        },
        "id": "PvI2H8naMElh",
        "outputId": "a82447ff-c845-42c9-bd1d-7223372f2bdc"
      },
      "execution_count": 247,
      "outputs": [
        {
          "output_type": "display_data",
          "data": {
            "text/plain": [
              "<Figure size 576x396 with 1 Axes>"
            ],
            "image/png": "[encoded data removed]"
          },
          "metadata": {}
        },
        {
          "output_type": "execute_result",
          "data": {
            "text/plain": [
              "<matplotlib.axes._subplots.AxesSubplot at 0x7f4af58edd50>"
            ]
          },
          "metadata": {},
          "execution_count": 247
        }
      ]
    }
  ]
}